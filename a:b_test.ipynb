{
 "cells": [
  {
   "cell_type": "markdown",
   "metadata": {},
   "source": [
    "<div style=\"border:solid Chocolate 2px; padding: 40px\">\n",
    "\n",
    "<b> Данил, привет!👋</b>\n",
    "\n",
    "Меня зовут Алексей Гриб, и я буду ревьюером твоего проекта. \n",
    "\n",
    "Сразу хочу предложить в дальнейшем общаться на \"ты\" - надеюсь, так будет комфортнее:) Но если это неудобно, обязательно дай знать, и мы придумаем что-нибудь ещё!\n",
    "    \n",
    "Цель ревью - не искать ошибки в твоём проекте, а помочь тебе сделать твою работу ещё лучше, устранив недочёты и приблизив её к реальным задачам аналитика. Поэтому не расстраивайся, если что-то не получилось с первого раза - это нормально, и это поможет тебе вырасти!\n",
    "    \n",
    "Ты можешь найти мои комментарии, обозначенные <font color='green'>зеленым</font>, <font color='gold'>желтым</font> и <font color='red'>красным</font> цветами, например:\n",
    "\n",
    "<br/>\n",
    "\n",
    "<div class=\"alert alert-success\">\n",
    "<h2> Комментарий ревьюера <a class=\"tocSkip\"> </h2>\n",
    "\n",
    "<b>Все отлично!👍:</b> похвала, рекомендации «со звёздочкой», полезные лайфхаки, которые сделают и без того красивое решение ещё более элегантным.\n",
    "</div>\n",
    "\n",
    "<br/>\n",
    "\n",
    "<div class=\"alert alert-warning\">\n",
    "    <h2> Комментарий ревьюера <a class=\"tocSkip\"> </h2>\n",
    "    \n",
    "<b>Некоторые замечания и рекомендации⚠️:</b> некритичные ошибки или развивающие рекомендации на будущее. \n",
    "</div>\n",
    "\n",
    "\n",
    "<br/>\n",
    "<div class=\"alert alert-block alert-danger\">\n",
    "<h2> Комментарий ревьюера <a class=\"tocSkip\"></h2>\n",
    "\n",
    "    \n",
    "<b>На доработку❌:</b>\n",
    "Критичные ошибки, которые обязательно нужно исправить.\n",
    "</div>\n",
    "\n",
    "Я не смогу принять проект, если в нём будет хотя бы одна критичная ошибка или несколько некритичных ошибок - тогда проект нужно будет немного доработать. Но это нестрашно - я обязательно дам тебе подсказку или укажу верное направление.\n",
    "    \n",
    "Пожалуйста, не удаляй мои комментарии, они будут особенно полезны для нашей работы в случае повторной проверки проекта. \n",
    "    \n",
    "Ты также можешь задавать свои вопросы, реагировать на мои комментарии, делать пометки и пояснения - полная творческая свобода! Но маленькая просьба - пускай они будут отличаться от моих комментариев, это поможет избежать путаницы в нашем общении:)\n",
    "Например, вот так:\n",
    "    \n",
    "<div class=\"alert alert-info\">\n",
    "<h2> Комментарий студента <a class=\"tocSkip\"> </h2>\n",
    "\n",
    "*твой текст*\n",
    "</div>\n",
    "    \n",
    "Давай посмотрим на твой проект!"
   ]
  },
  {
   "cell_type": "markdown",
   "metadata": {},
   "source": [
    "<div class=\"alert alert-info\"> <b>Комментарии студента:</b> Привет! Спасибо что проверил мою работу так тщательно . Я постарлся проработать все замечания. Хорошего дня! \n",
    "</div>"
   ]
  },
  {
   "cell_type": "markdown",
   "metadata": {},
   "source": [
    "<div class=\"alert alert-success\">\n",
    "<h2> Комментарий ревьюера v.2 <a class=\"tocSkip\"> </h2>\n",
    "\n",
    "<b>Все отлично!👍:</b> Надеюсь, было полезно:)"
   ]
  },
  {
   "cell_type": "markdown",
   "metadata": {},
   "source": [
    "<div class=\"alert alert-info\"> <b>Комментарии студента:</b> Привет! (￣^￣)ゞ\n",
    "\n",
    "Вот мой проект, надеюсь, что все хорошо и не придется 100 раз отпрявлять его тебе на ревью! Даже если так получится, то с удовольстием буду переделывать! Спасибо за твое время, надеюсь ты не будешь сидеть с фейспалмом при проверке  (－‸ლ) . \n",
    "\n",
    "Посылаю лучи добра (⊃｡•́‿•̀｡)⊃━✿✿✿✿✿✿\n",
    "    \n",
    "P.S. вроде бы все сделал что требовалось \n",
    "\n",
    "P.S.S. под срередину проекта мне надоело давать имена новым данным не как в теории из курса, но я старался все писать сам и только подглядывал туда чтобы точно не ошибится\n",
    "\n",
    "\n",
    "</div>"
   ]
  },
  {
   "cell_type": "markdown",
   "metadata": {},
   "source": [
    "<div class=\"alert alert-success\">\n",
    "<h2> Комментарий ревьюера <a class=\"tocSkip\"> </h2>\n",
    "\n",
    "<b>Все отлично!👍:</b> Спасибо за тёплое вступление:) Тут многие копируют переменные из тренажёра, так что ничего страшного:)"
   ]
  },
  {
   "cell_type": "markdown",
   "metadata": {},
   "source": [
    "ЦЕЛЬ:\n",
    "- Необходимо приоритизировать гипотезы из списка гипотез, предоставленных отделом Маркетинга;\n",
    "- Провести анализ результатов проведенного А/В-тестирования и аргументировать решение по результатам теста. Варианты решений:\n",
    " -  остановить тест, зафиксировать победу одной из групп.\n",
    " -  остановить тест, зафиксировать отсутствие различий между группами.\n",
    " -  продолжить тест."
   ]
  },
  {
   "cell_type": "markdown",
   "metadata": {},
   "source": [
    "Описание данных:\n",
    "\n",
    "\n",
    "- Список гипотез (файл hypothesis.csv)\n",
    " - Hypothesis — краткое описание гипотезы;\n",
    " - Reach — охват пользователей по 10-балльной шкале;\n",
    " - Impact — влияние на пользователей по 10-балльной шкале;\n",
    " - Confidence — уверенность в гипотезе по 10-балльной шкале;\n",
    " - Efforts — затраты ресурсов на проверку гипотезы по 10-балльной шкале.\n",
    " \n",
    "\n",
    "- Информация о заказах пользователей в интернет-магазине (файл orders.csv.)\n",
    " - transactionId — идентификатор заказа;\n",
    " - visitorId — идентификатор пользователя, совершившего заказ;\n",
    " - date — дата, когда был совершён заказ;\n",
    " - revenue — выручка заказа;\n",
    " - group — группа A/B-теста, в которую попал заказ.\n",
    " \n",
    "\n",
    "- Информация о посещениях пользователями интернет-магазина (файл visitors.csv)\n",
    " - date — дата;\n",
    " - group — группа A/B-теста;\n",
    " - visitors — количество пользователей в указанную дату в указанной группе A/B-теста."
   ]
  },
  {
   "cell_type": "markdown",
   "metadata": {},
   "source": [
    "<div class=\"alert alert-success\">\n",
    "<h2> Комментарий ревьюера <a class=\"tocSkip\"> </h2>\n",
    "\n",
    "<b>Все отлично!👍:</b> Есть небольшое вступление - хороший старт.\n",
    "    \n",
    "Спасибо, что есть оглавление в плагине toc - по проекту удобно перемещаться:)"
   ]
  },
  {
   "cell_type": "markdown",
   "metadata": {},
   "source": [
    "<div class=\"alert alert-warning\">\n",
    "    <h2> Комментарий ревьюера <a class=\"tocSkip\"> </h2>\n",
    "    \n",
    "<b>Некоторые замечания и рекомендации⚠️:</b>\n",
    "Вступление к твоему проекту станет лучше, если добавить в него:\n",
    "- название проекта (`Анализ результатов А/В теста`, `Принятие решений в бизнесе` или что-то похожее);\n",
    "- задачи проекта (маленькие шаги по достижению цели проекта, в нашем проекте это могут быть этапы самого проекта в соответствии с его разделами);\n",
    "- описание данных (можно также скопировать из вводной части).\n",
    "</div>"
   ]
  },
  {
   "cell_type": "markdown",
   "metadata": {},
   "source": [
    "<div class=\"alert alert-info\"> <b>Комментарии студента:</b> \n",
    "Переписал цель проекта, добавил основные задачи и описание данных\n",
    "</div>"
   ]
  },
  {
   "cell_type": "markdown",
   "metadata": {},
   "source": [
    "<div class=\"alert alert-success\">\n",
    "<h2> Комментарий ревьюера v.2 <a class=\"tocSkip\"> </h2>\n",
    "\n",
    "<b>Все отлично!👍:</b> Отлично!"
   ]
  },
  {
   "cell_type": "markdown",
   "metadata": {},
   "source": [
    "## Обзор и предобработка данных"
   ]
  },
  {
   "cell_type": "code",
   "execution_count": 1,
   "metadata": {},
   "outputs": [],
   "source": [
    "# импортруем библиотеки\n",
    "import pandas as pd\n",
    "import matplotlib.pyplot as plt\n",
    "import numpy as np\n",
    "import scipy.stats as stats\n",
    "import datetime as dt"
   ]
  },
  {
   "cell_type": "markdown",
   "metadata": {},
   "source": [
    "<div class=\"alert alert-success\">\n",
    "<h2> Комментарий ревьюера <a class=\"tocSkip\"> </h2>\n",
    "\n",
    "<b>Все отлично!👍:</b> Библиотеки импортировали - отлично! Спасибо, что перезапускаешь проект перед отправкой на ревью - это важный шаг, который поможет избежать простых и досадных ошибок при воспроизведении решнеия:)\n",
    "</div>"
   ]
  },
  {
   "cell_type": "code",
   "execution_count": 2,
   "metadata": {},
   "outputs": [],
   "source": [
    "try:\n",
    "    hypothesis, orders, visitors = (\n",
    "                            pd.read_csv('/datasets/hypothesis.csv', sep=','),\n",
    "                            pd.read_csv('/datasets/orders.csv', sep=','),\n",
    "                            pd.read_csv('/datasets/visitors.csv', sep=',')\n",
    "                            )\n",
    "except:\n",
    "    hypothesis, orders, visitors = (\n",
    "                            pd.read_csv('hypothesis.csv'),\n",
    "                            pd.read_csv('orders.csv'),\n",
    "                            pd.read_csv('visitors.csv')\n",
    "                            )"
   ]
  },
  {
   "cell_type": "markdown",
   "metadata": {},
   "source": [
    "<div class=\"alert alert-success\">\n",
    "<h2> Комментарий ревьюера <a class=\"tocSkip\"> </h2>\n",
    "\n",
    "<b>Все отлично!👍:</b>\n",
    " \n",
    "Данные загрузили - отлично!\n",
    "    \n",
    "Здорово, что ты используешь конструкцию ``try-except`` для путей файлов. Но еще лучше использовать библиотеку `os` - её использование позволит тебе проверять существование указанных директорий (что может быть актуально при одновременной работа на локальном и сетевом окружении) и загружать данные из существующей директории, избегая ошибок. Как пример:\n",
    "    \n",
    "    import os\n",
    "\n",
    "    pth1 = '/folder_1/data.csv'\n",
    "    pth2 = '/folder_2/data.csv'\n",
    "    \n",
    "    if os.path.exists(pth1):\n",
    "        query_1 = pd.read_csv(pth1)\n",
    "    elif os.path.exists(pth2):\n",
    "        query_1 = pd.read_csv(pth2)\n",
    "    else:\n",
    "        print('Something is wrong')\n",
    "    \n",
    "Ещё на этапе считывания данных можно спарсить дату: за это действие отвечает параметр `parse_dates` метода `read_csv()`, в него нужно передать список с названием полей-дат, и в большинстве случаев дата будет корректно преобразована в нужный формат сразу:)\n",
    "Также на этапе считывания данных задать индекс-столбец- за это действие отвечает параметр `index_col`."
   ]
  },
  {
   "cell_type": "markdown",
   "metadata": {},
   "source": [
    "## Датасет hypothesis"
   ]
  },
  {
   "cell_type": "code",
   "execution_count": 3,
   "metadata": {},
   "outputs": [
    {
     "data": {
      "text/html": [
       "<div>\n",
       "<style scoped>\n",
       "    .dataframe tbody tr th:only-of-type {\n",
       "        vertical-align: middle;\n",
       "    }\n",
       "\n",
       "    .dataframe tbody tr th {\n",
       "        vertical-align: top;\n",
       "    }\n",
       "\n",
       "    .dataframe thead th {\n",
       "        text-align: right;\n",
       "    }\n",
       "</style>\n",
       "<table border=\"1\" class=\"dataframe\">\n",
       "  <thead>\n",
       "    <tr style=\"text-align: right;\">\n",
       "      <th></th>\n",
       "      <th>Hypothesis</th>\n",
       "      <th>Reach</th>\n",
       "      <th>Impact</th>\n",
       "      <th>Confidence</th>\n",
       "      <th>Efforts</th>\n",
       "    </tr>\n",
       "  </thead>\n",
       "  <tbody>\n",
       "    <tr>\n",
       "      <th>0</th>\n",
       "      <td>Добавить два новых канала привлечения трафика, что позволит привлекать на 30% больше пользователей</td>\n",
       "      <td>3</td>\n",
       "      <td>10</td>\n",
       "      <td>8</td>\n",
       "      <td>6</td>\n",
       "    </tr>\n",
       "    <tr>\n",
       "      <th>1</th>\n",
       "      <td>Запустить собственную службу доставки, что сократит срок доставки заказов</td>\n",
       "      <td>2</td>\n",
       "      <td>5</td>\n",
       "      <td>4</td>\n",
       "      <td>10</td>\n",
       "    </tr>\n",
       "    <tr>\n",
       "      <th>2</th>\n",
       "      <td>Добавить блоки рекомендаций товаров на сайт интернет магазина, чтобы повысить конверсию и средний чек заказа</td>\n",
       "      <td>8</td>\n",
       "      <td>3</td>\n",
       "      <td>7</td>\n",
       "      <td>3</td>\n",
       "    </tr>\n",
       "    <tr>\n",
       "      <th>3</th>\n",
       "      <td>Изменить структура категорий, что увеличит конверсию, т.к. пользователи быстрее найдут нужный товар</td>\n",
       "      <td>8</td>\n",
       "      <td>3</td>\n",
       "      <td>3</td>\n",
       "      <td>8</td>\n",
       "    </tr>\n",
       "    <tr>\n",
       "      <th>4</th>\n",
       "      <td>Изменить цвет фона главной страницы, чтобы увеличить вовлеченность пользователей</td>\n",
       "      <td>3</td>\n",
       "      <td>1</td>\n",
       "      <td>1</td>\n",
       "      <td>1</td>\n",
       "    </tr>\n",
       "    <tr>\n",
       "      <th>5</th>\n",
       "      <td>Добавить страницу отзывов клиентов о магазине, что позволит увеличить количество заказов</td>\n",
       "      <td>3</td>\n",
       "      <td>2</td>\n",
       "      <td>2</td>\n",
       "      <td>3</td>\n",
       "    </tr>\n",
       "    <tr>\n",
       "      <th>6</th>\n",
       "      <td>Показать на главной странице баннеры с актуальными акциями и распродажами, чтобы увеличить конверсию</td>\n",
       "      <td>5</td>\n",
       "      <td>3</td>\n",
       "      <td>8</td>\n",
       "      <td>3</td>\n",
       "    </tr>\n",
       "    <tr>\n",
       "      <th>7</th>\n",
       "      <td>Добавить форму подписки на все основные страницы, чтобы собрать базу клиентов для email-рассылок</td>\n",
       "      <td>10</td>\n",
       "      <td>7</td>\n",
       "      <td>8</td>\n",
       "      <td>5</td>\n",
       "    </tr>\n",
       "    <tr>\n",
       "      <th>8</th>\n",
       "      <td>Запустить акцию, дающую скидку на товар в день рождения</td>\n",
       "      <td>1</td>\n",
       "      <td>9</td>\n",
       "      <td>9</td>\n",
       "      <td>5</td>\n",
       "    </tr>\n",
       "  </tbody>\n",
       "</table>\n",
       "</div>"
      ],
      "text/plain": [
       "                                                                                                     Hypothesis  \\\n",
       "0            Добавить два новых канала привлечения трафика, что позволит привлекать на 30% больше пользователей   \n",
       "1                                     Запустить собственную службу доставки, что сократит срок доставки заказов   \n",
       "2  Добавить блоки рекомендаций товаров на сайт интернет магазина, чтобы повысить конверсию и средний чек заказа   \n",
       "3           Изменить структура категорий, что увеличит конверсию, т.к. пользователи быстрее найдут нужный товар   \n",
       "4                              Изменить цвет фона главной страницы, чтобы увеличить вовлеченность пользователей   \n",
       "5                      Добавить страницу отзывов клиентов о магазине, что позволит увеличить количество заказов   \n",
       "6          Показать на главной странице баннеры с актуальными акциями и распродажами, чтобы увеличить конверсию   \n",
       "7              Добавить форму подписки на все основные страницы, чтобы собрать базу клиентов для email-рассылок   \n",
       "8                                                       Запустить акцию, дающую скидку на товар в день рождения   \n",
       "\n",
       "   Reach  Impact  Confidence  Efforts  \n",
       "0      3      10           8        6  \n",
       "1      2       5           4       10  \n",
       "2      8       3           7        3  \n",
       "3      8       3           3        8  \n",
       "4      3       1           1        1  \n",
       "5      3       2           2        3  \n",
       "6      5       3           8        3  \n",
       "7     10       7           8        5  \n",
       "8      1       9           9        5  "
      ]
     },
     "metadata": {},
     "output_type": "display_data"
    },
    {
     "name": "stdout",
     "output_type": "stream",
     "text": [
      "<class 'pandas.core.frame.DataFrame'>\n",
      "RangeIndex: 9 entries, 0 to 8\n",
      "Data columns (total 5 columns):\n",
      " #   Column      Non-Null Count  Dtype \n",
      "---  ------      --------------  ----- \n",
      " 0   Hypothesis  9 non-null      object\n",
      " 1   Reach       9 non-null      int64 \n",
      " 2   Impact      9 non-null      int64 \n",
      " 3   Confidence  9 non-null      int64 \n",
      " 4   Efforts     9 non-null      int64 \n",
      "dtypes: int64(4), object(1)\n",
      "memory usage: 488.0+ bytes\n",
      "None\n"
     ]
    }
   ],
   "source": [
    "# снимаем ограничение на количество столбцов и их ширину\n",
    "pd.set_option('display.max_columns', None)\n",
    "pd.set_option('display.max_colwidth', None)\n",
    "\n",
    "display(hypothesis)\n",
    "print(hypothesis.info())\n"
   ]
  },
  {
   "cell_type": "markdown",
   "metadata": {},
   "source": [
    "## Датасет orders"
   ]
  },
  {
   "cell_type": "code",
   "execution_count": 4,
   "metadata": {},
   "outputs": [
    {
     "data": {
      "text/html": [
       "<div>\n",
       "<style scoped>\n",
       "    .dataframe tbody tr th:only-of-type {\n",
       "        vertical-align: middle;\n",
       "    }\n",
       "\n",
       "    .dataframe tbody tr th {\n",
       "        vertical-align: top;\n",
       "    }\n",
       "\n",
       "    .dataframe thead th {\n",
       "        text-align: right;\n",
       "    }\n",
       "</style>\n",
       "<table border=\"1\" class=\"dataframe\">\n",
       "  <thead>\n",
       "    <tr style=\"text-align: right;\">\n",
       "      <th></th>\n",
       "      <th>transactionId</th>\n",
       "      <th>visitorId</th>\n",
       "      <th>date</th>\n",
       "      <th>revenue</th>\n",
       "      <th>group</th>\n",
       "    </tr>\n",
       "  </thead>\n",
       "  <tbody>\n",
       "    <tr>\n",
       "      <th>0</th>\n",
       "      <td>3667963787</td>\n",
       "      <td>3312258926</td>\n",
       "      <td>2019-08-15</td>\n",
       "      <td>1650</td>\n",
       "      <td>B</td>\n",
       "    </tr>\n",
       "    <tr>\n",
       "      <th>1</th>\n",
       "      <td>2804400009</td>\n",
       "      <td>3642806036</td>\n",
       "      <td>2019-08-15</td>\n",
       "      <td>730</td>\n",
       "      <td>B</td>\n",
       "    </tr>\n",
       "    <tr>\n",
       "      <th>2</th>\n",
       "      <td>2961555356</td>\n",
       "      <td>4069496402</td>\n",
       "      <td>2019-08-15</td>\n",
       "      <td>400</td>\n",
       "      <td>A</td>\n",
       "    </tr>\n",
       "    <tr>\n",
       "      <th>3</th>\n",
       "      <td>3797467345</td>\n",
       "      <td>1196621759</td>\n",
       "      <td>2019-08-15</td>\n",
       "      <td>9759</td>\n",
       "      <td>B</td>\n",
       "    </tr>\n",
       "    <tr>\n",
       "      <th>4</th>\n",
       "      <td>2282983706</td>\n",
       "      <td>2322279887</td>\n",
       "      <td>2019-08-15</td>\n",
       "      <td>2308</td>\n",
       "      <td>B</td>\n",
       "    </tr>\n",
       "  </tbody>\n",
       "</table>\n",
       "</div>"
      ],
      "text/plain": [
       "   transactionId   visitorId        date  revenue group\n",
       "0     3667963787  3312258926  2019-08-15     1650     B\n",
       "1     2804400009  3642806036  2019-08-15      730     B\n",
       "2     2961555356  4069496402  2019-08-15      400     A\n",
       "3     3797467345  1196621759  2019-08-15     9759     B\n",
       "4     2282983706  2322279887  2019-08-15     2308     B"
      ]
     },
     "metadata": {},
     "output_type": "display_data"
    },
    {
     "name": "stdout",
     "output_type": "stream",
     "text": [
      "<class 'pandas.core.frame.DataFrame'>\n",
      "RangeIndex: 1197 entries, 0 to 1196\n",
      "Data columns (total 5 columns):\n",
      " #   Column         Non-Null Count  Dtype \n",
      "---  ------         --------------  ----- \n",
      " 0   transactionId  1197 non-null   int64 \n",
      " 1   visitorId      1197 non-null   int64 \n",
      " 2   date           1197 non-null   object\n",
      " 3   revenue        1197 non-null   int64 \n",
      " 4   group          1197 non-null   object\n",
      "dtypes: int64(3), object(2)\n",
      "memory usage: 46.9+ KB\n",
      "None\n"
     ]
    }
   ],
   "source": [
    "display(orders.head())\n",
    "print(orders.info())"
   ]
  },
  {
   "cell_type": "markdown",
   "metadata": {},
   "source": [
    "<div class=\"alert alert-info\"> <b>Комментарии студента:</b> Ох как же я помучался с этими датами, сначала приводил по другому, но метод из курса сработа на 100%. До этого максимальная дата была 16 августа а не 31, что меня прям бесило\n",
    "\n",
    "\n",
    "</div>"
   ]
  },
  {
   "cell_type": "markdown",
   "metadata": {},
   "source": [
    "<div class=\"alert alert-success\">\n",
    "<h2> Комментарий ревьюера <a class=\"tocSkip\"> </h2>\n",
    "\n",
    "<b>Все отлично!👍:</b>\n",
    " \n",
    "Здорово, что разобрался:)"
   ]
  },
  {
   "cell_type": "code",
   "execution_count": 5,
   "metadata": {},
   "outputs": [
    {
     "name": "stdout",
     "output_type": "stream",
     "text": [
      "0\n",
      "transactionId    0\n",
      "visitorId        0\n",
      "date             0\n",
      "revenue          0\n",
      "group            0\n",
      "dtype: int64\n"
     ]
    }
   ],
   "source": [
    "# изменение типа данных столбца date, проверка на дубликаты и пропуски\n",
    "orders['date'] = orders['date'].map(lambda x: dt.datetime.strptime(x, '%Y-%m-%d'))\n",
    "\n",
    "print(orders.duplicated().sum())\n",
    "print(orders.isnull().sum())"
   ]
  },
  {
   "cell_type": "markdown",
   "metadata": {},
   "source": [
    "## Датасет visitors"
   ]
  },
  {
   "cell_type": "code",
   "execution_count": 6,
   "metadata": {},
   "outputs": [
    {
     "data": {
      "text/html": [
       "<div>\n",
       "<style scoped>\n",
       "    .dataframe tbody tr th:only-of-type {\n",
       "        vertical-align: middle;\n",
       "    }\n",
       "\n",
       "    .dataframe tbody tr th {\n",
       "        vertical-align: top;\n",
       "    }\n",
       "\n",
       "    .dataframe thead th {\n",
       "        text-align: right;\n",
       "    }\n",
       "</style>\n",
       "<table border=\"1\" class=\"dataframe\">\n",
       "  <thead>\n",
       "    <tr style=\"text-align: right;\">\n",
       "      <th></th>\n",
       "      <th>date</th>\n",
       "      <th>group</th>\n",
       "      <th>visitors</th>\n",
       "    </tr>\n",
       "  </thead>\n",
       "  <tbody>\n",
       "    <tr>\n",
       "      <th>0</th>\n",
       "      <td>2019-08-01</td>\n",
       "      <td>A</td>\n",
       "      <td>719</td>\n",
       "    </tr>\n",
       "    <tr>\n",
       "      <th>1</th>\n",
       "      <td>2019-08-02</td>\n",
       "      <td>A</td>\n",
       "      <td>619</td>\n",
       "    </tr>\n",
       "    <tr>\n",
       "      <th>2</th>\n",
       "      <td>2019-08-03</td>\n",
       "      <td>A</td>\n",
       "      <td>507</td>\n",
       "    </tr>\n",
       "    <tr>\n",
       "      <th>3</th>\n",
       "      <td>2019-08-04</td>\n",
       "      <td>A</td>\n",
       "      <td>717</td>\n",
       "    </tr>\n",
       "    <tr>\n",
       "      <th>4</th>\n",
       "      <td>2019-08-05</td>\n",
       "      <td>A</td>\n",
       "      <td>756</td>\n",
       "    </tr>\n",
       "  </tbody>\n",
       "</table>\n",
       "</div>"
      ],
      "text/plain": [
       "         date group  visitors\n",
       "0  2019-08-01     A       719\n",
       "1  2019-08-02     A       619\n",
       "2  2019-08-03     A       507\n",
       "3  2019-08-04     A       717\n",
       "4  2019-08-05     A       756"
      ]
     },
     "metadata": {},
     "output_type": "display_data"
    },
    {
     "name": "stdout",
     "output_type": "stream",
     "text": [
      "<class 'pandas.core.frame.DataFrame'>\n",
      "RangeIndex: 62 entries, 0 to 61\n",
      "Data columns (total 3 columns):\n",
      " #   Column    Non-Null Count  Dtype \n",
      "---  ------    --------------  ----- \n",
      " 0   date      62 non-null     object\n",
      " 1   group     62 non-null     object\n",
      " 2   visitors  62 non-null     int64 \n",
      "dtypes: int64(1), object(2)\n",
      "memory usage: 1.6+ KB\n",
      "None\n"
     ]
    }
   ],
   "source": [
    "display(visitors.head())\n",
    "print(visitors.info())"
   ]
  },
  {
   "cell_type": "code",
   "execution_count": 7,
   "metadata": {},
   "outputs": [
    {
     "name": "stdout",
     "output_type": "stream",
     "text": [
      "Группы ['A' 'B']\n"
     ]
    }
   ],
   "source": [
    "print('Группы',visitors['group'].unique())"
   ]
  },
  {
   "cell_type": "code",
   "execution_count": 8,
   "metadata": {},
   "outputs": [
    {
     "name": "stdout",
     "output_type": "stream",
     "text": [
      "0\n",
      "date        0\n",
      "group       0\n",
      "visitors    0\n",
      "dtype: int64\n"
     ]
    }
   ],
   "source": [
    "# изменение типа данных столбца date, проверка на дубликаты и пропуски\n",
    "visitors['date'] = visitors['date'].map(lambda x: dt.datetime.strptime(x, '%Y-%m-%d'))\n",
    "\n",
    "print(visitors.duplicated().sum())\n",
    "print(visitors.isnull().sum())"
   ]
  },
  {
   "cell_type": "code",
   "execution_count": 9,
   "metadata": {},
   "outputs": [
    {
     "name": "stdout",
     "output_type": "stream",
     "text": [
      "Index(['hypothesis', 'reach', 'impact', 'confidence', 'efforts'], dtype='object')\n",
      "Index(['transaction_id', 'visitor_id', 'date', 'revenue', 'group'], dtype='object')\n"
     ]
    }
   ],
   "source": [
    "# приведем наименования столбцов к единому стилю\n",
    "hypothesis.columns = hypothesis.columns.str.lower()\n",
    "orders.columns = [name.replace('Id', '_id') for name in orders.columns]\n",
    "\n",
    "print(hypothesis.columns)\n",
    "print(orders.columns)"
   ]
  },
  {
   "cell_type": "markdown",
   "metadata": {},
   "source": [
    "<div class=\"alert alert-success\">\n",
    "<h2> Комментарий ревьюера <a class=\"tocSkip\"> </h2>\n",
    "\n",
    "<b>Все отлично!👍:</b> Данные осмотрели, проверили пропуски и дубликаты, преобразовали дату и столбцы - отлично!"
   ]
  },
  {
   "cell_type": "code",
   "execution_count": 10,
   "metadata": {},
   "outputs": [
    {
     "name": "stdout",
     "output_type": "stream",
     "text": [
      "Начало теста 2019-08-01 00:00:00\n",
      "Окончание теста 2019-08-31 00:00:00\n"
     ]
    }
   ],
   "source": [
    "# проверка на длительность проведения теста \n",
    "print('Начало теста', min(visitors['date']))\n",
    "print('Окончание теста', max(visitors['date']))"
   ]
  },
  {
   "cell_type": "markdown",
   "metadata": {},
   "source": [
    "В нашем распоряжении данные за август 2019 года для двух групп А и В соответсвенно "
   ]
  },
  {
   "cell_type": "code",
   "execution_count": 11,
   "metadata": {},
   "outputs": [
    {
     "name": "stdout",
     "output_type": "stream",
     "text": [
      "Общее количество пользователей: 1031\n",
      "Количество пользователей в группе А: 503\n",
      "Количество пользователей в группе В: 586\n"
     ]
    }
   ],
   "source": [
    "#проверим распределине пользователей по группам \n",
    "print('Общее количество пользователей:', orders['visitor_id'].nunique())\n",
    "print('Количество пользователей в группе А:', orders.query('group == \"A\"')['visitor_id'].nunique())\n",
    "print('Количество пользователей в группе В:', orders.query('group == \"B\"')['visitor_id'].nunique())"
   ]
  },
  {
   "cell_type": "code",
   "execution_count": 12,
   "metadata": {},
   "outputs": [
    {
     "name": "stdout",
     "output_type": "stream",
     "text": [
      "            groups group_name\n",
      "visitor_id                   \n",
      "8300375          2     [B, A]\n",
      "199603092        2     [A, B]\n",
      "232979603        2     [B, A]\n",
      "237748145        2     [B, A]\n",
      "276558944        2     [B, A]\n",
      "Количество пользователей, попавших в обе группы: 58\n"
     ]
    }
   ],
   "source": [
    "#проверим есть ли пользователи которые находятся в обеих группах \n",
    "ab_users = orders.groupby('visitor_id').agg({'group': ['nunique', 'unique']})\n",
    "ab_users.columns = ['groups', 'group_name']\n",
    "ab_users = ab_users.query('groups > 1')\n",
    "print(ab_users.head())\n",
    "\n",
    "print('Количество пользователей, попавших в обе группы:',len(ab_users))"
   ]
  },
  {
   "cell_type": "markdown",
   "metadata": {},
   "source": [
    "58 пользователей находятся с разу в обеих группах, это практически по 10% в каждой группе. Их участие может исказить результаты и повлиять на расчет выбросов. \n",
    "\n",
    "Можео попробовать исключить этих пользовтелей из заказов. Правильно иключить их из датасета визитов не получится, так как данные в нем агрегированы. \n",
    "\n",
    "Оставлю без изменений\n"
   ]
  },
  {
   "cell_type": "markdown",
   "metadata": {},
   "source": [
    "<div class=\"alert alert-info\"> <b>Комментарии студента:</b> Добавил часть кода с проверкой на пользовтелей в обеих группах\n",
    "</div>"
   ]
  },
  {
   "cell_type": "markdown",
   "metadata": {},
   "source": [
    "<div class=\"alert alert-success\">\n",
    "<h2> Комментарий ревьюера <a class=\"tocSkip\"> </h2>\n",
    "\n",
    "<b>Все отлично!👍:</b> Основные параметры А/В теста выяснили - отлично!"
   ]
  },
  {
   "cell_type": "markdown",
   "metadata": {},
   "source": [
    "<div class=\"alert alert-block alert-danger\">\n",
    "<h2> Комментарий ревьюера <a class=\"tocSkip\"></h2>\n",
    "\n",
    "    \n",
    "<b>На доработку❌:</b>\n",
    "\n",
    "Очень важно также проверить, нет ли в данных пользователей, участвовавших в нескольких группах теста одновременно - это иногда случается в реальных А/В тестах из-за технических ошибок в распределяющей системе, и такие моменты важно отлавливать, потому что пользователи, участвующие в нескольких группах, не позволят проверсти корректное сравнение среднего количества заказов на посетителя между группами: если, например, пользователь, участвующий в обоих группах, совершил целевое событие, мы не сможем оценить, повлияло на это нововведение в системе, или это стандартное повдение пользователя.\n",
    "    \n",
    "Если такие пользователи найдутся, тебе, как аналитику, важно сделать вывод и принять решение о том, как дальше работать с такими пользователями - удалить из данных или продолжить работать с данными с учётом таких пользователей."
   ]
  },
  {
   "cell_type": "markdown",
   "metadata": {},
   "source": [
    "<div class=\"alert alert-success\">\n",
    "<h2> Комментарий ревьюера v.2 <a class=\"tocSkip\"> </h2>\n",
    "\n",
    "<b>Все отлично!👍:</b> Учтено."
   ]
  },
  {
   "cell_type": "markdown",
   "metadata": {},
   "source": [
    "# Приоритизация гипотез."
   ]
  },
  {
   "cell_type": "markdown",
   "metadata": {},
   "source": [
    "## Фреймворк ICE для приоритизации гипотез"
   ]
  },
  {
   "cell_type": "markdown",
   "metadata": {},
   "source": [
    "Применим один из самых популярных методов приоритезации гипотез - ICE (от. англ.: Impact, Confidence, Effort/ Влияние, Уверенность, Усилия)"
   ]
  },
  {
   "cell_type": "code",
   "execution_count": 13,
   "metadata": {},
   "outputs": [
    {
     "data": {
      "text/html": [
       "<div>\n",
       "<style scoped>\n",
       "    .dataframe tbody tr th:only-of-type {\n",
       "        vertical-align: middle;\n",
       "    }\n",
       "\n",
       "    .dataframe tbody tr th {\n",
       "        vertical-align: top;\n",
       "    }\n",
       "\n",
       "    .dataframe thead th {\n",
       "        text-align: right;\n",
       "    }\n",
       "</style>\n",
       "<table border=\"1\" class=\"dataframe\">\n",
       "  <thead>\n",
       "    <tr style=\"text-align: right;\">\n",
       "      <th></th>\n",
       "      <th>hypothesis</th>\n",
       "      <th>ICE</th>\n",
       "    </tr>\n",
       "  </thead>\n",
       "  <tbody>\n",
       "    <tr>\n",
       "      <th>8</th>\n",
       "      <td>Запустить акцию, дающую скидку на товар в день рождения</td>\n",
       "      <td>16.20</td>\n",
       "    </tr>\n",
       "    <tr>\n",
       "      <th>0</th>\n",
       "      <td>Добавить два новых канала привлечения трафика, что позволит привлекать на 30% больше пользователей</td>\n",
       "      <td>13.33</td>\n",
       "    </tr>\n",
       "    <tr>\n",
       "      <th>7</th>\n",
       "      <td>Добавить форму подписки на все основные страницы, чтобы собрать базу клиентов для email-рассылок</td>\n",
       "      <td>11.20</td>\n",
       "    </tr>\n",
       "    <tr>\n",
       "      <th>6</th>\n",
       "      <td>Показать на главной странице баннеры с актуальными акциями и распродажами, чтобы увеличить конверсию</td>\n",
       "      <td>8.00</td>\n",
       "    </tr>\n",
       "    <tr>\n",
       "      <th>2</th>\n",
       "      <td>Добавить блоки рекомендаций товаров на сайт интернет магазина, чтобы повысить конверсию и средний чек заказа</td>\n",
       "      <td>7.00</td>\n",
       "    </tr>\n",
       "    <tr>\n",
       "      <th>1</th>\n",
       "      <td>Запустить собственную службу доставки, что сократит срок доставки заказов</td>\n",
       "      <td>2.00</td>\n",
       "    </tr>\n",
       "    <tr>\n",
       "      <th>5</th>\n",
       "      <td>Добавить страницу отзывов клиентов о магазине, что позволит увеличить количество заказов</td>\n",
       "      <td>1.33</td>\n",
       "    </tr>\n",
       "    <tr>\n",
       "      <th>3</th>\n",
       "      <td>Изменить структура категорий, что увеличит конверсию, т.к. пользователи быстрее найдут нужный товар</td>\n",
       "      <td>1.12</td>\n",
       "    </tr>\n",
       "    <tr>\n",
       "      <th>4</th>\n",
       "      <td>Изменить цвет фона главной страницы, чтобы увеличить вовлеченность пользователей</td>\n",
       "      <td>1.00</td>\n",
       "    </tr>\n",
       "  </tbody>\n",
       "</table>\n",
       "</div>"
      ],
      "text/plain": [
       "                                                                                                     hypothesis  \\\n",
       "8                                                       Запустить акцию, дающую скидку на товар в день рождения   \n",
       "0            Добавить два новых канала привлечения трафика, что позволит привлекать на 30% больше пользователей   \n",
       "7              Добавить форму подписки на все основные страницы, чтобы собрать базу клиентов для email-рассылок   \n",
       "6          Показать на главной странице баннеры с актуальными акциями и распродажами, чтобы увеличить конверсию   \n",
       "2  Добавить блоки рекомендаций товаров на сайт интернет магазина, чтобы повысить конверсию и средний чек заказа   \n",
       "1                                     Запустить собственную службу доставки, что сократит срок доставки заказов   \n",
       "5                      Добавить страницу отзывов клиентов о магазине, что позволит увеличить количество заказов   \n",
       "3           Изменить структура категорий, что увеличит конверсию, т.к. пользователи быстрее найдут нужный товар   \n",
       "4                              Изменить цвет фона главной страницы, чтобы увеличить вовлеченность пользователей   \n",
       "\n",
       "     ICE  \n",
       "8  16.20  \n",
       "0  13.33  \n",
       "7  11.20  \n",
       "6   8.00  \n",
       "2   7.00  \n",
       "1   2.00  \n",
       "5   1.33  \n",
       "3   1.12  \n",
       "4   1.00  "
      ]
     },
     "metadata": {},
     "output_type": "display_data"
    }
   ],
   "source": [
    "hypothesis['ICE'] = round((hypothesis['impact'] * hypothesis['confidence']) / hypothesis['efforts'] , 2)\n",
    "display(hypothesis[['hypothesis', 'ICE']].sort_values(by='ICE', ascending=False))"
   ]
  },
  {
   "cell_type": "markdown",
   "metadata": {},
   "source": [
    "Наиболее приоритетная гипотеза №9: \"Запустить акцию, дающую скидку на товар в день рождения\""
   ]
  },
  {
   "cell_type": "markdown",
   "metadata": {},
   "source": [
    "<div class=\"alert alert-success\">\n",
    "<h2> Комментарий ревьюера <a class=\"tocSkip\"> </h2>\n",
    "\n",
    "<b>Все отлично!👍:</b> Приоритизация по ICE в порядке!"
   ]
  },
  {
   "cell_type": "markdown",
   "metadata": {},
   "source": [
    "<div class=\"alert alert-info\"> <b>Комментарии студента:</b> Округлил значения, добавил коменатрий про ICE\n",
    "</div>"
   ]
  },
  {
   "cell_type": "markdown",
   "metadata": {},
   "source": [
    "<div class=\"alert alert-warning\">\n",
    "    <h2> Комментарий ревьюера <a class=\"tocSkip\"> </h2>\n",
    "    \n",
    "<b>Некоторые замечания и рекомендации⚠️:</b> \n",
    "\n",
    "Значение метрики стоит округлить до двух знаков после запятой."
   ]
  },
  {
   "cell_type": "markdown",
   "metadata": {},
   "source": [
    "<div class=\"alert alert-success\">\n",
    "<h2> Комментарий ревьюера v.2 <a class=\"tocSkip\"> </h2>\n",
    "\n",
    "<b>Все отлично!👍:</b> Учтено.\n",
    "    "
   ]
  },
  {
   "cell_type": "markdown",
   "metadata": {},
   "source": [
    "## Фреймворк RICE для приоритизации гипотез"
   ]
  },
  {
   "cell_type": "markdown",
   "metadata": {},
   "source": [
    "Добавим к расчету параметр Reach (англ.: Охват) и приоритезируем гипотезы по методу RICE."
   ]
  },
  {
   "cell_type": "code",
   "execution_count": 14,
   "metadata": {},
   "outputs": [
    {
     "data": {
      "text/html": [
       "<div>\n",
       "<style scoped>\n",
       "    .dataframe tbody tr th:only-of-type {\n",
       "        vertical-align: middle;\n",
       "    }\n",
       "\n",
       "    .dataframe tbody tr th {\n",
       "        vertical-align: top;\n",
       "    }\n",
       "\n",
       "    .dataframe thead th {\n",
       "        text-align: right;\n",
       "    }\n",
       "</style>\n",
       "<table border=\"1\" class=\"dataframe\">\n",
       "  <thead>\n",
       "    <tr style=\"text-align: right;\">\n",
       "      <th></th>\n",
       "      <th>hypothesis</th>\n",
       "      <th>RICE</th>\n",
       "    </tr>\n",
       "  </thead>\n",
       "  <tbody>\n",
       "    <tr>\n",
       "      <th>7</th>\n",
       "      <td>Добавить форму подписки на все основные страницы, чтобы собрать базу клиентов для email-рассылок</td>\n",
       "      <td>112.0</td>\n",
       "    </tr>\n",
       "    <tr>\n",
       "      <th>2</th>\n",
       "      <td>Добавить блоки рекомендаций товаров на сайт интернет магазина, чтобы повысить конверсию и средний чек заказа</td>\n",
       "      <td>56.0</td>\n",
       "    </tr>\n",
       "    <tr>\n",
       "      <th>0</th>\n",
       "      <td>Добавить два новых канала привлечения трафика, что позволит привлекать на 30% больше пользователей</td>\n",
       "      <td>40.0</td>\n",
       "    </tr>\n",
       "    <tr>\n",
       "      <th>6</th>\n",
       "      <td>Показать на главной странице баннеры с актуальными акциями и распродажами, чтобы увеличить конверсию</td>\n",
       "      <td>40.0</td>\n",
       "    </tr>\n",
       "    <tr>\n",
       "      <th>8</th>\n",
       "      <td>Запустить акцию, дающую скидку на товар в день рождения</td>\n",
       "      <td>16.2</td>\n",
       "    </tr>\n",
       "    <tr>\n",
       "      <th>3</th>\n",
       "      <td>Изменить структура категорий, что увеличит конверсию, т.к. пользователи быстрее найдут нужный товар</td>\n",
       "      <td>9.0</td>\n",
       "    </tr>\n",
       "    <tr>\n",
       "      <th>1</th>\n",
       "      <td>Запустить собственную службу доставки, что сократит срок доставки заказов</td>\n",
       "      <td>4.0</td>\n",
       "    </tr>\n",
       "    <tr>\n",
       "      <th>5</th>\n",
       "      <td>Добавить страницу отзывов клиентов о магазине, что позволит увеличить количество заказов</td>\n",
       "      <td>4.0</td>\n",
       "    </tr>\n",
       "    <tr>\n",
       "      <th>4</th>\n",
       "      <td>Изменить цвет фона главной страницы, чтобы увеличить вовлеченность пользователей</td>\n",
       "      <td>3.0</td>\n",
       "    </tr>\n",
       "  </tbody>\n",
       "</table>\n",
       "</div>"
      ],
      "text/plain": [
       "                                                                                                     hypothesis  \\\n",
       "7              Добавить форму подписки на все основные страницы, чтобы собрать базу клиентов для email-рассылок   \n",
       "2  Добавить блоки рекомендаций товаров на сайт интернет магазина, чтобы повысить конверсию и средний чек заказа   \n",
       "0            Добавить два новых канала привлечения трафика, что позволит привлекать на 30% больше пользователей   \n",
       "6          Показать на главной странице баннеры с актуальными акциями и распродажами, чтобы увеличить конверсию   \n",
       "8                                                       Запустить акцию, дающую скидку на товар в день рождения   \n",
       "3           Изменить структура категорий, что увеличит конверсию, т.к. пользователи быстрее найдут нужный товар   \n",
       "1                                     Запустить собственную службу доставки, что сократит срок доставки заказов   \n",
       "5                      Добавить страницу отзывов клиентов о магазине, что позволит увеличить количество заказов   \n",
       "4                              Изменить цвет фона главной страницы, чтобы увеличить вовлеченность пользователей   \n",
       "\n",
       "    RICE  \n",
       "7  112.0  \n",
       "2   56.0  \n",
       "0   40.0  \n",
       "6   40.0  \n",
       "8   16.2  \n",
       "3    9.0  \n",
       "1    4.0  \n",
       "5    4.0  \n",
       "4    3.0  "
      ]
     },
     "metadata": {},
     "output_type": "display_data"
    }
   ],
   "source": [
    "hypothesis['RICE'] = (hypothesis['reach'] * hypothesis['impact'] * hypothesis['confidence']) / hypothesis['efforts']\n",
    "display(hypothesis[['hypothesis', 'RICE']].sort_values(by='RICE', ascending=False))"
   ]
  },
  {
   "cell_type": "markdown",
   "metadata": {},
   "source": [
    "Приоритетная гипотеза №8: \"Добавить форму подписки на все основные страницы, чтобы собрать базу клиентов для email-рассылок:"
   ]
  },
  {
   "cell_type": "markdown",
   "metadata": {},
   "source": [
    "Разница приоритезиций заключается в том, что одна учитывает кол-во пользователей, которых затронут изменения, а другая - нет."
   ]
  },
  {
   "cell_type": "markdown",
   "metadata": {},
   "source": [
    "При расчете RICE на первое место вышла 8 гипотеза : \"Добавить форму подписки на все основные страницы, чтобы собрать базу клиентов для email-рассылок\", поскольку на значимость гипотезы влияет и охват пользователей Reach. Это и будет наиболее приоритетная гипотеза"
   ]
  },
  {
   "cell_type": "markdown",
   "metadata": {},
   "source": [
    "<div class=\"alert alert-success\">\n",
    "<h2> Комментарий ревьюера <a class=\"tocSkip\"> </h2>\n",
    "\n",
    "<b>Все отлично!👍:</b> Приоритизация по RICE выполнена."
   ]
  },
  {
   "cell_type": "markdown",
   "metadata": {},
   "source": [
    "<div class=\"alert alert-info\"> <b>Комментарии студента:</b> Прокоментировал разницу ICE и RICE. Подправил выводы (перед отправкой работы я писал почему выбираем 8 гипотезу приоритетной, не значаю почему не сохранилось).\n",
    "</div>"
   ]
  },
  {
   "cell_type": "markdown",
   "metadata": {},
   "source": [
    "<div class=\"alert alert-block alert-danger\">\n",
    "<h2> Комментарий ревьюера <a class=\"tocSkip\"></h2>\n",
    "\n",
    "    \n",
    "<b>На доработку❌:</b>\n",
    "Важно пояснить, чем отличаются фреймворки `ICE` и `RICE` между собой - сделать это можно либо перед приоритизацией, либо в выводе выше.\n",
    "    \n",
    "В выводе важно добавить, какие гипотезы вышли на лидирующие позиции в зависимости от применяемого фреймворка.\n",
    "</div>"
   ]
  },
  {
   "cell_type": "markdown",
   "metadata": {},
   "source": [
    "<div class=\"alert alert-success\">\n",
    "<h2> Комментарий ревьюера v.2 <a class=\"tocSkip\"> </h2>\n",
    "\n",
    "<b>Все отлично!👍:</b> Учтено."
   ]
  },
  {
   "cell_type": "markdown",
   "metadata": {},
   "source": [
    "##  График кумулятивной выручки по группам"
   ]
  },
  {
   "cell_type": "code",
   "execution_count": 15,
   "metadata": {},
   "outputs": [],
   "source": [
    "dates_groups = orders[['date', 'group']].drop_duplicates()\n",
    "\n",
    "orders_aggregated = dates_groups.apply(\n",
    "    lambda x: orders[\n",
    "        np.logical_and(\n",
    "            orders['date'] <= x['date'], orders['group'] == x['group']\n",
    "        )\n",
    "    ].agg(\n",
    "        {\n",
    "            'date': 'max',\n",
    "            'group': 'max',\n",
    "            'transaction_id': 'nunique',\n",
    "            'visitor_id': 'nunique',\n",
    "            'revenue': 'sum',\n",
    "        }\n",
    "    ),\n",
    "    axis=1,\n",
    ").sort_values(by=['date', 'group'])\n",
    "\n",
    "visitors_aggregated = dates_groups.apply(\n",
    "    lambda x: visitors[\n",
    "        np.logical_and(\n",
    "            visitors['date'] <= x['date'], visitors['group'] == x['group']\n",
    "        )\n",
    "    ].agg({'date': 'max', 'group': 'max', 'visitors': 'sum'}),\n",
    "    axis=1,\n",
    ").sort_values(by=['date', 'group'])\n",
    "\n",
    "cumulative_data = orders_aggregated.merge(\n",
    "    visitors_aggregated, left_on=['date', 'group'], right_on=['date', 'group']\n",
    ")\n",
    "cumulative_data.columns = [\n",
    "    'date',\n",
    "    'group',\n",
    "    'orders',\n",
    "    'buyers',\n",
    "    'revenue',\n",
    "    'visitors',\n",
    "]"
   ]
  },
  {
   "cell_type": "markdown",
   "metadata": {},
   "source": [
    "<div class=\"alert alert-success\">\n",
    "<h2> Комментарий ревьюера <a class=\"tocSkip\"> </h2>\n",
    "\n",
    "<b>Все отлично!👍:</b> Кумулятивные данные собрали - отлично!"
   ]
  },
  {
   "cell_type": "code",
   "execution_count": 16,
   "metadata": {},
   "outputs": [
    {
     "data": {
      "image/png": "[encoded data removed]",
      "text/plain": [
       "<Figure size 720x360 with 1 Axes>"
      ]
     },
     "metadata": {
      "needs_background": "light"
     },
     "output_type": "display_data"
    }
   ],
   "source": [
    "# датафрейм с кумулятивным количеством заказов и кумулятивной выручкой по дням в группе А\n",
    "cumulative_revenue_A = cumulative_data[cumulative_data['group'] == 'A'][['date', 'revenue', 'orders']]\n",
    "\n",
    "# датафрейм с кумулятивным количеством заказов и кумулятивной выручкой по дням в группе B\n",
    "cumulative_revenue_B = cumulative_data[cumulative_data['group'] == 'B'][['date', 'revenue', 'orders']]\n",
    "\n",
    "plt.figure(figsize=(10, 5))\n",
    "# Строим график выручки группы А\n",
    "plt.plot(cumulative_revenue_A['date'], cumulative_revenue_A['revenue'], label='A')\n",
    "# Строим график выручки группы B\n",
    "plt.plot(cumulative_revenue_B['date'], cumulative_revenue_B['revenue'], label='B')\n",
    "plt.legend()\n",
    "plt.title('График кумулятивной выручки по группам')\n",
    "plt.xlabel('Дата')\n",
    "plt.ylabel('Выручка')\n",
    "plt.show()"
   ]
  },
  {
   "cell_type": "markdown",
   "metadata": {},
   "source": [
    "По графикам видно, что выручка группы В стабильно выше выручки группы А. Также заметен резкий скачок группы В в районе 18 августа, причиной которого скорее всего явлется крупный заказ ."
   ]
  },
  {
   "cell_type": "markdown",
   "metadata": {},
   "source": [
    "## График кумулятивного среднего чека по группам."
   ]
  },
  {
   "cell_type": "code",
   "execution_count": 17,
   "metadata": {},
   "outputs": [
    {
     "data": {
      "image/png": "[encoded data removed]",
      "text/plain": [
       "<Figure size 720x360 with 1 Axes>"
      ]
     },
     "metadata": {
      "needs_background": "light"
     },
     "output_type": "display_data"
    }
   ],
   "source": [
    "plt.figure(figsize=(10, 5))\n",
    "plt.plot(cumulative_revenue_A['date'], cumulative_revenue_A['revenue']/cumulative_revenue_A['orders'], label='A')\n",
    "plt.plot(cumulative_revenue_B['date'], cumulative_revenue_B['revenue']/cumulative_revenue_B['orders'], label='B')\n",
    "plt.legend()\n",
    "plt.title('График кумулятивного среднего чека по группам')\n",
    "plt.xlabel('Дата')\n",
    "plt.ylabel('Средний чек')\n",
    "plt.show()"
   ]
  },
  {
   "cell_type": "markdown",
   "metadata": {},
   "source": [
    "В период примерно с 10 по 14 августа средний чек группы В опустился ниже среднего чека группы А. После этого последовало резкое движение среднего чека группы В вверх 18 августа, подтверждающее наличие крупного заказа в тот день."
   ]
  },
  {
   "cell_type": "markdown",
   "metadata": {},
   "source": [
    "## График относительного изменения кумулятивного среднего чека группы B к группе A"
   ]
  },
  {
   "cell_type": "code",
   "execution_count": 18,
   "metadata": {},
   "outputs": [
    {
     "data": {
      "image/png": "[encoded data removed]",
      "text/plain": [
       "<Figure size 720x360 with 1 Axes>"
      ]
     },
     "metadata": {
      "needs_background": "light"
     },
     "output_type": "display_data"
    }
   ],
   "source": [
    "merged_cumulative_revenue = cumulative_revenue_A.merge(cumulative_revenue_B, left_on='date', right_on='date', how='left', suffixes=['A', 'B'])\n",
    "plt.figure(figsize=(10, 5))\n",
    "plt.plot(merged_cumulative_revenue['date'], (merged_cumulative_revenue['revenueB']/merged_cumulative_revenue['ordersB'])/ (merged_cumulative_revenue['revenueA']/merged_cumulative_revenue['ordersA']) - 1)\n",
    "plt.axhline(y=0, color='black', linestyle='--')\n",
    "plt.title('График относительного изменения кумулятивного среднего чека группы B к группе A')\n",
    "plt.xlabel('Дата')\n",
    "plt.ylabel('Относительное изм-е среднего чека группы В к А')\n",
    "plt.show()"
   ]
  },
  {
   "cell_type": "markdown",
   "metadata": {},
   "source": [
    "На графике видно как сильно менялись значения в определенные даты. Скорее всего это вызвано аномальными заказами "
   ]
  },
  {
   "cell_type": "markdown",
   "metadata": {},
   "source": [
    "## График кумулятивного среднего количества заказов на посетителя по группам"
   ]
  },
  {
   "cell_type": "code",
   "execution_count": 19,
   "metadata": {},
   "outputs": [
    {
     "data": {
      "image/png": "[encoded data removed]",
      "text/plain": [
       "<Figure size 720x360 with 1 Axes>"
      ]
     },
     "metadata": {
      "needs_background": "light"
     },
     "output_type": "display_data"
    }
   ],
   "source": [
    "plt.figure(figsize=(10, 5))\n",
    "cumulative_data['conversion'] = cumulative_data['orders']/cumulative_data['visitors']\n",
    "cumulative_data_A = cumulative_data[cumulative_data['group'] == 'A']\n",
    "cumulative_data_B = cumulative_data[cumulative_data['group'] == 'B']\n",
    "\n",
    "plt.plot(cumulative_data_A['date'], cumulative_data_A['conversion'], label='A')\n",
    "plt.plot(cumulative_data_B['date'], cumulative_data_B['conversion'], label='B')\n",
    "plt.legend()\n",
    "plt.title('График кумулятивного среднего количества заказов на посетителя по группам')\n",
    "plt.xlabel('Дата')\n",
    "plt.ylabel('Среднее число заказов на посетителя')\n",
    "plt.show()"
   ]
  },
  {
   "cell_type": "markdown",
   "metadata": {},
   "source": [
    "Кумулятивное среднее количество заказов группы В стабильно выше, чем у группы А."
   ]
  },
  {
   "cell_type": "markdown",
   "metadata": {},
   "source": [
    "<div class=\"alert alert-info\"> <b>Комментарии студента:</b> Подправил описание графика, теперь вроде бы все совпадает\n",
    "</div>"
   ]
  },
  {
   "cell_type": "markdown",
   "metadata": {},
   "source": [
    "<div class=\"alert alert-block alert-danger\">\n",
    "<h2> Комментарий ревьюера <a class=\"tocSkip\"></h2>\n",
    "\n",
    "    \n",
    "<b>На доработку❌:</b>\n",
    "\n",
    "Тут в целом верно, но в выводе ты пишешь про конверсию, а анализируешь среднее количество покупок на посетителя - стоит скорректировать атрибуты графика и выводы по нему.\n",
    "    \n",
    "Разница между конверсией и средним количеством заказов на посетителя в том, что в случае конверсии у нас и в числителе, и в знаменателе уникальные пользователи, а во втором случае уникальные пользователи только в числителе - в знаменателе у нас агрегированная информация, и каждый уникальный пользователь наверняка совершил ни один просмотр перед покупкой, то есть метрики в чём-то схожи, но всё же разные."
   ]
  },
  {
   "cell_type": "markdown",
   "metadata": {},
   "source": [
    "<div class=\"alert alert-success\">\n",
    "<h2> Комментарий ревьюера v.2 <a class=\"tocSkip\"> </h2>\n",
    "\n",
    "<b>Все отлично!👍:</b> Учтено."
   ]
  },
  {
   "cell_type": "markdown",
   "metadata": {},
   "source": [
    "## График относительного изменения кумулятивного среднего количества заказов на посетителя группы B к группе A"
   ]
  },
  {
   "cell_type": "code",
   "execution_count": 20,
   "metadata": {},
   "outputs": [
    {
     "data": {
      "image/png": "[encoded data removed]",
      "text/plain": [
       "<Figure size 720x360 with 1 Axes>"
      ]
     },
     "metadata": {
      "needs_background": "light"
     },
     "output_type": "display_data"
    }
   ],
   "source": [
    "merged_cumulative_conversions = ( cumulative_data_A[['date','conversion']]\n",
    "    .merge(cumulative_data_B[['date','conversion']], left_on='date', right_on='date', how='left', suffixes=['A', 'B'])\n",
    "                              )\n",
    "plt.figure(figsize=(10, 5))\n",
    "plt.plot(merged_cumulative_conversions['date'], \n",
    "        merged_cumulative_conversions['conversionB']/merged_cumulative_conversions['conversionA']-1,\n",
    "        label=\"Относительный прирост\")\n",
    "plt.legend()\n",
    "plt.axhline(y=0, color='black', linestyle='--')\n",
    "plt.title('График отн изм-я кумулятивного ср. кол-ва заказов на посетителя группы B к группе A')\n",
    "plt.xlabel('Дата')\n",
    "plt.ylabel('Относительное изм-е кол-ва заказов на посетителя группы В к А')\n",
    "plt.show()"
   ]
  },
  {
   "cell_type": "markdown",
   "metadata": {},
   "source": [
    "Конверсия группы В выше группы А практически с начала теста и преимущество продожает колебаться в районе 10-15%"
   ]
  },
  {
   "cell_type": "markdown",
   "metadata": {},
   "source": [
    "<div class=\"alert alert-info\"> <b>Комментарии студента:</b> Подправил описание графика, теперь вроде бы все совпадает\n",
    "</div>"
   ]
  },
  {
   "cell_type": "markdown",
   "metadata": {},
   "source": [
    "<div class=\"alert alert-block alert-danger\">\n",
    "<h2> Комментарий ревьюера <a class=\"tocSkip\"></h2>\n",
    "\n",
    "    \n",
    "<b>На доработку❌:</b>\n",
    "\n",
    "Аналогичное замечание про конверсию."
   ]
  },
  {
   "cell_type": "markdown",
   "metadata": {},
   "source": [
    "<div class=\"alert alert-success\">\n",
    "<h2> Комментарий ревьюера v.2 <a class=\"tocSkip\"> </h2>\n",
    "\n",
    "<b>Все отлично!👍:</b> Учтено."
   ]
  },
  {
   "cell_type": "markdown",
   "metadata": {},
   "source": [
    "## Точечный график количества заказов по пользователям"
   ]
  },
  {
   "cell_type": "code",
   "execution_count": 21,
   "metadata": {},
   "outputs": [
    {
     "name": "stdout",
     "output_type": "stream",
     "text": [
      "      visitor_id  transactions\n",
      "1023  4256040402            11\n",
      "591   2458001652            11\n",
      "569   2378935119             9\n",
      "487   2038680547             8\n",
      "44     199603092             5\n",
      "744   3062433592             5\n",
      "55     237748145             5\n",
      "917   3803269165             5\n",
      "299   1230306981             5\n",
      "897   3717692402             5\n"
     ]
    },
    {
     "data": {
      "image/png": "[encoded data removed]",
      "text/plain": [
       "<Figure size 432x288 with 1 Axes>"
      ]
     },
     "metadata": {
      "needs_background": "light"
     },
     "output_type": "display_data"
    }
   ],
   "source": [
    "orders_by_users = (\n",
    "    orders.groupby('visitor_id', as_index=False)\n",
    "    .agg({'transaction_id': 'nunique'})\n",
    ")\n",
    "orders_by_users.columns = ['visitor_id', 'transactions']\n",
    "\n",
    "print(orders_by_users.sort_values(by='transactions', ascending=False).head(10))\n",
    "\n",
    "# серия из чисел от 0 до количества наблюдений в orders_by_users\n",
    "x_values = pd.Series(range(0, len(orders_by_users)))\n",
    "plt.scatter(x_values, orders_by_users['transactions'])\n",
    "plt.title('График количества заказов по пользователям')\n",
    "plt.xlabel('Количество пользователей')\n",
    "plt.ylabel('Число заказов на пользователя')\n",
    "plt.show()"
   ]
  },
  {
   "cell_type": "markdown",
   "metadata": {},
   "source": [
    "Большая часть пользователей делает 1-2 заказа"
   ]
  },
  {
   "cell_type": "markdown",
   "metadata": {},
   "source": [
    "<div class=\"alert alert-success\">\n",
    "<h2> Комментарий ревьюера <a class=\"tocSkip\"> </h2>\n",
    "\n",
    "<b>Все отлично!👍:</b> Проанализировали распределение количества покупок на пользователя и нашли аномальных покупателей - отлично!"
   ]
  },
  {
   "cell_type": "markdown",
   "metadata": {},
   "source": [
    "## 95-й и 99-й перцентили количества заказов на пользователя"
   ]
  },
  {
   "cell_type": "code",
   "execution_count": 22,
   "metadata": {},
   "outputs": [
    {
     "name": "stdout",
     "output_type": "stream",
     "text": [
      "[1. 2. 4.]\n"
     ]
    }
   ],
   "source": [
    "print(np.percentile(orders_by_users['transactions'], [90, 95, 99]))"
   ]
  },
  {
   "cell_type": "markdown",
   "metadata": {},
   "source": [
    "<div class=\"alert alert-success\">\n",
    "<h2> Комментарий ревьюера <a class=\"tocSkip\"> </h2>\n",
    "\n",
    "<b>Все отлично!👍:</b> Персентили посчитаны верно."
   ]
  },
  {
   "cell_type": "markdown",
   "metadata": {},
   "source": [
    "Получается что всего 5% пользователей делают больше 2 заказов, и 1% пользователей делает более 4 заказов. Тех, кто совершил от 2 заказов и более будем считать за аномальных"
   ]
  },
  {
   "cell_type": "markdown",
   "metadata": {},
   "source": [
    "<div class=\"alert alert-success\">\n",
    "<h2> Комментарий ревьюера <a class=\"tocSkip\"> </h2>\n",
    "\n",
    "<b>Все отлично!👍:</b> Определили границу для фильтрации аномалий - отлично!"
   ]
  },
  {
   "cell_type": "markdown",
   "metadata": {},
   "source": [
    "## Точечный график стоимостей заказов"
   ]
  },
  {
   "cell_type": "code",
   "execution_count": 23,
   "metadata": {},
   "outputs": [
    {
     "name": "stdout",
     "output_type": "stream",
     "text": [
      "count    1.197000e+03\n",
      "mean     8.348006e+03\n",
      "std      3.919113e+04\n",
      "min      5.000000e+01\n",
      "25%      1.220000e+03\n",
      "50%      2.978000e+03\n",
      "75%      8.290000e+03\n",
      "max      1.294500e+06\n",
      "Name: revenue, dtype: float64\n"
     ]
    },
    {
     "data": {
      "image/png": "[encoded data removed]",
      "text/plain": [
       "<Figure size 432x288 with 1 Axes>"
      ]
     },
     "metadata": {
      "needs_background": "light"
     },
     "output_type": "display_data"
    }
   ],
   "source": [
    "x_values = pd.Series(range(0, len(orders['revenue'])))\n",
    "print(orders['revenue'].describe())\n",
    "\n",
    "plt.scatter(x_values, orders['revenue'])\n",
    "plt.title('График стоимостей заказов')\n",
    "plt.xlabel('Количество пользователей')\n",
    "plt.ylabel('Сумма заказа')\n",
    "plt.show()"
   ]
  },
  {
   "cell_type": "markdown",
   "metadata": {},
   "source": [
    "В большинстве случаев стоимость заказов менее 10 тысяч. Виден 1 заказ размером более 1.2 млн - это тот самый выброс в группе В"
   ]
  },
  {
   "cell_type": "code",
   "execution_count": 24,
   "metadata": {},
   "outputs": [
    {
     "data": {
      "image/png": "[encoded data removed]",
      "text/plain": [
       "<Figure size 432x288 with 1 Axes>"
      ]
     },
     "metadata": {
      "needs_background": "light"
     },
     "output_type": "display_data"
    }
   ],
   "source": [
    "#Пострим аналогичный график без двух крупных выбросов, которые заметили выше\n",
    "plt.ylim(0, 120000)\n",
    "plt.scatter(x_values, orders['revenue'], alpha=0.5)\n",
    "plt.title('График стоимости заказов')\n",
    "plt.xlabel('Количество пользователей')\n",
    "plt.ylabel('Сумма заказа')\n",
    "plt.show()"
   ]
  },
  {
   "cell_type": "markdown",
   "metadata": {},
   "source": [
    "Основная масса заказов не привышает 20000"
   ]
  },
  {
   "cell_type": "markdown",
   "metadata": {},
   "source": [
    "<div class=\"alert alert-info\"> <b>Комментарии студента:</b> Добавил точечную диаграмму без аномально боьших заказов \n",
    "</div>"
   ]
  },
  {
   "cell_type": "markdown",
   "metadata": {},
   "source": [
    "<div class=\"alert alert-success\">\n",
    "<h2> Комментарий ревьюера <a class=\"tocSkip\"> </h2>\n",
    "\n",
    "<b>Все отлично!👍:</b> Проанализировали распределение стоимости заказов и нашли аномально дорогие заказы - отлично!"
   ]
  },
  {
   "cell_type": "markdown",
   "metadata": {},
   "source": [
    "<div class=\"alert alert-warning\">\n",
    "    <h2> Комментарий ревьюера <a class=\"tocSkip\"> </h2>\n",
    "    \n",
    "<b>Некоторые замечания и рекомендации⚠️:</b> \n",
    "\n",
    "Как видишь, на фоне двух достаточно крупных заказов остальные, менее аномальные заказы, сбились в одну кучу на оси Х. Было бы полезно сделать такой же график, но без двух крупных покупок, чтобы исследовать распределение менее аномальных покупок.\n",
    "        \n",
    "</div>"
   ]
  },
  {
   "cell_type": "markdown",
   "metadata": {},
   "source": [
    "<div class=\"alert alert-success\">\n",
    "<h2> Комментарий ревьюера v.2 <a class=\"tocSkip\"> </h2>\n",
    "\n",
    "<b>Все отлично!👍:</b> Учтено."
   ]
  },
  {
   "cell_type": "markdown",
   "metadata": {},
   "source": [
    "##  95-й и 99-й перцентили стоимости заказов"
   ]
  },
  {
   "cell_type": "code",
   "execution_count": 25,
   "metadata": {},
   "outputs": [
    {
     "name": "stdout",
     "output_type": "stream",
     "text": [
      "[18168.  28000.  58233.2]\n"
     ]
    }
   ],
   "source": [
    "print(np.percentile(orders['revenue'], [90, 95, 99]))"
   ]
  },
  {
   "cell_type": "markdown",
   "metadata": {},
   "source": [
    "<div class=\"alert alert-success\">\n",
    "<h2> Комментарий ревьюера <a class=\"tocSkip\"> </h2>\n",
    "\n",
    "<b>Все отлично!👍:</b> Персентили посчитаны верно."
   ]
  },
  {
   "cell_type": "markdown",
   "metadata": {},
   "source": [
    "90% заказов суммой до 18168, заказы от 28000 принимаем за аномальные"
   ]
  },
  {
   "cell_type": "markdown",
   "metadata": {},
   "source": [
    "<div class=\"alert alert-success\">\n",
    "<h2> Комментарий ревьюера <a class=\"tocSkip\"> </h2>\n",
    "\n",
    "<b>Все отлично!👍:</b> Определили границу для фильтрации аномалий - отлично!"
   ]
  },
  {
   "cell_type": "markdown",
   "metadata": {},
   "source": [
    "## Статистическая значимость различий в среднем количестве заказов на посетителя между группами по «сырым» данным"
   ]
  },
  {
   "cell_type": "code",
   "execution_count": 26,
   "metadata": {},
   "outputs": [
    {
     "name": "stdout",
     "output_type": "stream",
     "text": [
      "        date  ordersPerDateA  revenuePerDateA  ordersPerDateB  \\\n",
      "0 2019-08-01              24           148579              20   \n",
      "1 2019-08-02              20            93822              23   \n",
      "2 2019-08-03              24           112473              16   \n",
      "3 2019-08-04              16            70825              16   \n",
      "4 2019-08-05              25           124218              23   \n",
      "\n",
      "   revenuePerDateB  ordersCummulativeA  revenueCummulativeA  \\\n",
      "0           101217                  24               148579   \n",
      "1           165531                  44               242401   \n",
      "2           114248                  68               354874   \n",
      "3           108571                  84               425699   \n",
      "4            92428                 109               549917   \n",
      "\n",
      "   ordersCummulativeB  revenueCummulativeB  visitorsPerDateA  \\\n",
      "0                  20               101217               719   \n",
      "1                  43               266748               619   \n",
      "2                  59               380996               507   \n",
      "3                  75               489567               717   \n",
      "4                  98               581995               756   \n",
      "\n",
      "   visitorsPerDateB  visitorsCummulativeA  visitorsCummulativeB  \n",
      "0               713                   719                   713  \n",
      "1               581                  1338                  1294  \n",
      "2               509                  1845                  1803  \n",
      "3               770                  2562                  2573  \n",
      "4               707                  3318                  3280  \n"
     ]
    }
   ],
   "source": [
    "visitorsADaily = visitors[visitors['group'] == 'A'][['date', 'visitors']]\n",
    "visitorsADaily.columns = ['date', 'visitorsPerDateA']\n",
    "\n",
    "visitorsACummulative = visitorsADaily.apply(\n",
    "    lambda x: visitorsADaily[visitorsADaily['date'] <= x['date']].agg(\n",
    "        {'date': 'max', 'visitorsPerDateA': 'sum'}\n",
    "    ),\n",
    "    axis=1,\n",
    ")\n",
    "visitorsACummulative.columns = ['date', 'visitorsCummulativeA']\n",
    "\n",
    "visitorsBDaily = visitors[visitors['group'] == 'B'][['date', 'visitors']]\n",
    "visitorsBDaily.columns = ['date', 'visitorsPerDateB']\n",
    "\n",
    "visitorsBCummulative = visitorsBDaily.apply(\n",
    "    lambda x: visitorsBDaily[visitorsBDaily['date'] <= x['date']].agg(\n",
    "        {'date': 'max', 'visitorsPerDateB': 'sum'}\n",
    "    ),\n",
    "    axis=1,\n",
    ")\n",
    "visitorsBCummulative.columns = ['date', 'visitorsCummulativeB']\n",
    "\n",
    "ordersADaily = (\n",
    "    orders[orders['group'] == 'A'][['date', 'transaction_id', 'visitor_id', 'revenue']]\n",
    "    .groupby('date', as_index=False)\n",
    "    .agg({'transaction_id': pd.Series.nunique, 'revenue': 'sum'})\n",
    ")\n",
    "ordersADaily.columns = ['date', 'ordersPerDateA', 'revenuePerDateA']\n",
    "\n",
    "ordersACummulative = ordersADaily.apply(\n",
    "    lambda x: ordersADaily[ordersADaily['date'] <= x['date']].agg(\n",
    "        {'date': 'max', 'ordersPerDateA': 'sum', 'revenuePerDateA': 'sum'}\n",
    "    ),\n",
    "    axis=1,\n",
    ").sort_values(by=['date'])\n",
    "ordersACummulative.columns = [\n",
    "    'date',\n",
    "    'ordersCummulativeA',\n",
    "    'revenueCummulativeA',\n",
    "]\n",
    "\n",
    "ordersBDaily = (\n",
    "    orders[orders['group'] == 'B'][['date', 'transaction_id', 'visitor_id', 'revenue']]\n",
    "    .groupby('date', as_index=False)\n",
    "    .agg({'visitor_id': pd.Series.nunique, 'revenue': 'sum'})\n",
    ")\n",
    "ordersBDaily.columns = ['date', 'ordersPerDateB', 'revenuePerDateB']\n",
    "\n",
    "ordersBCummulative = ordersBDaily.apply(\n",
    "    lambda x: ordersBDaily[ordersBDaily['date'] <= x['date']].agg(\n",
    "        {'date': 'max', 'ordersPerDateB': 'sum', 'revenuePerDateB': 'sum'}\n",
    "    ),\n",
    "    axis=1,\n",
    ").sort_values(by=['date'])\n",
    "ordersBCummulative.columns = [\n",
    "    'date',\n",
    "    'ordersCummulativeB',\n",
    "    'revenueCummulativeB',\n",
    "]\n",
    "\n",
    "data = (\n",
    "    ordersADaily.merge(\n",
    "        ordersBDaily, left_on='date', right_on='date', how='left'\n",
    "    )\n",
    "    .merge(ordersACummulative, left_on='date', right_on='date', how='left')\n",
    "    .merge(ordersBCummulative, left_on='date', right_on='date', how='left')\n",
    "    .merge(visitorsADaily, left_on='date', right_on='date', how='left')\n",
    "    .merge(visitorsBDaily, left_on='date', right_on='date', how='left')\n",
    "    .merge(visitorsACummulative, left_on='date', right_on='date', how='left')\n",
    "    .merge(visitorsBCummulative, left_on='date', right_on='date', how='left')\n",
    ")\n",
    "\n",
    "print(data.head(5))\n",
    "\n",
    "# Создадим переменные ordersByUsersA и ordersByUsersB со столбцами ['visitor_id', 'transaction_d']. \n",
    "# В них для пользователей, которые заказывали хотя бы 1 раз, укажем число совершённых заказов. \n",
    "ordersByUsersA = (\n",
    "    orders[orders['group'] == 'A']\n",
    "    .groupby('visitor_id', as_index=False)\n",
    "    .agg({'transaction_id': pd.Series.nunique})\n",
    ")\n",
    "ordersByUsersA.columns = ['visitor_id', 'orders']  \n",
    "    \n",
    "ordersByUsersB = (\n",
    "    orders[orders['group'] == 'B']\n",
    "    .groupby('visitor_id', as_index=False)\n",
    "    .agg({'transaction_id': pd.Series.nunique})\n",
    ")\n",
    "ordersByUsersB.columns = ['visitor_id', 'orders']"
   ]
  },
  {
   "cell_type": "markdown",
   "metadata": {},
   "source": [
    "<div class=\"alert alert-warning\">\n",
    "    <h2> Комментарий ревьюера <a class=\"tocSkip\"> </h2>\n",
    "    \n",
    "<b>Некоторые замечания и рекомендации⚠️:</b> \n",
    "\n",
    "Здесь заново собираются кумулятивные данные: из переменной `data` далее в расчётах мы берём только количество посетителей в зависимости от группы - эти данные у нас уже есть в переменной `visitors`. Нет большого смысла писать полотно кода и тратить ресурсы на его выполнение, если эти данные есть в исходной таблице - давай попробуем использовать исходные данные?\n",
    "        \n",
    "</div>"
   ]
  },
  {
   "cell_type": "markdown",
   "metadata": {},
   "source": [
    "<div class=\"alert alert-info\"> <b>Комментарии студента:</b>Если быть честным, то не особо понял как это сделать. даже не так, что надо сделать а не как \n",
    "</div>"
   ]
  },
  {
   "cell_type": "markdown",
   "metadata": {},
   "source": [
    "<div class=\"alert alert-warning\">\n",
    "    <h2> Комментарий ревьюера v.2 <a class=\"tocSkip\"> </h2>\n",
    "    \n",
    "<b>Некоторые замечания и рекомендации⚠️:</b> Немного подскажу.\n",
    "\n",
    "Далее переменная `data` используется только при создании переменных `sampleA` и `sampleB` в части общего количества посетителей - это следующие строки кода:\n",
    "\n",
    "    data['visitorsPerDateA'].sum()\n",
    "    data['visitorsPerDateA'].sum()\n",
    "        \n",
    "Аналогичную информацию мы можем получить из таблицы `visitors` - для этого её предварительно фильтруем по нужной нам группе и суммируем столбец `visitors`:\n",
    "        \n",
    "    visitors[visitors['group'] == 'A']['visitors'].sum()\n",
    "    visitors[visitors['group'] == 'B']['visitors'].sum()\n",
    "        \n",
    "Таким образом получаем аналогичые цифры, но не выполняем ненужный код и не забиваем память ненужными переменными."
   ]
  },
  {
   "cell_type": "markdown",
   "metadata": {},
   "source": [
    "Сформулируем гипотезы:\n",
    "\n",
    "- Н0 : статистически значимых различий в среднем количестве заказов на посетителя между группами нет\n",
    "- Н1 : статистически значимые различи в среднем количестве заказов на посетителя между группами есть"
   ]
  },
  {
   "cell_type": "markdown",
   "metadata": {},
   "source": [
    "Так как данные о продажах и средних чеках редко бывают нормально распределены (это классический пример переменных, подверженных выбросам), для проверки гипотез будем использовать непараметрический тест Уилкоксона-Манна-Уитни"
   ]
  },
  {
   "cell_type": "markdown",
   "metadata": {},
   "source": [
    "<div class=\"alert alert-success\">\n",
    "<h2> Комментарий ревьюера <a class=\"tocSkip\"> </h2>\n",
    "\n",
    "<b>Все отлично!👍:</b> Гипотезы сформулировали - отлично!"
   ]
  },
  {
   "cell_type": "markdown",
   "metadata": {},
   "source": [
    "<div class=\"alert alert-info\"> <b>Комментарии студента:</b>Убрал коверсию, добавил каким тестом будем проверять и почему им\n",
    "</div>"
   ]
  },
  {
   "cell_type": "markdown",
   "metadata": {},
   "source": [
    "<div class=\"alert alert-block alert-danger\">\n",
    "<h2> Комментарий ревьюера <a class=\"tocSkip\"></h2>\n",
    "\n",
    "    \n",
    "<b>На доработку❌:</b>\n",
    "1. Из текста гипоетз и выводов по результатам их проверки (тут и на очищенных данных) нужно убрать конверсию - мы не работаем с этой метрикой в проекте.\n",
    "2. Важно также указать критерий, с помощью которого мы проверяем гипотезы, а также обосновать его выбор - это обычно связано с наличием в данных каких-то особенностей и характером их распределения (про это говорилось в тренажёре)."
   ]
  },
  {
   "cell_type": "markdown",
   "metadata": {},
   "source": [
    "<div class=\"alert alert-success\">\n",
    "<h2> Комментарий ревьюера v.2 <a class=\"tocSkip\"> </h2>\n",
    "\n",
    "<b>Все отлично!👍:</b> Учтено."
   ]
  },
  {
   "cell_type": "code",
   "execution_count": 27,
   "metadata": {},
   "outputs": [
    {
     "name": "stdout",
     "output_type": "stream",
     "text": [
      "p-value: 0.017\n",
      "относительная разница: 0.138\n"
     ]
    }
   ],
   "source": [
    "# Объявим переменные sampleA и sampleB, в которых пользователям из разных групп будет соответствовать количество заказов. \n",
    "# Тем у кого нет заказов будут нули  \n",
    "sampleA = pd.concat(\n",
    "    [ordersByUsersA['orders'],\n",
    "    pd.Series(0, index=np.arange(data['visitorsPerDateA'].sum() - len(ordersByUsersA['orders'])),\n",
    "    name='orders')],\n",
    "    axis=0)\n",
    "\n",
    "sampleB = pd.concat(\n",
    "    [ordersByUsersB['orders'],\n",
    "    pd.Series(0, index=np.arange(data['visitorsPerDateB'].sum() - len(ordersByUsersB['orders'])),\n",
    "    name='orders')],\n",
    "    axis=0)\n",
    "\n",
    "# Применим критерий и отформатируем p-value, округлив его до трёх знаков после запятой.\n",
    "print('p-value:', \"{0:.3f}\".format(stats.mannwhitneyu(sampleA, sampleB)[1]))\n",
    "# Выведем относительный прирост среднего числа заказов группы B.\n",
    "print('относительная разница:', \"{0:.3f}\".format(sampleB.mean() / sampleA.mean() - 1))"
   ]
  },
  {
   "cell_type": "markdown",
   "metadata": {},
   "source": [
    "По сырым данным значение p-value 0.017, что меньше уровня статистической значимости, значит, гипотезу о том, что различий в среднем количестве заказов на посетителя между группами нет, отвергаем. Относительная разница в метрике между группами В и А составила 13,8%."
   ]
  },
  {
   "cell_type": "markdown",
   "metadata": {},
   "source": [
    "<div class=\"alert alert-info\"> <b>Комментарии студента:</b> Подписал выводы данных, тут и в дальнейших выводах \n",
    "</div>"
   ]
  },
  {
   "cell_type": "markdown",
   "metadata": {},
   "source": [
    "<div class=\"alert alert-success\">\n",
    "<h2> Комментарий ревьюера <a class=\"tocSkip\"> </h2>\n",
    "\n",
    "<b>Все отлично!👍:</b> Оценили значимость различий среднего количества заказов на посетителя между группами на сырых данных - отлично!"
   ]
  },
  {
   "cell_type": "markdown",
   "metadata": {},
   "source": [
    "<div class=\"alert alert-block alert-danger\">\n",
    "<h2> Комментарий ревьюера <a class=\"tocSkip\"></h2>\n",
    "\n",
    "    \n",
    "<b>На доработку❌:</b>\n",
    "\n",
    "В выводе кода стоит явно подписать, какое из двух значений - `p-value`, а какое - относительная разница между сравниваемыми величинами. Замечание актуально для этой и следующих проверок."
   ]
  },
  {
   "cell_type": "markdown",
   "metadata": {},
   "source": [
    "<div class=\"alert alert-success\">\n",
    "<h2> Комментарий ревьюера v.2 <a class=\"tocSkip\"> </h2>\n",
    "\n",
    "<b>Все отлично!👍:</b> Учтено."
   ]
  },
  {
   "cell_type": "markdown",
   "metadata": {},
   "source": [
    "## Статистическая значимость различий в среднем чеке заказа между группами по «сырым» данным"
   ]
  },
  {
   "cell_type": "markdown",
   "metadata": {},
   "source": [
    "Гипотезы:\n",
    "\n",
    "- Н0 : статистически значимых различий в среднем чеке между группами нет\n",
    "- Н1 : статистически значимые различия в среднем чеке между группами есть"
   ]
  },
  {
   "cell_type": "code",
   "execution_count": 28,
   "metadata": {},
   "outputs": [
    {
     "name": "stdout",
     "output_type": "stream",
     "text": [
      "p-value: 0.729\n",
      "относительная разница:0.259\n"
     ]
    }
   ],
   "source": [
    "print('p-value:','{0:.3f}'.format(stats.mannwhitneyu(orders[orders['group']=='A']['revenue'], orders[orders['group']=='B']['revenue'])[1]))\n",
    "print('относительная разница:'\"{0:.3f}\".format(orders[orders['group'] == 'B']['revenue'].mean() / orders[orders['group'] == 'A']['revenue'].mean() - 1))"
   ]
  },
  {
   "cell_type": "markdown",
   "metadata": {},
   "source": [
    "P-value значительно больше 0.05, статистически значимых отличий между средними чеками групп нет, не удалось отвергнуть нулевую гипотизу. Относительное различие между чеками почти 26%."
   ]
  },
  {
   "cell_type": "markdown",
   "metadata": {},
   "source": [
    "<div class=\"alert alert-success\">\n",
    "<h2> Комментарий ревьюера <a class=\"tocSkip\"> </h2>\n",
    "\n",
    "<b>Все отлично!👍:</b> Оценили значимость различий среднего чека между группами на сырых данных - отлично!"
   ]
  },
  {
   "cell_type": "markdown",
   "metadata": {},
   "source": [
    "## Статистическая значимость различий в среднем количестве заказов на посетителя между группами по «очищенным» данным"
   ]
  },
  {
   "cell_type": "code",
   "execution_count": 29,
   "metadata": {},
   "outputs": [
    {
     "name": "stdout",
     "output_type": "stream",
     "text": [
      "1099    148427295\n",
      "18      199603092\n",
      "928     204675465\n",
      "23      237748145\n",
      "37      249864742\n",
      "Name: visitor_id, dtype: int64\n",
      "потери пользователей в абсолютном выражении: 74\n",
      "относителные потери пользователей: 7.177497575169737\n"
     ]
    }
   ],
   "source": [
    "#Сделаем срезы пользователей с числом заказов больше 3 — usersWithManyOrders \n",
    "# и пользователей, совершивших заказы дороже 28 000 — usersWithExpensiveOrders.\n",
    "usersWithManyOrders = pd.concat(\n",
    "    [\n",
    "        ordersByUsersA[ordersByUsersA['orders'] > np.percentile(orders_by_users['transactions'], 95)]['visitor_id'],\n",
    "        ordersByUsersB[ordersByUsersB['orders'] > np.percentile(orders_by_users['transactions'], 95)]['visitor_id']\n",
    "    ],\n",
    "    axis = 0\n",
    ")\n",
    "\n",
    "usersWithExpensiveOrders = orders[orders['revenue'] > np.percentile(orders['revenue'], 95)]['visitor_id']\n",
    "abnormalUsers = (\n",
    "    pd.concat([usersWithManyOrders, usersWithExpensiveOrders], axis=0)\n",
    "    .drop_duplicates()\n",
    "    .sort_values()\n",
    ")\n",
    "print(abnormalUsers.head())\n",
    "print('потери пользователей в абсолютном выражении:', len(abnormalUsers))\n",
    "print('относителные потери пользователей:', len(abnormalUsers)/len(orders['visitor_id'].unique()) *100)"
   ]
  },
  {
   "cell_type": "markdown",
   "metadata": {},
   "source": [
    "относительные потери пользователей составили 6,2%"
   ]
  },
  {
   "cell_type": "markdown",
   "metadata": {},
   "source": [
    "<div class=\"alert alert-success\">\n",
    "<h2> Комментарий ревьюера <a class=\"tocSkip\"> </h2>\n",
    "\n",
    "<b>Все отлично!👍:</b> Отфильтровали аномалии, посчитали потери пользователей в абсолютном выражении - отлично!"
   ]
  },
  {
   "cell_type": "markdown",
   "metadata": {},
   "source": [
    "<div class=\"alert alert-warning\">\n",
    "    <h2> Комментарий ревьюера <a class=\"tocSkip\"> </h2>\n",
    "    \n",
    "<b>Некоторые замечания и рекомендации⚠️:</b>\n",
    "\n",
    "Значения границ для фильтрации заданы руками - такой подход делает твоё решение зависимым от внешних данных: при их изменении тебе придётся вносить изменения в код, чтобы текущее решение адекватно работало для других А/В тестов. Очень удобно использовать в качестве значения результат метода для расчёта персентилей.\n",
    "        \n",
    "Например вместо `orders > 2` лучше будет сделать `orders > np.percentile(x, 95)` - такой подход сделает решение более универсальным.\n",
    "        \n",
    "</div>"
   ]
  },
  {
   "cell_type": "markdown",
   "metadata": {},
   "source": [
    "<div class=\"alert alert-info\"> <b>Комментарии студента:</b> сделал код более универсальным\n",
    "</div>"
   ]
  },
  {
   "cell_type": "markdown",
   "metadata": {},
   "source": [
    "<div class=\"alert alert-success\">\n",
    "<h2> Комментарий ревьюера v.2 <a class=\"tocSkip\"> </h2>\n",
    "\n",
    "<b>Все отлично!👍:</b> Учтено."
   ]
  },
  {
   "cell_type": "markdown",
   "metadata": {},
   "source": [
    "<div class=\"alert alert-block alert-danger\">\n",
    "<h2> Комментарий ревьюера <a class=\"tocSkip\"></h2>\n",
    "\n",
    "    \n",
    "<b>На доработку❌:</b>\n",
    "\n",
    "Помимо абсолютных потерь пользователей после фильтрации очень важно также оценить потери и в относительном выражении: любой вид потерь из этих двух сам по себе недостаточно информативен, а вот вместе они уже помогут читателю составить полную картину о масштабе потерь.\n",
    "    \n",
    "Напомню, что относительные потери - это отношение количества аномальных пользователей к общем количеству пользователей из таблицы `orders`. В знаменателе важно учитывать уникальных пользователей, а не количество строк таблицы.\n",
    "        \n",
    "</div>"
   ]
  },
  {
   "cell_type": "markdown",
   "metadata": {},
   "source": [
    "<div class=\"alert alert-info\"> <b>Комментарии студента:</b> а вот тут как-то застопорился, я сделал верно? \n",
    "</div>"
   ]
  },
  {
   "cell_type": "markdown",
   "metadata": {},
   "source": [
    "<div class=\"alert alert-success\">\n",
    "<h2> Комментарий ревьюера v.2 <a class=\"tocSkip\"> </h2>\n",
    "\n",
    "<b>Все отлично!👍:</b> Практически. Вместо `sum()` нужно считать уникальных пользователей - я чуть-чуть подраправил:)"
   ]
  },
  {
   "cell_type": "markdown",
   "metadata": {},
   "source": [
    "Сформулируем гипотезы\n",
    "\n",
    "- Н0 : по очщенным данным статистически значимых различий в среднем количестве заказов на посетителя между группами нет\n",
    "- Н1 : по очщенным данным статистически значимые различия в среднем количестве заказов на посетителя между группами есть"
   ]
  },
  {
   "cell_type": "markdown",
   "metadata": {},
   "source": [
    "<div class=\"alert alert-info\"> <b>Комментарии студента:</b> Подправил гипотезы\n",
    "</div>"
   ]
  },
  {
   "cell_type": "markdown",
   "metadata": {},
   "source": [
    "<div class=\"alert alert-block alert-danger\">\n",
    "<h2> Комментарий ревьюера <a class=\"tocSkip\"></h2>\n",
    "\n",
    "    \n",
    "<b>На доработку❌:</b>\n",
    "\n",
    "Аналогично нужно исправить гипотезы."
   ]
  },
  {
   "cell_type": "markdown",
   "metadata": {},
   "source": [
    "<div class=\"alert alert-success\">\n",
    "<h2> Комментарий ревьюера v.2 <a class=\"tocSkip\"> </h2>\n",
    "\n",
    "<b>Все отлично!👍:</b> Учтено."
   ]
  },
  {
   "cell_type": "code",
   "execution_count": 30,
   "metadata": {},
   "outputs": [
    {
     "name": "stdout",
     "output_type": "stream",
     "text": [
      "p_value: 0.013\n",
      "относительная разница: 0.173\n"
     ]
    }
   ],
   "source": [
    "# Посчитаем статистическую значимость различий в среднем количестве заказов между группами теста по очищенным данным\n",
    "sampleAFiltered = pd.concat(\n",
    "    [\n",
    "        ordersByUsersA[\n",
    "            np.logical_not(ordersByUsersA['visitor_id'].isin(abnormalUsers))\n",
    "        ]['orders'],\n",
    "        pd.Series(\n",
    "        0, index=np.arange(\n",
    "                data['visitorsPerDateA'].sum() - len(ordersByUsersA['orders'])\n",
    "        ),\n",
    "        name='orders',\n",
    "        ),\n",
    "    ],\n",
    "    axis=0,\n",
    ")\n",
    "    \n",
    "sampleBFiltered = pd.concat(\n",
    "    [\n",
    "        ordersByUsersB[\n",
    "            np.logical_not(ordersByUsersB['visitor_id'].isin(abnormalUsers))\n",
    "        ]['orders'],\n",
    "        pd.Series(\n",
    "        0, index=np.arange(\n",
    "                data['visitorsPerDateB'].sum() - len(ordersByUsersB['orders'])\n",
    "        ),\n",
    "        name='orders',\n",
    "        ),\n",
    "    ],\n",
    "    axis=0,\n",
    ")\n",
    "\n",
    "print('p_value:','{0:.3f}'.format(stats.mannwhitneyu(sampleAFiltered, sampleBFiltered)[1]))\n",
    "print('относительная разница:','{0:.3f}'.format(sampleBFiltered.mean()/sampleAFiltered.mean()-1))"
   ]
  },
  {
   "cell_type": "markdown",
   "metadata": {},
   "source": [
    "Как и в случае с сырыми данными, статистическая значимость достигнута (отвергаем H0). Группа В намного лучше группы А."
   ]
  },
  {
   "cell_type": "markdown",
   "metadata": {},
   "source": [
    "<div class=\"alert alert-success\">\n",
    "<h2> Комментарий ревьюера <a class=\"tocSkip\"> </h2>\n",
    "\n",
    "<b>Все отлично!👍:</b> Оценили значимость различий среднего количества заказов на посетителя между группами на очищеных данных - отлично!"
   ]
  },
  {
   "cell_type": "markdown",
   "metadata": {},
   "source": [
    "## Статистическая значимость различий в среднем чеке заказа между группами по «очищенным» данным"
   ]
  },
  {
   "cell_type": "markdown",
   "metadata": {},
   "source": [
    "Гипотезы:\n",
    "\n",
    "- Н0 : по очищенным данным статистически значимых различий в среднем чеке между группами нет\n",
    "- Н1 : по очищенным данным статистически значимые различия в среднем чеке между группами есть"
   ]
  },
  {
   "cell_type": "code",
   "execution_count": 31,
   "metadata": {},
   "outputs": [
    {
     "name": "stdout",
     "output_type": "stream",
     "text": [
      "p_value:0.738\n",
      "относительная разница: -0.020\n"
     ]
    }
   ],
   "source": [
    "# Статистическая значимость различий в среднем количестве заказов между группами теста по очищенным данным.\n",
    "print('p_value:'\n",
    "    '{0:.3f}'.format(\n",
    "        stats.mannwhitneyu(\n",
    "            orders[\n",
    "                np.logical_and(\n",
    "                    orders['group'] == 'A',\n",
    "                    np.logical_not(orders['visitor_id'].isin(abnormalUsers)),\n",
    "                )\n",
    "            ]['revenue'],\n",
    "            orders[\n",
    "                np.logical_and(\n",
    "                    orders['group'] == 'B',\n",
    "                    np.logical_not(orders['visitor_id'].isin(abnormalUsers)),\n",
    "                )\n",
    "            ]['revenue'],\n",
    "        )[1]\n",
    "    )\n",
    ")\n",
    "\n",
    "print('относительная разница:',\n",
    "    \"{0:.3f}\".format(\n",
    "        orders[\n",
    "            np.logical_and(\n",
    "                orders['group'] == 'B',\n",
    "                np.logical_not(orders['visitor_id'].isin(abnormalUsers)),\n",
    "            )\n",
    "        ]['revenue'].mean()\n",
    "        / orders[\n",
    "            np.logical_and(\n",
    "                orders['group'] == 'A',\n",
    "                np.logical_not(orders['visitor_id'].isin(abnormalUsers)),\n",
    "            )\n",
    "        ]['revenue'].mean()\n",
    "        - 1\n",
    "    )\n",
    ")"
   ]
  },
  {
   "cell_type": "markdown",
   "metadata": {},
   "source": [
    "Статистически значимого различия по среднему чеку между группами ни по «сырым», ни по данным после фильтрации аномалий нет. А вот разница между группами сократилась до 2%."
   ]
  },
  {
   "cell_type": "markdown",
   "metadata": {},
   "source": [
    "<div class=\"alert alert-success\">\n",
    "<h2> Комментарий ревьюера <a class=\"tocSkip\"> </h2>\n",
    "\n",
    "<b>Все отлично!👍:</b> Оценили значимость различий среднего чека между группами на очищенных данных - отлично!"
   ]
  },
  {
   "cell_type": "markdown",
   "metadata": {},
   "source": [
    "## Результаты теста.\n",
    "\n",
    "Тест можно остановить и признать его успешным. По реузультатам теста видно, что куммулятивная выручка группы В стабильно выше выручки группы А. То же самое можно сказать и о конверсии: группа В опережает группу А.\n",
    "\n",
    "При проведении теста было обнаружено, что гипотеза о равенстве конверсии между группами отвергнута: относительная разница конверсии группы В по очищенным данным на 14.8% больше, чем в группе А.\n",
    "\n",
    "Гипотеза об отсутствии различий в сумме среднего чека между группами не была отвергнута, относительная разница между группами составила 2% после исключения выбросов."
   ]
  },
  {
   "cell_type": "markdown",
   "metadata": {},
   "source": [
    "# Общий вывод\n",
    "\n",
    "В ходе исследования с помощью фреймворка RICE была выделена наиболее приоритетная гипотеза №8: \"Добавить форму подписки на все основные страницы, чтобы собрать базу клиентов для email-рассылок\". \n",
    "\n",
    "По результатам А/В-теста было установлено отсутствие отличий в среднем чеке групп, но обнаружено, что выручка и конверсия группы В превосходит значения группы А. \n",
    "Было принято решение остановить тест и признать его успешным."
   ]
  },
  {
   "cell_type": "markdown",
   "metadata": {},
   "source": [
    "# Общий вывод 2.0 (на замену выводу по результатам теста и общему выводу)\n",
    "На основании входных данных, предоставленных интернет-магазином был проведено исследование и вынесены рекомендации.\n",
    "\n",
    "1. В части приоритизации гипотез из списка, предоставленных отделом Маркетинга следует в первую очередь обратить внимание на гипотезы:\n",
    "\n",
    "- \"Запустить акцию, дающую скидку на товар в день рождения\",\n",
    "- \"Добавить два новых канала привлечения трафика, что позволит привлекать на 30% больше пользователей\",\n",
    "- \"Добавить форму подписки на все основные страницы, чтобы собрать базу клиентов для email-рассылок\";\n",
    "\n",
    "Если ранжирование гипотез должно включать в себя и охват пользователей интернет-магазина, то места необходимо распределить таким образом:\n",
    "\n",
    "- \"Добавить форму подписки на все основные страницы, чтобы собрать базу клиентов для email-рассылок\",\n",
    "- \"Добавить блоки рекомендаций товаров на сайт интернет магазина, чтобы повысить конверсию и средний чек заказа\",\n",
    "- \"Добавить два новых канала привлечения трафика, что позволит привлекать на 30% больше пользователей\".\n",
    "\n",
    "2. В части анализа А/В теста:\n",
    "\n",
    "Есть статистически значимое различие по среднему количеству заказов на посетителя между группами как по «сырым», так и по данным после фильтрации аномалий. Показатели группы В выше, чем в А, на 13-14%;\n",
    "\n",
    "Нет статистически значимого различия по среднему чеку между группами ни по «сырым», ни по данным после фильтрации аномалий. При этом средний чек группы В выше (на \"очищенных\" данных - на  примерно 2%);\n",
    "\n",
    "График относительного изменения кумулятивного расчета группы B к группе A показывает, что результаты группы В стабильно лучше группы А;\n",
    "\n",
    "На основании этого рекомендуем остановить тест, зафиксировав победу группы В."
   ]
  },
  {
   "cell_type": "markdown",
   "metadata": {},
   "source": [
    "<div class=\"alert alert-block alert-danger\">\n",
    "<h2> Комментарий ревьюера <a class=\"tocSkip\"></h2>\n",
    "\n",
    "    \n",
    "<b>На доработку❌:</b>\n",
    "`Признать тест успешным` - это не совсем то решение, которое нужно по результатам исследования. Успешный тест - это тот тест, который начался, закончился и был проведён без отклонений от дизайна. Отсутствие значимых различий между группами - тоже результат успешного теста, потому что бизнес может понять нецелесообразность внедрения дорогостоящей разработки в промышленную эксплуатацию.\n",
    "    \n",
    "Студенты часто пишут про успешный тест, но важно понимать, что на самом деле за этим скрывается - надеюсь, так станет понятнее:)\n",
    "    \n",
    "Давай зафиксируемся на одном из решений, предлагаемых тренажёром?\n",
    "    \n",
    "Не забудь убрать конверсию из вывода."
   ]
  },
  {
   "cell_type": "markdown",
   "metadata": {},
   "source": [
    "<div class=\"alert alert-success\">\n",
    "<h2> Комментарий ревьюера v.2 <a class=\"tocSkip\"> </h2>\n",
    "\n",
    "<b>Все отлично!👍:</b> Учтено."
   ]
  },
  {
   "cell_type": "markdown",
   "metadata": {},
   "source": [
    "<div style=\"border:solid Chocolate 2px; padding: 40px\">\n",
    "\n",
    "# Комментарий ревьюера: общий вывод по проекту.\n",
    "\n",
    "Данил, проект получился на довольно хорошем уровне - отличная работа, молодец!\n",
    "\n",
    "Мне нравится твой аналитический подход к выполнению проекта, ты соблюдаешь структуру работы, выполняешь её последовательно - это очень хорошо! Шаги проекта выполнены по порядку согласно плану проекта, нет смысловых и структурных ям. Важно, что не забываешь про выводы.\n",
    "\n",
    "Работа с кумулятивными данными выполнена отлично - данные собраны корректно, графики построены верно с соблюдением основных правил визуализации, выводы сделаны корректные.\n",
    "    \n",
    "В блоке работы с А/В тестом были выбраны верные инструменты, сформулированы и корректно проверены гипотезы, получены правильные выводы - в этом блоке никаких вопросов, молодец!\n",
    "    \n",
    "Над проектом ещё стоит поработать - есть рекомендации по дополнению некоторых твоих шагов проекта. Такие рекомендации я отметил жёлтыми комментариями. Будет здорово, если ты учтёшь их - так проект станет структурно и содержательно более совершенным.\n",
    "    \n",
    "Также в работе есть критические замечания. К этим замечаниям я оставил пояснительные комментарии красного цвета, в которых перечислил возможные варианты дальнейших действий. Уверен, ты быстро с этим управишься:)\n",
    "    \n",
    "Если о том, что нужно сделать в рамках комментариев, будут возникать вопросы - оставь их, пожалуйста, в комментариях, и я отвечу на них во время следующего ревью.\n",
    "    \n",
    "Также буду рад ответить на любые твои вопросы по проекту или на какие-либо другие, если они у тебя имеются - оставь их в комментариях, и я постараюсь ответить:)\n",
    "    \n",
    "Жду твой проект на повторном ревью. До встречи:)"
   ]
  },
  {
   "cell_type": "markdown",
   "metadata": {},
   "source": [
    "<div style=\"border:solid Chocolate 2px; padding: 40px\">\n",
    "\n",
    "# Комментарий ревьюера: общий вывод по проекту v.2.\n",
    "\n",
    "Данил, все замечания учтены - проект принят!\n",
    "    \n",
    "Спасибо за хорошую работу над проектом, желаю успехов в дальнейшем обучении:)"
   ]
  }
 ],
 "metadata": {
  "ExecuteTimeLog": [
   {
    "duration": 1277,
    "start_time": "2023-03-16T12:19:43.797Z"
   },
   {
    "duration": 235,
    "start_time": "2023-03-16T12:20:01.644Z"
   },
   {
    "duration": 107,
    "start_time": "2023-03-16T12:21:08.442Z"
   },
   {
    "duration": 22,
    "start_time": "2023-03-16T12:21:14.815Z"
   },
   {
    "duration": 108,
    "start_time": "2023-03-16T12:21:18.516Z"
   },
   {
    "duration": 16,
    "start_time": "2023-03-16T12:21:27.909Z"
   },
   {
    "duration": 17,
    "start_time": "2023-03-16T12:29:37.389Z"
   },
   {
    "duration": 8,
    "start_time": "2023-03-16T12:30:19.936Z"
   },
   {
    "duration": 15,
    "start_time": "2023-03-16T12:32:27.208Z"
   },
   {
    "duration": 9,
    "start_time": "2023-03-16T12:32:35.398Z"
   },
   {
    "duration": 13,
    "start_time": "2023-03-16T12:32:44.052Z"
   },
   {
    "duration": 10,
    "start_time": "2023-03-16T12:33:03.252Z"
   },
   {
    "duration": 12,
    "start_time": "2023-03-16T12:33:10.821Z"
   },
   {
    "duration": 13,
    "start_time": "2023-03-16T12:34:34.133Z"
   },
   {
    "duration": 11,
    "start_time": "2023-03-16T12:34:45.097Z"
   },
   {
    "duration": 12,
    "start_time": "2023-03-16T12:34:55.313Z"
   },
   {
    "duration": 22,
    "start_time": "2023-03-16T12:35:04.609Z"
   },
   {
    "duration": 16,
    "start_time": "2023-03-16T12:35:07.452Z"
   },
   {
    "duration": 4,
    "start_time": "2023-03-16T12:35:28.719Z"
   },
   {
    "duration": 4,
    "start_time": "2023-03-16T12:37:12.419Z"
   },
   {
    "duration": 44,
    "start_time": "2023-03-16T12:38:50.401Z"
   },
   {
    "duration": 13,
    "start_time": "2023-03-16T12:39:00.329Z"
   },
   {
    "duration": 17,
    "start_time": "2023-03-16T12:42:52.722Z"
   },
   {
    "duration": 11,
    "start_time": "2023-03-16T12:45:16.625Z"
   },
   {
    "duration": 13,
    "start_time": "2023-03-16T12:46:25.423Z"
   },
   {
    "duration": 532,
    "start_time": "2023-03-16T12:55:17.775Z"
   },
   {
    "duration": 475,
    "start_time": "2023-03-16T12:56:19.575Z"
   },
   {
    "duration": 1098,
    "start_time": "2023-03-16T13:00:51.529Z"
   },
   {
    "duration": 79,
    "start_time": "2023-03-16T13:00:52.631Z"
   },
   {
    "duration": 20,
    "start_time": "2023-03-16T13:00:53.496Z"
   },
   {
    "duration": 17,
    "start_time": "2023-03-16T13:01:14.457Z"
   },
   {
    "duration": 11,
    "start_time": "2023-03-16T13:01:18.769Z"
   },
   {
    "duration": 14,
    "start_time": "2023-03-16T13:01:59.122Z"
   },
   {
    "duration": 4,
    "start_time": "2023-03-16T13:02:03.635Z"
   },
   {
    "duration": 11,
    "start_time": "2023-03-16T13:02:05.390Z"
   },
   {
    "duration": 4,
    "start_time": "2023-03-16T13:02:11.193Z"
   },
   {
    "duration": 11,
    "start_time": "2023-03-16T13:02:19.045Z"
   },
   {
    "duration": 12,
    "start_time": "2023-03-16T13:02:30.130Z"
   },
   {
    "duration": 10,
    "start_time": "2023-03-16T13:02:35.620Z"
   },
   {
    "duration": 572,
    "start_time": "2023-03-16T13:02:39.767Z"
   },
   {
    "duration": 3,
    "start_time": "2023-03-16T13:10:26.397Z"
   },
   {
    "duration": 77,
    "start_time": "2023-03-16T13:10:26.624Z"
   },
   {
    "duration": 16,
    "start_time": "2023-03-16T13:10:26.962Z"
   },
   {
    "duration": 16,
    "start_time": "2023-03-16T13:10:27.351Z"
   },
   {
    "duration": 9,
    "start_time": "2023-03-16T13:10:27.486Z"
   },
   {
    "duration": 15,
    "start_time": "2023-03-16T13:10:27.851Z"
   },
   {
    "duration": 3,
    "start_time": "2023-03-16T13:10:28.040Z"
   },
   {
    "duration": 9,
    "start_time": "2023-03-16T13:10:28.245Z"
   },
   {
    "duration": 4,
    "start_time": "2023-03-16T13:10:28.438Z"
   },
   {
    "duration": 9,
    "start_time": "2023-03-16T13:10:28.793Z"
   },
   {
    "duration": 10,
    "start_time": "2023-03-16T13:10:29.357Z"
   },
   {
    "duration": 12,
    "start_time": "2023-03-16T13:10:29.973Z"
   },
   {
    "duration": 152,
    "start_time": "2023-03-16T13:10:30.375Z"
   },
   {
    "duration": 463,
    "start_time": "2023-03-16T13:10:30.560Z"
   },
   {
    "duration": 185,
    "start_time": "2023-03-16T13:12:55.822Z"
   },
   {
    "duration": 6,
    "start_time": "2023-03-16T13:23:37.468Z"
   },
   {
    "duration": 7,
    "start_time": "2023-03-16T13:23:45.556Z"
   },
   {
    "duration": 7,
    "start_time": "2023-03-16T13:24:46.987Z"
   },
   {
    "duration": 5,
    "start_time": "2023-03-16T13:24:51.477Z"
   },
   {
    "duration": 6,
    "start_time": "2023-03-16T13:25:19.741Z"
   },
   {
    "duration": 6,
    "start_time": "2023-03-16T13:25:32.572Z"
   },
   {
    "duration": 7,
    "start_time": "2023-03-16T13:25:36.927Z"
   },
   {
    "duration": 10,
    "start_time": "2023-03-16T13:25:41.223Z"
   },
   {
    "duration": 1170,
    "start_time": "2023-03-16T13:25:47.406Z"
   },
   {
    "duration": 79,
    "start_time": "2023-03-16T13:25:48.578Z"
   },
   {
    "duration": 21,
    "start_time": "2023-03-16T13:25:48.981Z"
   },
   {
    "duration": 17,
    "start_time": "2023-03-16T13:25:50.649Z"
   },
   {
    "duration": 9,
    "start_time": "2023-03-16T13:25:52.761Z"
   },
   {
    "duration": 15,
    "start_time": "2023-03-16T13:25:53.705Z"
   },
   {
    "duration": 4,
    "start_time": "2023-03-16T13:25:54.367Z"
   },
   {
    "duration": 9,
    "start_time": "2023-03-16T13:25:55.287Z"
   },
   {
    "duration": 6,
    "start_time": "2023-03-16T13:25:56.259Z"
   },
   {
    "duration": 4,
    "start_time": "2023-03-16T13:25:57.445Z"
   },
   {
    "duration": 6,
    "start_time": "2023-03-16T13:26:21.813Z"
   },
   {
    "duration": 8,
    "start_time": "2023-03-16T13:26:47.295Z"
   },
   {
    "duration": 6,
    "start_time": "2023-03-16T13:27:07.829Z"
   },
   {
    "duration": 6,
    "start_time": "2023-03-16T13:27:23.829Z"
   },
   {
    "duration": 4,
    "start_time": "2023-03-16T13:27:24.698Z"
   },
   {
    "duration": 1531,
    "start_time": "2023-03-16T13:27:27.165Z"
   },
   {
    "duration": 0,
    "start_time": "2023-03-16T13:27:28.697Z"
   },
   {
    "duration": 1423,
    "start_time": "2023-03-16T13:27:38.114Z"
   },
   {
    "duration": 10,
    "start_time": "2023-03-16T13:27:43.969Z"
   },
   {
    "duration": 13,
    "start_time": "2023-03-16T13:28:01.164Z"
   },
   {
    "duration": 12,
    "start_time": "2023-03-16T13:28:15.123Z"
   },
   {
    "duration": 176,
    "start_time": "2023-03-16T13:28:46.673Z"
   },
   {
    "duration": 134,
    "start_time": "2023-03-16T13:30:02.741Z"
   },
   {
    "duration": 132,
    "start_time": "2023-03-16T13:30:08.738Z"
   },
   {
    "duration": 165,
    "start_time": "2023-03-16T13:30:13.049Z"
   },
   {
    "duration": 178,
    "start_time": "2023-03-16T13:30:41.120Z"
   },
   {
    "duration": 12,
    "start_time": "2023-03-16T13:31:56.055Z"
   },
   {
    "duration": 166,
    "start_time": "2023-03-16T13:32:04.954Z"
   },
   {
    "duration": 131,
    "start_time": "2023-03-16T13:32:05.746Z"
   },
   {
    "duration": 7,
    "start_time": "2023-03-16T13:32:39.482Z"
   },
   {
    "duration": 328,
    "start_time": "2023-03-16T13:33:57.818Z"
   },
   {
    "duration": 21,
    "start_time": "2023-03-16T13:38:39.614Z"
   },
   {
    "duration": 17,
    "start_time": "2023-03-16T13:39:04.734Z"
   },
   {
    "duration": 11,
    "start_time": "2023-03-16T13:39:05.557Z"
   },
   {
    "duration": 4,
    "start_time": "2023-03-16T13:39:26.148Z"
   },
   {
    "duration": 75,
    "start_time": "2023-03-16T13:39:41.689Z"
   },
   {
    "duration": 11,
    "start_time": "2023-03-16T13:39:44.088Z"
   },
   {
    "duration": 11,
    "start_time": "2023-03-16T13:39:53.749Z"
   },
   {
    "duration": 9,
    "start_time": "2023-03-16T13:40:44.285Z"
   },
   {
    "duration": 3,
    "start_time": "2023-03-16T13:40:53.622Z"
   },
   {
    "duration": 4,
    "start_time": "2023-03-16T13:40:57.316Z"
   },
   {
    "duration": 5,
    "start_time": "2023-03-16T13:41:11.830Z"
   },
   {
    "duration": 4,
    "start_time": "2023-03-16T13:41:29.402Z"
   },
   {
    "duration": 5,
    "start_time": "2023-03-16T13:41:47.954Z"
   },
   {
    "duration": 4,
    "start_time": "2023-03-16T13:42:23.648Z"
   },
   {
    "duration": 9,
    "start_time": "2023-03-16T13:42:34.532Z"
   },
   {
    "duration": 5,
    "start_time": "2023-03-16T13:42:38.015Z"
   },
   {
    "duration": 4,
    "start_time": "2023-03-16T13:42:54.755Z"
   },
   {
    "duration": 73,
    "start_time": "2023-03-16T13:43:52.939Z"
   },
   {
    "duration": 333,
    "start_time": "2023-03-16T13:44:11.597Z"
   },
   {
    "duration": 357,
    "start_time": "2023-03-16T13:44:24.949Z"
   },
   {
    "duration": 75,
    "start_time": "2023-03-16T13:45:21.557Z"
   },
   {
    "duration": 15,
    "start_time": "2023-03-16T13:45:23.908Z"
   },
   {
    "duration": 339,
    "start_time": "2023-03-16T13:45:47.787Z"
   },
   {
    "duration": 3,
    "start_time": "2023-03-16T13:46:08.723Z"
   },
   {
    "duration": 1105,
    "start_time": "2023-03-16T13:46:16.289Z"
   },
   {
    "duration": 79,
    "start_time": "2023-03-16T13:46:17.397Z"
   },
   {
    "duration": 20,
    "start_time": "2023-03-16T13:46:18.724Z"
   },
   {
    "duration": 17,
    "start_time": "2023-03-16T13:46:20.137Z"
   },
   {
    "duration": 19,
    "start_time": "2023-03-16T13:46:29.504Z"
   },
   {
    "duration": 15,
    "start_time": "2023-03-16T13:46:35.687Z"
   },
   {
    "duration": 5,
    "start_time": "2023-03-16T13:46:36.337Z"
   },
   {
    "duration": 499,
    "start_time": "2023-03-16T13:46:36.984Z"
   },
   {
    "duration": 332,
    "start_time": "2023-03-16T13:46:45.745Z"
   },
   {
    "duration": 8,
    "start_time": "2023-03-16T13:47:18.166Z"
   },
   {
    "duration": 5,
    "start_time": "2023-03-16T13:47:20.501Z"
   },
   {
    "duration": 4,
    "start_time": "2023-03-16T13:47:22.480Z"
   },
   {
    "duration": 14,
    "start_time": "2023-03-16T13:47:32.137Z"
   },
   {
    "duration": 12,
    "start_time": "2023-03-16T13:47:34.987Z"
   },
   {
    "duration": 11,
    "start_time": "2023-03-16T13:47:36.288Z"
   },
   {
    "duration": 175,
    "start_time": "2023-03-16T13:47:36.950Z"
   },
   {
    "duration": 139,
    "start_time": "2023-03-16T13:47:38.951Z"
   },
   {
    "duration": 10,
    "start_time": "2023-03-16T13:47:39.199Z"
   },
   {
    "duration": 13,
    "start_time": "2023-03-16T13:47:40.313Z"
   },
   {
    "duration": 30,
    "start_time": "2023-03-16T13:48:36.565Z"
   },
   {
    "duration": 556,
    "start_time": "2023-03-16T13:50:50.706Z"
   },
   {
    "duration": 191,
    "start_time": "2023-03-16T13:55:43.648Z"
   },
   {
    "duration": 330,
    "start_time": "2023-03-16T13:58:49.723Z"
   },
   {
    "duration": 230,
    "start_time": "2023-03-16T14:01:03.715Z"
   },
   {
    "duration": 358,
    "start_time": "2023-03-16T14:03:30.532Z"
   },
   {
    "duration": 14,
    "start_time": "2023-03-16T14:05:41.073Z"
   },
   {
    "duration": 17,
    "start_time": "2023-03-16T14:06:11.332Z"
   },
   {
    "duration": 134,
    "start_time": "2023-03-16T14:06:23.516Z"
   },
   {
    "duration": 5,
    "start_time": "2023-03-16T14:13:46.103Z"
   },
   {
    "duration": 155,
    "start_time": "2023-03-16T14:14:36.893Z"
   },
   {
    "duration": 5,
    "start_time": "2023-03-16T14:15:45.899Z"
   },
   {
    "duration": 136,
    "start_time": "2023-03-16T14:21:30.050Z"
   },
   {
    "duration": 105,
    "start_time": "2023-03-16T14:22:13.134Z"
   },
   {
    "duration": 189,
    "start_time": "2023-03-16T14:23:06.567Z"
   },
   {
    "duration": 173,
    "start_time": "2023-03-16T14:23:30.881Z"
   },
   {
    "duration": 164,
    "start_time": "2023-03-16T14:24:09.705Z"
   },
   {
    "duration": 351,
    "start_time": "2023-03-16T14:24:47.404Z"
   },
   {
    "duration": 84,
    "start_time": "2023-03-16T14:25:04.006Z"
   },
   {
    "duration": 24,
    "start_time": "2023-03-16T14:25:39.422Z"
   },
   {
    "duration": 11,
    "start_time": "2023-03-16T14:27:21.804Z"
   },
   {
    "duration": 11,
    "start_time": "2023-03-16T14:27:38.992Z"
   },
   {
    "duration": 15,
    "start_time": "2023-03-16T14:27:45.385Z"
   },
   {
    "duration": 1212,
    "start_time": "2023-03-16T14:29:02.687Z"
   },
   {
    "duration": 1322,
    "start_time": "2023-03-16T14:29:17.689Z"
   },
   {
    "duration": 1265,
    "start_time": "2023-03-16T14:29:26.584Z"
   },
   {
    "duration": 9,
    "start_time": "2023-03-16T14:29:44.089Z"
   },
   {
    "duration": 26,
    "start_time": "2023-03-16T14:31:17.027Z"
   },
   {
    "duration": 1185,
    "start_time": "2023-03-16T14:34:33.616Z"
   },
   {
    "duration": 13,
    "start_time": "2023-03-16T14:34:57.526Z"
   },
   {
    "duration": 1148,
    "start_time": "2023-03-16T14:46:47.181Z"
   },
   {
    "duration": 76,
    "start_time": "2023-03-16T14:46:48.331Z"
   },
   {
    "duration": 23,
    "start_time": "2023-03-16T14:46:48.742Z"
   },
   {
    "duration": 18,
    "start_time": "2023-03-16T14:46:49.849Z"
   },
   {
    "duration": 18,
    "start_time": "2023-03-16T14:46:50.357Z"
   },
   {
    "duration": 20,
    "start_time": "2023-03-16T14:46:51.147Z"
   },
   {
    "duration": 5,
    "start_time": "2023-03-16T14:46:51.444Z"
   },
   {
    "duration": 10,
    "start_time": "2023-03-16T14:46:51.796Z"
   },
   {
    "duration": 5,
    "start_time": "2023-03-16T14:46:52.204Z"
   },
   {
    "duration": 4,
    "start_time": "2023-03-16T14:46:52.601Z"
   },
   {
    "duration": 11,
    "start_time": "2023-03-16T14:46:53.482Z"
   },
   {
    "duration": 12,
    "start_time": "2023-03-16T14:46:54.690Z"
   },
   {
    "duration": 11,
    "start_time": "2023-03-16T14:46:55.891Z"
   },
   {
    "duration": 529,
    "start_time": "2023-03-16T14:49:14.323Z"
   },
   {
    "duration": 208,
    "start_time": "2023-03-16T14:49:15.985Z"
   },
   {
    "duration": 322,
    "start_time": "2023-03-16T14:49:16.623Z"
   },
   {
    "duration": 220,
    "start_time": "2023-03-16T14:49:17.552Z"
   },
   {
    "duration": 339,
    "start_time": "2023-03-16T14:49:18.812Z"
   },
   {
    "duration": 135,
    "start_time": "2023-03-16T14:49:20.238Z"
   },
   {
    "duration": 5,
    "start_time": "2023-03-16T14:49:22.048Z"
   },
   {
    "duration": 142,
    "start_time": "2023-03-16T14:49:23.559Z"
   },
   {
    "duration": 5,
    "start_time": "2023-03-16T14:49:25.240Z"
   },
   {
    "duration": 353,
    "start_time": "2023-03-16T14:49:26.787Z"
   },
   {
    "duration": 28,
    "start_time": "2023-03-16T14:49:27.583Z"
   },
   {
    "duration": 11,
    "start_time": "2023-03-16T14:49:28.841Z"
   },
   {
    "duration": 10,
    "start_time": "2023-03-16T14:49:29.885Z"
   },
   {
    "duration": 40,
    "start_time": "2023-03-16T14:49:30.450Z"
   },
   {
    "duration": 15,
    "start_time": "2023-03-16T14:49:31.450Z"
   },
   {
    "duration": 393,
    "start_time": "2023-03-16T14:59:43.182Z"
   },
   {
    "duration": 321,
    "start_time": "2023-03-16T14:59:57.041Z"
   },
   {
    "duration": 1176,
    "start_time": "2023-03-16T15:00:10.309Z"
   },
   {
    "duration": 78,
    "start_time": "2023-03-16T15:00:11.487Z"
   },
   {
    "duration": 20,
    "start_time": "2023-03-16T15:00:11.629Z"
   },
   {
    "duration": 17,
    "start_time": "2023-03-16T15:00:12.382Z"
   },
   {
    "duration": 17,
    "start_time": "2023-03-16T15:00:13.486Z"
   },
   {
    "duration": 383,
    "start_time": "2023-03-16T15:00:21.538Z"
   },
   {
    "duration": 15,
    "start_time": "2023-03-16T15:00:38.459Z"
   },
   {
    "duration": 5,
    "start_time": "2023-03-16T15:00:39.163Z"
   },
   {
    "duration": 8,
    "start_time": "2023-03-16T15:00:39.786Z"
   },
   {
    "duration": 1088,
    "start_time": "2023-03-16T15:00:51.825Z"
   },
   {
    "duration": 76,
    "start_time": "2023-03-16T15:00:52.915Z"
   },
   {
    "duration": 22,
    "start_time": "2023-03-16T15:00:53.137Z"
   },
   {
    "duration": 18,
    "start_time": "2023-03-16T15:00:54.718Z"
   },
   {
    "duration": 18,
    "start_time": "2023-03-16T15:00:57.024Z"
   },
   {
    "duration": 16,
    "start_time": "2023-03-16T15:01:00.659Z"
   },
   {
    "duration": 5,
    "start_time": "2023-03-16T15:01:00.888Z"
   },
   {
    "duration": 8,
    "start_time": "2023-03-16T15:01:01.084Z"
   },
   {
    "duration": 5,
    "start_time": "2023-03-16T15:01:02.128Z"
   },
   {
    "duration": 4,
    "start_time": "2023-03-16T15:01:02.873Z"
   },
   {
    "duration": 11,
    "start_time": "2023-03-16T15:01:04.663Z"
   },
   {
    "duration": 12,
    "start_time": "2023-03-16T15:01:06.986Z"
   },
   {
    "duration": 12,
    "start_time": "2023-03-16T15:01:07.984Z"
   },
   {
    "duration": 565,
    "start_time": "2023-03-16T15:01:08.736Z"
   },
   {
    "duration": 193,
    "start_time": "2023-03-16T15:01:09.303Z"
   },
   {
    "duration": 290,
    "start_time": "2023-03-16T15:01:09.845Z"
   },
   {
    "duration": 222,
    "start_time": "2023-03-16T15:01:10.510Z"
   },
   {
    "duration": 302,
    "start_time": "2023-03-16T15:01:11.044Z"
   },
   {
    "duration": 137,
    "start_time": "2023-03-16T15:01:11.639Z"
   },
   {
    "duration": 4,
    "start_time": "2023-03-16T15:01:12.256Z"
   },
   {
    "duration": 147,
    "start_time": "2023-03-16T15:01:12.956Z"
   },
   {
    "duration": 4,
    "start_time": "2023-03-16T15:01:13.584Z"
   },
   {
    "duration": 341,
    "start_time": "2023-03-16T15:01:14.169Z"
   },
   {
    "duration": 25,
    "start_time": "2023-03-16T15:01:14.586Z"
   },
   {
    "duration": 10,
    "start_time": "2023-03-16T15:01:15.390Z"
   },
   {
    "duration": 9,
    "start_time": "2023-03-16T15:01:15.992Z"
   },
   {
    "duration": 25,
    "start_time": "2023-03-16T15:01:16.391Z"
   },
   {
    "duration": 13,
    "start_time": "2023-03-16T15:01:17.201Z"
   },
   {
    "duration": 3754,
    "start_time": "2023-03-17T06:39:02.773Z"
   },
   {
    "duration": 92,
    "start_time": "2023-03-17T06:39:06.529Z"
   },
   {
    "duration": 22,
    "start_time": "2023-03-17T06:39:06.623Z"
   },
   {
    "duration": 16,
    "start_time": "2023-03-17T06:39:06.647Z"
   },
   {
    "duration": 24,
    "start_time": "2023-03-17T06:39:06.665Z"
   },
   {
    "duration": 42,
    "start_time": "2023-03-17T06:39:06.690Z"
   },
   {
    "duration": 12,
    "start_time": "2023-03-17T06:39:06.735Z"
   },
   {
    "duration": 25,
    "start_time": "2023-03-17T06:39:06.749Z"
   },
   {
    "duration": 52,
    "start_time": "2023-03-17T06:39:06.776Z"
   },
   {
    "duration": 5,
    "start_time": "2023-03-17T06:39:06.832Z"
   },
   {
    "duration": 13,
    "start_time": "2023-03-17T06:39:06.839Z"
   },
   {
    "duration": 12,
    "start_time": "2023-03-17T06:39:06.854Z"
   },
   {
    "duration": 41,
    "start_time": "2023-03-17T06:39:06.868Z"
   },
   {
    "duration": 333,
    "start_time": "2023-03-17T06:39:06.914Z"
   },
   {
    "duration": 359,
    "start_time": "2023-03-17T06:39:07.249Z"
   },
   {
    "duration": 217,
    "start_time": "2023-03-17T06:39:07.610Z"
   },
   {
    "duration": 314,
    "start_time": "2023-03-17T06:39:07.829Z"
   },
   {
    "duration": 264,
    "start_time": "2023-03-17T06:39:08.145Z"
   },
   {
    "duration": 324,
    "start_time": "2023-03-17T06:39:08.411Z"
   },
   {
    "duration": 140,
    "start_time": "2023-03-17T06:39:08.737Z"
   },
   {
    "duration": 11,
    "start_time": "2023-03-17T06:39:08.896Z"
   },
   {
    "duration": 147,
    "start_time": "2023-03-17T06:39:08.909Z"
   },
   {
    "duration": 4,
    "start_time": "2023-03-17T06:39:09.058Z"
   },
   {
    "duration": 433,
    "start_time": "2023-03-17T06:39:09.064Z"
   },
   {
    "duration": 30,
    "start_time": "2023-03-17T06:39:09.498Z"
   },
   {
    "duration": 10,
    "start_time": "2023-03-17T06:39:09.529Z"
   },
   {
    "duration": 8,
    "start_time": "2023-03-17T06:39:09.541Z"
   },
   {
    "duration": 51,
    "start_time": "2023-03-17T06:39:09.552Z"
   },
   {
    "duration": 17,
    "start_time": "2023-03-17T06:39:09.604Z"
   },
   {
    "duration": 56,
    "start_time": "2023-03-17T09:14:55.200Z"
   },
   {
    "duration": 1207,
    "start_time": "2023-03-17T09:15:07.588Z"
   },
   {
    "duration": 222,
    "start_time": "2023-03-17T09:15:09.235Z"
   },
   {
    "duration": 21,
    "start_time": "2023-03-17T09:15:11.886Z"
   },
   {
    "duration": 16,
    "start_time": "2023-03-17T09:15:14.007Z"
   },
   {
    "duration": 17,
    "start_time": "2023-03-17T09:15:15.675Z"
   },
   {
    "duration": 17,
    "start_time": "2023-03-17T09:15:17.372Z"
   },
   {
    "duration": 4,
    "start_time": "2023-03-17T09:15:17.950Z"
   },
   {
    "duration": 7,
    "start_time": "2023-03-17T09:15:22.048Z"
   },
   {
    "duration": 5,
    "start_time": "2023-03-17T09:15:24.420Z"
   },
   {
    "duration": 3,
    "start_time": "2023-03-17T09:15:28.622Z"
   },
   {
    "duration": 11,
    "start_time": "2023-03-17T09:15:30.501Z"
   },
   {
    "duration": 79,
    "start_time": "2023-03-17T09:15:40.758Z"
   },
   {
    "duration": 66,
    "start_time": "2023-03-17T09:16:05.209Z"
   },
   {
    "duration": 78,
    "start_time": "2023-03-17T09:23:16.954Z"
   },
   {
    "duration": 74,
    "start_time": "2023-03-17T09:23:38.513Z"
   },
   {
    "duration": 11,
    "start_time": "2023-03-17T09:24:05.704Z"
   },
   {
    "duration": 13,
    "start_time": "2023-03-17T10:18:30.616Z"
   },
   {
    "duration": 1122,
    "start_time": "2023-03-17T10:18:51.757Z"
   },
   {
    "duration": 75,
    "start_time": "2023-03-17T10:18:52.881Z"
   },
   {
    "duration": 28,
    "start_time": "2023-03-17T10:18:54.219Z"
   },
   {
    "duration": 16,
    "start_time": "2023-03-17T10:18:55.244Z"
   },
   {
    "duration": 25,
    "start_time": "2023-03-17T10:18:56.266Z"
   },
   {
    "duration": 17,
    "start_time": "2023-03-17T10:18:56.949Z"
   },
   {
    "duration": 4,
    "start_time": "2023-03-17T10:18:57.253Z"
   },
   {
    "duration": 9,
    "start_time": "2023-03-17T10:18:57.526Z"
   },
   {
    "duration": 6,
    "start_time": "2023-03-17T10:18:57.763Z"
   },
   {
    "duration": 5,
    "start_time": "2023-03-17T10:18:58.200Z"
   },
   {
    "duration": 11,
    "start_time": "2023-03-17T10:18:58.638Z"
   },
   {
    "duration": 100,
    "start_time": "2023-03-17T10:18:58.866Z"
   },
   {
    "duration": 68,
    "start_time": "2023-03-17T10:19:14.593Z"
   },
   {
    "duration": 12,
    "start_time": "2023-03-17T10:19:28.276Z"
   },
   {
    "duration": 12,
    "start_time": "2023-03-17T10:19:33.287Z"
   },
   {
    "duration": 257,
    "start_time": "2023-03-17T10:19:37.965Z"
   },
   {
    "duration": 302,
    "start_time": "2023-03-17T10:19:38.868Z"
   },
   {
    "duration": 186,
    "start_time": "2023-03-17T10:19:40.710Z"
   },
   {
    "duration": 311,
    "start_time": "2023-03-17T10:19:41.616Z"
   },
   {
    "duration": 202,
    "start_time": "2023-03-17T10:19:43.119Z"
   },
   {
    "duration": 330,
    "start_time": "2023-03-17T10:20:49.910Z"
   },
   {
    "duration": 343,
    "start_time": "2023-03-17T10:21:11.749Z"
   },
   {
    "duration": 123,
    "start_time": "2023-03-17T10:21:28.368Z"
   },
   {
    "duration": 4,
    "start_time": "2023-03-17T10:21:30.232Z"
   },
   {
    "duration": 137,
    "start_time": "2023-03-17T10:21:32.350Z"
   },
   {
    "duration": 4,
    "start_time": "2023-03-17T10:23:38.886Z"
   },
   {
    "duration": 4,
    "start_time": "2023-03-17T10:23:58.533Z"
   },
   {
    "duration": 395,
    "start_time": "2023-03-17T10:24:00.745Z"
   },
   {
    "duration": 133,
    "start_time": "2023-03-17T10:29:26.880Z"
   },
   {
    "duration": 139,
    "start_time": "2023-03-17T10:29:49.506Z"
   },
   {
    "duration": 159,
    "start_time": "2023-03-17T10:31:12.637Z"
   },
   {
    "duration": 154,
    "start_time": "2023-03-17T10:31:22.957Z"
   },
   {
    "duration": 4,
    "start_time": "2023-03-17T10:31:32.419Z"
   },
   {
    "duration": 333,
    "start_time": "2023-03-17T10:31:33.514Z"
   },
   {
    "duration": 82,
    "start_time": "2023-03-17T10:43:24.600Z"
   },
   {
    "duration": 29,
    "start_time": "2023-03-17T10:43:33.016Z"
   },
   {
    "duration": 29,
    "start_time": "2023-03-17T10:43:54.156Z"
   },
   {
    "duration": 12,
    "start_time": "2023-03-17T10:45:40.623Z"
   },
   {
    "duration": 10,
    "start_time": "2023-03-17T10:45:51.337Z"
   },
   {
    "duration": 100,
    "start_time": "2023-03-17T10:46:23.165Z"
   },
   {
    "duration": 10,
    "start_time": "2023-03-17T10:46:54.501Z"
   },
   {
    "duration": 9,
    "start_time": "2023-03-17T10:47:22.250Z"
   },
   {
    "duration": 12,
    "start_time": "2023-03-17T11:13:47.497Z"
   },
   {
    "duration": 10,
    "start_time": "2023-03-17T11:16:21.249Z"
   },
   {
    "duration": 30,
    "start_time": "2023-03-17T11:18:08.204Z"
   },
   {
    "duration": 14,
    "start_time": "2023-03-17T11:18:55.826Z"
   },
   {
    "duration": 88,
    "start_time": "2023-03-17T11:45:37.593Z"
   },
   {
    "duration": 16,
    "start_time": "2023-03-17T11:49:09.775Z"
   },
   {
    "duration": 16,
    "start_time": "2023-03-17T11:49:42.247Z"
   },
   {
    "duration": 30,
    "start_time": "2023-03-17T11:50:06.250Z"
   },
   {
    "duration": 374,
    "start_time": "2023-03-17T11:50:19.625Z"
   },
   {
    "duration": 13,
    "start_time": "2023-03-17T11:50:24.457Z"
   },
   {
    "duration": 12,
    "start_time": "2023-03-17T11:52:30.812Z"
   },
   {
    "duration": 11,
    "start_time": "2023-03-17T11:52:47.689Z"
   },
   {
    "duration": 80,
    "start_time": "2023-03-17T11:53:10.529Z"
   },
   {
    "duration": 1204,
    "start_time": "2023-03-17T12:16:30.310Z"
   },
   {
    "duration": 80,
    "start_time": "2023-03-17T12:16:31.516Z"
   },
   {
    "duration": 21,
    "start_time": "2023-03-17T12:16:31.734Z"
   },
   {
    "duration": 16,
    "start_time": "2023-03-17T12:16:32.354Z"
   },
   {
    "duration": 19,
    "start_time": "2023-03-17T12:16:33.397Z"
   },
   {
    "duration": 16,
    "start_time": "2023-03-17T12:16:34.144Z"
   },
   {
    "duration": 4,
    "start_time": "2023-03-17T12:16:34.502Z"
   },
   {
    "duration": 8,
    "start_time": "2023-03-17T12:16:34.846Z"
   },
   {
    "duration": 6,
    "start_time": "2023-03-17T12:16:35.594Z"
   },
   {
    "duration": 4,
    "start_time": "2023-03-17T12:16:35.924Z"
   },
   {
    "duration": 10,
    "start_time": "2023-03-17T12:16:36.765Z"
   },
   {
    "duration": 68,
    "start_time": "2023-03-17T12:16:37.033Z"
   },
   {
    "duration": 12,
    "start_time": "2023-03-17T12:16:43.913Z"
   },
   {
    "duration": 12,
    "start_time": "2023-03-17T12:16:48.134Z"
   },
   {
    "duration": 291,
    "start_time": "2023-03-17T12:17:03.358Z"
   },
   {
    "duration": 293,
    "start_time": "2023-03-17T12:17:04.023Z"
   },
   {
    "duration": 202,
    "start_time": "2023-03-17T12:17:04.866Z"
   },
   {
    "duration": 360,
    "start_time": "2023-03-17T12:17:05.549Z"
   },
   {
    "duration": 233,
    "start_time": "2023-03-17T12:17:06.187Z"
   },
   {
    "duration": 361,
    "start_time": "2023-03-17T12:17:13.923Z"
   },
   {
    "duration": 175,
    "start_time": "2023-03-17T12:17:18.957Z"
   },
   {
    "duration": 4,
    "start_time": "2023-03-17T12:17:20.232Z"
   },
   {
    "duration": 160,
    "start_time": "2023-03-17T12:17:21.583Z"
   },
   {
    "duration": 159,
    "start_time": "2023-03-17T12:17:27.778Z"
   },
   {
    "duration": 254,
    "start_time": "2023-03-17T12:17:35.133Z"
   },
   {
    "duration": 4,
    "start_time": "2023-03-17T12:17:41.953Z"
   },
   {
    "duration": 352,
    "start_time": "2023-03-17T12:17:43.278Z"
   },
   {
    "duration": 29,
    "start_time": "2023-03-17T12:17:56.908Z"
   },
   {
    "duration": 10,
    "start_time": "2023-03-17T12:18:04.717Z"
   },
   {
    "duration": 11,
    "start_time": "2023-03-17T12:18:07.128Z"
   },
   {
    "duration": 28,
    "start_time": "2023-03-17T12:18:13.171Z"
   },
   {
    "duration": 14,
    "start_time": "2023-03-17T12:18:17.948Z"
   },
   {
    "duration": 1011,
    "start_time": "2023-03-18T12:17:50.836Z"
   },
   {
    "duration": 212,
    "start_time": "2023-03-18T12:17:51.849Z"
   },
   {
    "duration": 20,
    "start_time": "2023-03-18T12:17:52.063Z"
   },
   {
    "duration": 14,
    "start_time": "2023-03-18T12:17:52.085Z"
   },
   {
    "duration": 17,
    "start_time": "2023-03-18T12:17:52.101Z"
   },
   {
    "duration": 14,
    "start_time": "2023-03-18T12:17:52.120Z"
   },
   {
    "duration": 3,
    "start_time": "2023-03-18T12:17:52.136Z"
   },
   {
    "duration": 10,
    "start_time": "2023-03-18T12:17:52.140Z"
   },
   {
    "duration": 8,
    "start_time": "2023-03-18T12:17:52.151Z"
   },
   {
    "duration": 4,
    "start_time": "2023-03-18T12:17:52.189Z"
   },
   {
    "duration": 16,
    "start_time": "2023-03-18T12:17:52.194Z"
   },
   {
    "duration": 80,
    "start_time": "2023-03-18T12:17:52.211Z"
   },
   {
    "duration": 12,
    "start_time": "2023-03-18T12:17:52.293Z"
   },
   {
    "duration": 11,
    "start_time": "2023-03-18T12:17:52.307Z"
   },
   {
    "duration": 308,
    "start_time": "2023-03-18T12:17:52.320Z"
   },
   {
    "duration": 288,
    "start_time": "2023-03-18T12:17:52.630Z"
   },
   {
    "duration": 198,
    "start_time": "2023-03-18T12:17:52.919Z"
   },
   {
    "duration": 306,
    "start_time": "2023-03-18T12:17:53.119Z"
   },
   {
    "duration": 226,
    "start_time": "2023-03-18T12:17:53.427Z"
   },
   {
    "duration": 348,
    "start_time": "2023-03-18T12:17:53.654Z"
   },
   {
    "duration": 138,
    "start_time": "2023-03-18T12:17:54.004Z"
   },
   {
    "duration": 5,
    "start_time": "2023-03-18T12:17:54.143Z"
   },
   {
    "duration": 153,
    "start_time": "2023-03-18T12:17:54.149Z"
   },
   {
    "duration": 151,
    "start_time": "2023-03-18T12:17:54.304Z"
   },
   {
    "duration": 5,
    "start_time": "2023-03-18T12:17:54.458Z"
   },
   {
    "duration": 456,
    "start_time": "2023-03-18T12:17:54.465Z"
   },
   {
    "duration": 26,
    "start_time": "2023-03-18T12:17:54.923Z"
   },
   {
    "duration": 12,
    "start_time": "2023-03-18T12:17:54.953Z"
   },
   {
    "duration": 30,
    "start_time": "2023-03-18T12:17:54.967Z"
   },
   {
    "duration": 68,
    "start_time": "2023-03-18T12:17:54.999Z"
   },
   {
    "duration": 16,
    "start_time": "2023-03-18T12:17:55.069Z"
   }
  ],
  "kernelspec": {
   "display_name": "Python 3 (ipykernel)",
   "language": "python",
   "name": "python3"
  },
  "language_info": {
   "codemirror_mode": {
    "name": "ipython",
    "version": 3
   },
   "file_extension": ".py",
   "mimetype": "text/x-python",
   "name": "python",
   "nbconvert_exporter": "python",
   "pygments_lexer": "ipython3",
   "version": "3.9.5"
  },
  "toc": {
   "base_numbering": 1,
   "nav_menu": {},
   "number_sections": true,
   "sideBar": true,
   "skip_h1_title": true,
   "title_cell": "Table of Contents",
   "title_sidebar": "Contents",
   "toc_cell": false,
   "toc_position": {},
   "toc_section_display": true,
   "toc_window_display": false
  }
 },
 "nbformat": 4,
 "nbformat_minor": 2
}
