{
 "cells": [
  {
   "cell_type": "markdown",
   "id": "e661925b",
   "metadata": {},
   "source": [
    "# Дашборд для Яндекс.Дзен"
   ]
  },
  {
   "cell_type": "markdown",
   "id": "7f90a4e9",
   "metadata": {},
   "source": [
    "Ссылка на Tableau public: https://public.tableau.com/app/profile/danil.ivanov/viz/Book1_16817467034770/_?publish=yes"
   ]
  },
  {
   "cell_type": "markdown",
   "id": "f5c1536b",
   "metadata": {},
   "source": [
    "Ссылка на презентацию: https://drive.google.com/file/d/1MQqHWf9-wvs0hyo3cMCLpxj1CznFEv3Z/view?usp=sharing\n"
   ]
  },
  {
   "cell_type": "markdown",
   "id": "e23a0936",
   "metadata": {},
   "source": [
    "### Описание проекта и постановка целей\n"
   ]
  },
  {
   "cell_type": "markdown",
   "id": "ac55caf7",
   "metadata": {},
   "source": [
    "Мы работаем аналитиком в Яндекс.Дзене. Почти всё наше время занимает анализ пользовательского взаимодействия с карточками статей.\n",
    "\n",
    "Каждую карточку определяют её тема и источник (у него тоже есть тема). Примеры тем: «Красота и здоровье», «Россия», «Путешествия».\n",
    "\n",
    "Пользователей системы характеризует возрастная категория. Скажем, «26-30» или «45+».\n",
    "\n",
    "Есть три способа взаимодействия пользователей с системой:\n",
    "\n",
    "- Карточка отображена для пользователя (show);\n",
    "- Пользователь кликнул на карточку (click);\n",
    "- Пользователь просмотрел статью карточки (view).\n",
    "\n",
    "Каждую неделю требуется ответить на следующие вопросы:\n",
    "\n",
    "- Сколько взаимодействий пользователей с карточками происходит в системе с разбивкой по темам карточек?\n",
    "- Как много карточек генерируют источники с разными темами?\n",
    "- Как соотносятся темы карточек и темы источников?\n",
    "- Чтобы автоматизировать процесс, было решено сформировать дашборд.\n",
    "\n",
    "Дашборд будет основываться на пайплайне, который будет брать данные из таблицы, в которых хранятся сырые данные, трансформировать данные и укладывать их в агрегирующую таблицу. Пайплайн будет разработан для вас дата-инженерами.\n",
    "\n",
    "Пообщавшись с менеджерами и администраторами баз данных, мы составили краткое ТЗ:\n",
    "\n",
    "- Бизнес-задача: анализ взаимодействия пользователей с карточками Яндекс.Дзен;\n",
    "- Насколько часто предполагается пользоваться дашбордом: не реже, чем раз в неделю;\n",
    "- Кто будет основным пользователем дашборда: менеджеры по анализу контента;\n",
    "- Состав данных для дашборда:\n",
    " - История событий по темам карточек (два графика - абсолютные числа и процентное соотношение);\n",
    " - Разбивка событий по темам источников;\n",
    " - Таблица соответствия тем источников темам карточек;\n",
    "- По каким параметрам данные должны группироваться:\n",
    " - Дата и время;\n",
    " - Тема карточки;\n",
    " - Тема источника;\n",
    " - Возрастная группа;\n",
    "- Характер данных:\n",
    " - История событий по темам карточек — абсолютные величины с разбивкой по минутам;\n",
    " - Разбивка событий по темам источников — относительные величины (% событий);\n",
    " - Соответствия тем источников темам карточек - абсолютные величины;\n",
    "- Важность: все графики имеют равную важность;\n",
    "- Источники данных для дашборда: дата-инженеры обещали подготовить для вас агрегирующую таблицу dash_visits. Вот её структура: \n",
    " - record_id — первичный ключ,\n",
    " - item_topic — тема карточки,\n",
    " - source_topic — тема источника,\n",
    " - age_segment — возрастной сегмент,\n",
    " - dt — дата и время,\n",
    " - visits — количество событий.\n",
    "- Таблица хранится в специально подготовленной для вас базе данных zen;\n",
    "- Частота обновления данных: один раз в сутки, в полночь по UTC;\n",
    "- Какие графики должны отображаться и в каком порядке, какие элементы управления должны быть на дашборде (макет дашборда):\n",
    "\n"
   ]
  },
  {
   "cell_type": "markdown",
   "id": "5799fa89",
   "metadata": {},
   "source": [
    "![dashboard](/Users/macos/Desktop/dashboard.png)"
   ]
  },
  {
   "cell_type": "code",
   "execution_count": 2,
   "id": "f3f9ff19",
   "metadata": {},
   "outputs": [],
   "source": [
    "# импортируем библиотеки\n",
    "import pandas as pd\n",
    "from sqlalchemy import create_engine\n",
    "\n",
    "db_config = {'user': 'praktikum_student', # имя пользователя\n",
    "            'pwd': 'Sdf4$2;d-d30pp', # пароль\n",
    "            'host': 'rc1b-wcoijxj3yxfsf3fs.mdb.yandexcloud.net',\n",
    "            'port': 6432, # порт подключения\n",
    "            'db': 'data-analyst-zen-project-db'} # название базы данных\n",
    "\n",
    "connection_string = 'postgresql://{}:{}@{}:{}/{}'.format(db_config['user'],\n",
    "                                                db_config['pwd'],\n",
    "                                                db_config['host'],\n",
    "                                                db_config['port'],\n",
    "                                                db_config['db'])\n",
    "\n"
   ]
  },
  {
   "cell_type": "code",
   "execution_count": 3,
   "id": "b1113893",
   "metadata": {},
   "outputs": [],
   "source": [
    "engine = create_engine(connection_string) "
   ]
  },
  {
   "cell_type": "code",
   "execution_count": 4,
   "id": "a3a19256",
   "metadata": {},
   "outputs": [],
   "source": [
    "# формирование sql-запроса\n",
    "query = ''' SELECT *\n",
    "            FROM dash_visits\n",
    "        '''\n"
   ]
  },
  {
   "cell_type": "code",
   "execution_count": 5,
   "id": "e07a6ea1",
   "metadata": {},
   "outputs": [],
   "source": [
    "# выполнение запроса с сохранением результата выполнения в таблицу dash_visits\n",
    "dash_visits = pd.io.sql.read_sql(query, con=engine) "
   ]
  },
  {
   "cell_type": "code",
   "execution_count": 6,
   "id": "3aba7751",
   "metadata": {},
   "outputs": [
    {
     "data": {
      "text/html": [
       "<div>\n",
       "<style scoped>\n",
       "    .dataframe tbody tr th:only-of-type {\n",
       "        vertical-align: middle;\n",
       "    }\n",
       "\n",
       "    .dataframe tbody tr th {\n",
       "        vertical-align: top;\n",
       "    }\n",
       "\n",
       "    .dataframe thead th {\n",
       "        text-align: right;\n",
       "    }\n",
       "</style>\n",
       "<table border=\"1\" class=\"dataframe\">\n",
       "  <thead>\n",
       "    <tr style=\"text-align: right;\">\n",
       "      <th></th>\n",
       "      <th>record_id</th>\n",
       "      <th>item_topic</th>\n",
       "      <th>source_topic</th>\n",
       "      <th>age_segment</th>\n",
       "      <th>dt</th>\n",
       "      <th>visits</th>\n",
       "    </tr>\n",
       "  </thead>\n",
       "  <tbody>\n",
       "    <tr>\n",
       "      <th>0</th>\n",
       "      <td>1040597</td>\n",
       "      <td>Деньги</td>\n",
       "      <td>Авто</td>\n",
       "      <td>18-25</td>\n",
       "      <td>2019-09-24 18:32:00</td>\n",
       "      <td>3</td>\n",
       "    </tr>\n",
       "    <tr>\n",
       "      <th>1</th>\n",
       "      <td>1040598</td>\n",
       "      <td>Деньги</td>\n",
       "      <td>Авто</td>\n",
       "      <td>18-25</td>\n",
       "      <td>2019-09-24 18:35:00</td>\n",
       "      <td>1</td>\n",
       "    </tr>\n",
       "    <tr>\n",
       "      <th>2</th>\n",
       "      <td>1040599</td>\n",
       "      <td>Деньги</td>\n",
       "      <td>Авто</td>\n",
       "      <td>18-25</td>\n",
       "      <td>2019-09-24 18:54:00</td>\n",
       "      <td>4</td>\n",
       "    </tr>\n",
       "    <tr>\n",
       "      <th>3</th>\n",
       "      <td>1040600</td>\n",
       "      <td>Деньги</td>\n",
       "      <td>Авто</td>\n",
       "      <td>18-25</td>\n",
       "      <td>2019-09-24 18:55:00</td>\n",
       "      <td>17</td>\n",
       "    </tr>\n",
       "    <tr>\n",
       "      <th>4</th>\n",
       "      <td>1040601</td>\n",
       "      <td>Деньги</td>\n",
       "      <td>Авто</td>\n",
       "      <td>18-25</td>\n",
       "      <td>2019-09-24 18:56:00</td>\n",
       "      <td>27</td>\n",
       "    </tr>\n",
       "  </tbody>\n",
       "</table>\n",
       "</div>"
      ],
      "text/plain": [
       "   record_id item_topic source_topic age_segment                  dt  visits\n",
       "0    1040597     Деньги         Авто       18-25 2019-09-24 18:32:00       3\n",
       "1    1040598     Деньги         Авто       18-25 2019-09-24 18:35:00       1\n",
       "2    1040599     Деньги         Авто       18-25 2019-09-24 18:54:00       4\n",
       "3    1040600     Деньги         Авто       18-25 2019-09-24 18:55:00      17\n",
       "4    1040601     Деньги         Авто       18-25 2019-09-24 18:56:00      27"
      ]
     },
     "metadata": {},
     "output_type": "display_data"
    },
    {
     "name": "stdout",
     "output_type": "stream",
     "text": [
      "<class 'pandas.core.frame.DataFrame'>\n",
      "RangeIndex: 30745 entries, 0 to 30744\n",
      "Data columns (total 6 columns):\n",
      " #   Column        Non-Null Count  Dtype         \n",
      "---  ------        --------------  -----         \n",
      " 0   record_id     30745 non-null  int64         \n",
      " 1   item_topic    30745 non-null  object        \n",
      " 2   source_topic  30745 non-null  object        \n",
      " 3   age_segment   30745 non-null  object        \n",
      " 4   dt            30745 non-null  datetime64[ns]\n",
      " 5   visits        30745 non-null  int64         \n",
      "dtypes: datetime64[ns](1), int64(2), object(3)\n",
      "memory usage: 1.4+ MB\n"
     ]
    }
   ],
   "source": [
    "# получение первых пяти строк датафрейма dash_visits с помощью\n",
    "# метода head() и общей информации методом info()\n",
    "display(dash_visits.head())\n",
    "dash_visits.info()"
   ]
  },
  {
   "cell_type": "markdown",
   "id": "d97ab253",
   "metadata": {},
   "source": [
    "Получено 30 745 записей в типами данных – целочисленный int64, строковый объект object и значения даты и времени datetime64. \n",
    "\n",
    "Опишем содержание столбцов:\n",
    "\n",
    "- record_id – id записи\n",
    "- item_topic – тема карточки\n",
    "- source_topic – тема источника\n",
    "- age_segment – возрастная категория\n",
    "- dt – время визита\n",
    "- visits – количество визитов\n",
    "\n",
    "Значений NaN не наблюдается, названия столбцов и типы данных в них валидны.\n",
    "\n"
   ]
  },
  {
   "cell_type": "code",
   "execution_count": 8,
   "id": "52a520b3",
   "metadata": {},
   "outputs": [
    {
     "data": {
      "text/plain": [
       "0"
      ]
     },
     "execution_count": 8,
     "metadata": {},
     "output_type": "execute_result"
    }
   ],
   "source": [
    "dash_visits.duplicated().sum()"
   ]
  },
  {
   "cell_type": "markdown",
   "id": "ffdd94c3",
   "metadata": {},
   "source": [
    "Проверим строковые столбцы item_topic, source_topic и age_segment на присутствие неявных дубликатов:"
   ]
  },
  {
   "cell_type": "code",
   "execution_count": 9,
   "id": "caa2b3df",
   "metadata": {},
   "outputs": [
    {
     "data": {
      "text/plain": [
       "Отношения             1536\n",
       "Интересные факты      1535\n",
       "Наука                 1505\n",
       "Подборки              1456\n",
       "Полезные советы       1424\n",
       "Общество              1422\n",
       "Россия                1385\n",
       "История               1363\n",
       "Семья                 1287\n",
       "Путешествия           1247\n",
       "Деньги                1234\n",
       "Женщины               1230\n",
       "Дети                  1229\n",
       "Туризм                1206\n",
       "Здоровье              1203\n",
       "Красота               1193\n",
       "Культура              1160\n",
       "Юмор                  1129\n",
       "Искусство             1119\n",
       "Рассказы              1109\n",
       "Психология            1056\n",
       "Скандалы              1023\n",
       "Знаменитости           976\n",
       "Женская психология     914\n",
       "Шоу                    804\n",
       "Name: item_topic, dtype: int64"
      ]
     },
     "execution_count": 9,
     "metadata": {},
     "output_type": "execute_result"
    }
   ],
   "source": [
    "dash_visits['item_topic'].value_counts()"
   ]
  },
  {
   "cell_type": "code",
   "execution_count": 10,
   "id": "7a48edbe",
   "metadata": {},
   "outputs": [
    {
     "data": {
      "text/plain": [
       "Семейные отношения    1822\n",
       "Россия                1687\n",
       "Знаменитости          1650\n",
       "Полезные советы       1578\n",
       "Путешествия           1563\n",
       "Кино                  1505\n",
       "Дети                  1459\n",
       "История               1437\n",
       "Семья                 1405\n",
       "Одежда                1379\n",
       "Здоровье              1243\n",
       "Искусство             1228\n",
       "Авто                  1077\n",
       "Психология            1055\n",
       "Сад и дача            1036\n",
       "Политика              1024\n",
       "Спорт                 1007\n",
       "Сделай сам             995\n",
       "Ремонт                 985\n",
       "Деньги                 973\n",
       "Еда                    912\n",
       "Интерьеры              809\n",
       "Строительство          758\n",
       "Музыка                 750\n",
       "Технологии             741\n",
       "Финансы                667\n",
       "Name: source_topic, dtype: int64"
      ]
     },
     "execution_count": 10,
     "metadata": {},
     "output_type": "execute_result"
    }
   ],
   "source": [
    "dash_visits['source_topic'].value_counts()"
   ]
  },
  {
   "cell_type": "code",
   "execution_count": 11,
   "id": "bc5b9088",
   "metadata": {},
   "outputs": [
    {
     "data": {
      "text/plain": [
       "18-25    7056\n",
       "26-30    5875\n",
       "31-35    5552\n",
       "36-40    5105\n",
       "41-45    3903\n",
       "45+      3254\n",
       "Name: age_segment, dtype: int64"
      ]
     },
     "execution_count": 11,
     "metadata": {},
     "output_type": "execute_result"
    }
   ],
   "source": [
    "dash_visits['age_segment'].value_counts()"
   ]
  },
  {
   "cell_type": "code",
   "execution_count": 7,
   "id": "250557df",
   "metadata": {},
   "outputs": [],
   "source": [
    "# сохранение датафрейма dash_visits в файл с помощью метода to_csv()\n",
    "dash_visits.to_csv('dash_visits.csv')"
   ]
  },
  {
   "cell_type": "markdown",
   "id": "17434bcb",
   "metadata": {},
   "source": [
    "Вывод: \n",
    "\n",
    "На первом этапе было произведено подключение к базе данных посредством библиотеки sqlalchemy и выполнен SQL-запрос. Полученная выборка сохранена в таблицу dash_visits, которая содержит информацию о количестве и времени визитов пользователей Яндекс.Дзен с указанием их возрастной категории, а также тем источников и карточек, просмотренных ими. В заключении этапа таблица dash_visits была экспортирована в файл dash_visits.csv \n",
    "\n",
    "\n",
    "Далее был составлен согласно утвержденному макету и размещен в облаке Tableau Public дашборд для менеджеров по анализу контента. Также подготовлена и размещена на Google.Диске презентация в формате .pdf с ответами на поставленные менеджерами вопросы. По итогу имеем следующие выводы:\n",
    "\n",
    "Имеем около 60 тыс. событий в пике взаимодействий \n",
    "Лидеры по количеству визитов – темы карточек История, Наука, Общество, Отношения, Подборки и Полезные советы (в среднем 3-4 тыс.). Остальные категории – 1,5-2,5 тыс. событий \n",
    "\n",
    "\n",
    "Больше всего карточек генерируют темы Семейные отношения (10,7%), Россия (9,6%), Полезные советы (8,8%), Путешествия (7,8%), Знаменитости (7,7%) и Кино (6,5%) \n",
    "\n",
    "\n",
    "Самое большое соотношение тема карточки – тема источника – Рассказы о путешествиях (4 587), далее Россия и общество (3 471), на третьем месте Кино и наука (3 279)"
   ]
  },
  {
   "cell_type": "code",
   "execution_count": null,
   "id": "586f4a0b",
   "metadata": {},
   "outputs": [],
   "source": []
  }
 ],
 "metadata": {
  "kernelspec": {
   "display_name": "Python 3 (ipykernel)",
   "language": "python",
   "name": "python3"
  },
  "language_info": {
   "codemirror_mode": {
    "name": "ipython",
    "version": 3
   },
   "file_extension": ".py",
   "mimetype": "text/x-python",
   "name": "python",
   "nbconvert_exporter": "python",
   "pygments_lexer": "ipython3",
   "version": "3.9.12"
  }
 },
 "nbformat": 4,
 "nbformat_minor": 5
}
