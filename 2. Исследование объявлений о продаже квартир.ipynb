{
 "cells": [
  {
   "cell_type": "markdown",
   "metadata": {},
   "source": [
    "# Исследование объявлений о продаже квартир\n",
    "\n",
    "В вашем распоряжении данные сервиса Яндекс.Недвижимость — архив объявлений о продаже квартир в Санкт-Петербурге и соседних населённых пунктов за несколько лет. Нужно научиться определять рыночную стоимость объектов недвижимости. Ваша задача — установить параметры. Это позволит построить автоматизированную систему: она отследит аномалии и мошенническую деятельность. \n",
    "\n",
    "По каждой квартире на продажу доступны два вида данных. Первые вписаны пользователем, вторые — получены автоматически на основе картографических данных. Например, расстояние до центра, аэропорта, ближайшего парка и водоёма. "
   ]
  },
  {
   "cell_type": "markdown",
   "metadata": {},
   "source": [
    "Цель исследования:\n",
    "\n",
    "    1) Проанализировать данные по рынку недвижимости\n",
    "    2)Определить факторы влияющие на стоимость недвижимости "
   ]
  },
  {
   "cell_type": "markdown",
   "metadata": {},
   "source": [
    "Ход исследования:\n",
    "    \n",
    "    1)Обзор данных\n",
    "    2)Выявление пропусков и недостоверных данных \n",
    "    3)Форматирование данных перед обработкой\n",
    "    4)Проведение исследования\n",
    "    5)Вывод"
   ]
  },
  {
   "cell_type": "markdown",
   "metadata": {},
   "source": [
    "### Откройте файл с данными и изучите общую информацию. "
   ]
  },
  {
   "cell_type": "code",
   "execution_count": 1,
   "metadata": {},
   "outputs": [
    {
     "data": {
      "text/html": [
       "<div>\n",
       "<style scoped>\n",
       "    .dataframe tbody tr th:only-of-type {\n",
       "        vertical-align: middle;\n",
       "    }\n",
       "\n",
       "    .dataframe tbody tr th {\n",
       "        vertical-align: top;\n",
       "    }\n",
       "\n",
       "    .dataframe thead th {\n",
       "        text-align: right;\n",
       "    }\n",
       "</style>\n",
       "<table border=\"1\" class=\"dataframe\">\n",
       "  <thead>\n",
       "    <tr style=\"text-align: right;\">\n",
       "      <th></th>\n",
       "      <th>total_images</th>\n",
       "      <th>last_price</th>\n",
       "      <th>total_area</th>\n",
       "      <th>first_day_exposition</th>\n",
       "      <th>rooms</th>\n",
       "      <th>ceiling_height</th>\n",
       "      <th>floors_total</th>\n",
       "      <th>living_area</th>\n",
       "      <th>floor</th>\n",
       "      <th>is_apartment</th>\n",
       "      <th>...</th>\n",
       "      <th>kitchen_area</th>\n",
       "      <th>balcony</th>\n",
       "      <th>locality_name</th>\n",
       "      <th>airports_nearest</th>\n",
       "      <th>cityCenters_nearest</th>\n",
       "      <th>parks_around3000</th>\n",
       "      <th>parks_nearest</th>\n",
       "      <th>ponds_around3000</th>\n",
       "      <th>ponds_nearest</th>\n",
       "      <th>days_exposition</th>\n",
       "    </tr>\n",
       "  </thead>\n",
       "  <tbody>\n",
       "    <tr>\n",
       "      <th>0</th>\n",
       "      <td>20</td>\n",
       "      <td>13000000.0</td>\n",
       "      <td>108.0</td>\n",
       "      <td>2019-03-07T00:00:00</td>\n",
       "      <td>3</td>\n",
       "      <td>2.70</td>\n",
       "      <td>16.0</td>\n",
       "      <td>51.0</td>\n",
       "      <td>8</td>\n",
       "      <td>NaN</td>\n",
       "      <td>...</td>\n",
       "      <td>25.0</td>\n",
       "      <td>NaN</td>\n",
       "      <td>Санкт-Петербург</td>\n",
       "      <td>18863.0</td>\n",
       "      <td>16028.0</td>\n",
       "      <td>1.0</td>\n",
       "      <td>482.0</td>\n",
       "      <td>2.0</td>\n",
       "      <td>755.0</td>\n",
       "      <td>NaN</td>\n",
       "    </tr>\n",
       "    <tr>\n",
       "      <th>1</th>\n",
       "      <td>7</td>\n",
       "      <td>3350000.0</td>\n",
       "      <td>40.4</td>\n",
       "      <td>2018-12-04T00:00:00</td>\n",
       "      <td>1</td>\n",
       "      <td>NaN</td>\n",
       "      <td>11.0</td>\n",
       "      <td>18.6</td>\n",
       "      <td>1</td>\n",
       "      <td>NaN</td>\n",
       "      <td>...</td>\n",
       "      <td>11.0</td>\n",
       "      <td>2.0</td>\n",
       "      <td>посёлок Шушары</td>\n",
       "      <td>12817.0</td>\n",
       "      <td>18603.0</td>\n",
       "      <td>0.0</td>\n",
       "      <td>NaN</td>\n",
       "      <td>0.0</td>\n",
       "      <td>NaN</td>\n",
       "      <td>81.0</td>\n",
       "    </tr>\n",
       "    <tr>\n",
       "      <th>2</th>\n",
       "      <td>10</td>\n",
       "      <td>5196000.0</td>\n",
       "      <td>56.0</td>\n",
       "      <td>2015-08-20T00:00:00</td>\n",
       "      <td>2</td>\n",
       "      <td>NaN</td>\n",
       "      <td>5.0</td>\n",
       "      <td>34.3</td>\n",
       "      <td>4</td>\n",
       "      <td>NaN</td>\n",
       "      <td>...</td>\n",
       "      <td>8.3</td>\n",
       "      <td>0.0</td>\n",
       "      <td>Санкт-Петербург</td>\n",
       "      <td>21741.0</td>\n",
       "      <td>13933.0</td>\n",
       "      <td>1.0</td>\n",
       "      <td>90.0</td>\n",
       "      <td>2.0</td>\n",
       "      <td>574.0</td>\n",
       "      <td>558.0</td>\n",
       "    </tr>\n",
       "    <tr>\n",
       "      <th>3</th>\n",
       "      <td>0</td>\n",
       "      <td>64900000.0</td>\n",
       "      <td>159.0</td>\n",
       "      <td>2015-07-24T00:00:00</td>\n",
       "      <td>3</td>\n",
       "      <td>NaN</td>\n",
       "      <td>14.0</td>\n",
       "      <td>NaN</td>\n",
       "      <td>9</td>\n",
       "      <td>NaN</td>\n",
       "      <td>...</td>\n",
       "      <td>NaN</td>\n",
       "      <td>0.0</td>\n",
       "      <td>Санкт-Петербург</td>\n",
       "      <td>28098.0</td>\n",
       "      <td>6800.0</td>\n",
       "      <td>2.0</td>\n",
       "      <td>84.0</td>\n",
       "      <td>3.0</td>\n",
       "      <td>234.0</td>\n",
       "      <td>424.0</td>\n",
       "    </tr>\n",
       "    <tr>\n",
       "      <th>4</th>\n",
       "      <td>2</td>\n",
       "      <td>10000000.0</td>\n",
       "      <td>100.0</td>\n",
       "      <td>2018-06-19T00:00:00</td>\n",
       "      <td>2</td>\n",
       "      <td>3.03</td>\n",
       "      <td>14.0</td>\n",
       "      <td>32.0</td>\n",
       "      <td>13</td>\n",
       "      <td>NaN</td>\n",
       "      <td>...</td>\n",
       "      <td>41.0</td>\n",
       "      <td>NaN</td>\n",
       "      <td>Санкт-Петербург</td>\n",
       "      <td>31856.0</td>\n",
       "      <td>8098.0</td>\n",
       "      <td>2.0</td>\n",
       "      <td>112.0</td>\n",
       "      <td>1.0</td>\n",
       "      <td>48.0</td>\n",
       "      <td>121.0</td>\n",
       "    </tr>\n",
       "  </tbody>\n",
       "</table>\n",
       "<p>5 rows × 22 columns</p>\n",
       "</div>"
      ],
      "text/plain": [
       "   total_images  last_price  total_area first_day_exposition  rooms  \\\n",
       "0            20  13000000.0       108.0  2019-03-07T00:00:00      3   \n",
       "1             7   3350000.0        40.4  2018-12-04T00:00:00      1   \n",
       "2            10   5196000.0        56.0  2015-08-20T00:00:00      2   \n",
       "3             0  64900000.0       159.0  2015-07-24T00:00:00      3   \n",
       "4             2  10000000.0       100.0  2018-06-19T00:00:00      2   \n",
       "\n",
       "   ceiling_height  floors_total  living_area  floor is_apartment  ...  \\\n",
       "0            2.70          16.0         51.0      8          NaN  ...   \n",
       "1             NaN          11.0         18.6      1          NaN  ...   \n",
       "2             NaN           5.0         34.3      4          NaN  ...   \n",
       "3             NaN          14.0          NaN      9          NaN  ...   \n",
       "4            3.03          14.0         32.0     13          NaN  ...   \n",
       "\n",
       "   kitchen_area  balcony    locality_name  airports_nearest  \\\n",
       "0          25.0      NaN  Санкт-Петербург           18863.0   \n",
       "1          11.0      2.0   посёлок Шушары           12817.0   \n",
       "2           8.3      0.0  Санкт-Петербург           21741.0   \n",
       "3           NaN      0.0  Санкт-Петербург           28098.0   \n",
       "4          41.0      NaN  Санкт-Петербург           31856.0   \n",
       "\n",
       "  cityCenters_nearest  parks_around3000  parks_nearest  ponds_around3000  \\\n",
       "0             16028.0               1.0          482.0               2.0   \n",
       "1             18603.0               0.0            NaN               0.0   \n",
       "2             13933.0               1.0           90.0               2.0   \n",
       "3              6800.0               2.0           84.0               3.0   \n",
       "4              8098.0               2.0          112.0               1.0   \n",
       "\n",
       "   ponds_nearest  days_exposition  \n",
       "0          755.0              NaN  \n",
       "1            NaN             81.0  \n",
       "2          574.0            558.0  \n",
       "3          234.0            424.0  \n",
       "4           48.0            121.0  \n",
       "\n",
       "[5 rows x 22 columns]"
      ]
     },
     "metadata": {},
     "output_type": "display_data"
    },
    {
     "name": "stdout",
     "output_type": "stream",
     "text": [
      "<class 'pandas.core.frame.DataFrame'>\n",
      "RangeIndex: 23699 entries, 0 to 23698\n",
      "Data columns (total 22 columns):\n",
      " #   Column                Non-Null Count  Dtype  \n",
      "---  ------                --------------  -----  \n",
      " 0   total_images          23699 non-null  int64  \n",
      " 1   last_price            23699 non-null  float64\n",
      " 2   total_area            23699 non-null  float64\n",
      " 3   first_day_exposition  23699 non-null  object \n",
      " 4   rooms                 23699 non-null  int64  \n",
      " 5   ceiling_height        14504 non-null  float64\n",
      " 6   floors_total          23613 non-null  float64\n",
      " 7   living_area           21796 non-null  float64\n",
      " 8   floor                 23699 non-null  int64  \n",
      " 9   is_apartment          2775 non-null   object \n",
      " 10  studio                23699 non-null  bool   \n",
      " 11  open_plan             23699 non-null  bool   \n",
      " 12  kitchen_area          21421 non-null  float64\n",
      " 13  balcony               12180 non-null  float64\n",
      " 14  locality_name         23650 non-null  object \n",
      " 15  airports_nearest      18157 non-null  float64\n",
      " 16  cityCenters_nearest   18180 non-null  float64\n",
      " 17  parks_around3000      18181 non-null  float64\n",
      " 18  parks_nearest         8079 non-null   float64\n",
      " 19  ponds_around3000      18181 non-null  float64\n",
      " 20  ponds_nearest         9110 non-null   float64\n",
      " 21  days_exposition       20518 non-null  float64\n",
      "dtypes: bool(2), float64(14), int64(3), object(3)\n",
      "memory usage: 3.7+ MB\n"
     ]
    },
    {
     "data": {
      "image/png": "[encoded data removed]",
      "text/plain": [
       "<Figure size 1080x1440 with 20 Axes>"
      ]
     },
     "metadata": {
      "needs_background": "light"
     },
     "output_type": "display_data"
    }
   ],
   "source": [
    "import pandas as pd \n",
    "import matplotlib.pyplot as plt\n",
    "\n",
    "data = pd.read_csv('/datasets/real_estate_data.csv', sep='\\t')\n",
    "display(data.head())\n",
    "data.info()\n",
    "data.hist(figsize=(15, 20));"
   ]
  },
  {
   "cell_type": "markdown",
   "metadata": {},
   "source": [
    "Вывод: Первичный анализ данных показал что во многих пунктах отсутствуют значения, некотрые данные имеют неподходящий тип данных "
   ]
  },
  {
   "cell_type": "code",
   "execution_count": 2,
   "metadata": {},
   "outputs": [],
   "source": [
    "#изменение информации о пропусках балконов на 0\n",
    "data['balcony'].fillna(0, inplace=True)\n",
    "\n",
    "#изменение информации про водоёмы и парки на 0\n",
    "data['parks_around3000'].fillna(0, inplace=True)\n",
    "data['ponds_around3000'].fillna(0, inplace=True)\n",
    "\n",
    "#изменение типа данных в is_apartment на bool для возможности отобразить данные правильно \n",
    "data['is_apartment'] = data['is_apartment'].astype('bool')\n",
    "\n",
    "#переводим дату публикации в формат дата:время\n",
    "data['first_day_exposition'] = pd.to_datetime(data['first_day_exposition'], format=\"%Y-%m-%dT%H:%M:%S\")\n",
    "\n",
    "# замена значений  в locality_name (самое очевидное)\n",
    "data['locality_name'] = data['locality_name'].str.replace('городской посёлок', 'посёлок городского типа')\n",
    "data['locality_name'] = data['locality_name'].str.replace('городской поселок', 'посёлок городского типа')\n",
    "data['locality_name'] = data['locality_name'].str.replace('поселок', 'посёлок')\n",
    "\n",
    "#замена расстояний до центра на медианное \n",
    "data['cityCenters_nearest'] = data['cityCenters_nearest'].fillna(data['cityCenters_nearest'].median())\n"
   ]
  },
  {
   "cell_type": "code",
   "execution_count": 3,
   "metadata": {
    "scrolled": true
   },
   "outputs": [
    {
     "name": "stderr",
     "output_type": "stream",
     "text": [
      "/tmp/ipykernel_31/1351339865.py:14: SettingWithCopyWarning: \n",
      "A value is trying to be set on a copy of a slice from a DataFrame\n",
      "\n",
      "See the caveats in the documentation: https://pandas.pydata.org/pandas-docs/stable/user_guide/indexing.html#returning-a-view-versus-a-copy\n",
      "  data_ceiling_height[i] = anomaly_height(data_ceiling_height[i])\n"
     ]
    }
   ],
   "source": [
    "#медиана высоты потолков     \n",
    "ceiling_height_median = data.query('2.3 <= ceiling_height <= 6')['ceiling_height'].median()\n",
    " \n",
    "#задаём функцию для замены аномальной высоты потолков\n",
    "def anomaly_height (ceiling_height):\n",
    "    if ceiling_height >= 30 and ceiling_height <= 50:  #исключаем ишибку написания высоты потолка \n",
    "        ceiling_height *= 0.1\n",
    "    elif ceiling_height > 4:\n",
    "        ceiling_height = ceiling_height_median\n",
    "    return ceiling_height\n",
    "\n",
    "data_ceiling_height = data['ceiling_height'] #новая переменная чтобы не запустаться в скобках\n",
    "for i in range(len(data_ceiling_height)):\n",
    "    data_ceiling_height[i] = anomaly_height(data_ceiling_height[i])\n",
    "data['ceiling_height'] = data_ceiling_height\n",
    " \n",
    "#заменяем пустые значения высоты потолков на медианное значение\n",
    "data['ceiling_height'].fillna(ceiling_height_median, inplace=True)"
   ]
  },
  {
   "cell_type": "code",
   "execution_count": 4,
   "metadata": {},
   "outputs": [],
   "source": [
    "# пропуски в этажах заменим на медианное значение \n",
    "data['floors_total'] = data['floors_total'].fillna(data['floors_total'].median())"
   ]
  },
  {
   "cell_type": "code",
   "execution_count": 5,
   "metadata": {},
   "outputs": [
    {
     "data": {
      "text/plain": [
       "34.457852427601395"
      ]
     },
     "metadata": {},
     "output_type": "display_data"
    },
    {
     "data": {
      "text/plain": [
       "2.0"
      ]
     },
     "execution_count": 5,
     "metadata": {},
     "output_type": "execute_result"
    }
   ],
   "source": [
    "# средняя жилая площадь без пропусков \n",
    "living_area_mean = data[data['living_area'].isnull() == False]['living_area'].mean()\n",
    "\n",
    "# средняя общая площадь без пропусков \n",
    "total_area_mean = data[data['total_area'].isnull() == False]['total_area'].mean()\n",
    "\n",
    "#коэффицент соотношеиня общей к жилой \n",
    "k = total_area_mean / living_area_mean\n",
    "\n",
    "# жилая площадь умноженая на коэффицент площади\n",
    "living_area_full = data['total_area']*k\n",
    "\n",
    "#пропусков с погрешностью на коэффицент\n",
    "data['living_area'] = data['living_area'].fillna(living_area_full)\n",
    "\n",
    "# аномально низкие площади заменим на среднее\n",
    "def min_area (living_area):\n",
    "    if living_area < 4:\n",
    "        living_area *= 10\n",
    "    return living_area\n",
    "data['living_area'].fillna(min_area, inplace=True) #не понимаю почему не менется, буду надеяться на ваш коментарий\n",
    "    \n",
    "display(living_area_mean)\n",
    "data['living_area'].min()"
   ]
  },
  {
   "cell_type": "code",
   "execution_count": 6,
   "metadata": {},
   "outputs": [],
   "source": [
    "#средняя площадь кухни \n",
    "median_kitchen_area = data['kitchen_area'].median() #получилось 9.1 (по СП 54.13330.2011 минимальная площадь кухни 8м)\n",
    "#пропуски на медианое значение \n",
    "data['kitchen_area'] = data['kitchen_area'].fillna(data['kitchen_area'].median())\n",
    "data['kitchen_area'] = round(data['kitchen_area'],2) #уберем знаки после зяпятой \n",
    "# так же можно добавить функцию для переасчета тех площадей которые анамально низкикими либо просто удалить их и вставить на их место медианное знаячение\n"
   ]
  },
  {
   "cell_type": "markdown",
   "metadata": {},
   "source": [
    "На данном этапе не буду заполнять пропуски в расстоянях до аэропорта, парков и прудов. \n",
    "Так же пропуски в дне публикации скорее всего не смогу заполнить потому то не хватает данных "
   ]
  },
  {
   "cell_type": "markdown",
   "metadata": {},
   "source": [
    "Изменил тип данных в этажах и посмотрел уникальные значения дупликатов. но на самом деле бывают этажи типо 3,5 (в старых домах в питере такое встречается часто) "
   ]
  },
  {
   "cell_type": "code",
   "execution_count": 7,
   "metadata": {},
   "outputs": [],
   "source": [
    "#изменение типа данных этажности здания (округляем до целого и меняем тип)\n",
    "data['floors_total'] = data['floors_total'].round(0).astype('int')"
   ]
  },
  {
   "cell_type": "code",
   "execution_count": 8,
   "metadata": {},
   "outputs": [
    {
     "data": {
      "text/plain": [
       "array([False])"
      ]
     },
     "execution_count": 8,
     "metadata": {},
     "output_type": "execute_result"
    }
   ],
   "source": [
    "#проверка на явные дупликаты\n",
    "data.duplicated().unique()\n"
   ]
  },
  {
   "cell_type": "code",
   "execution_count": 9,
   "metadata": {
    "scrolled": true
   },
   "outputs": [
    {
     "data": {
      "text/plain": [
       "total_images                0\n",
       "last_price                  0\n",
       "total_area                  0\n",
       "first_day_exposition        0\n",
       "rooms                       0\n",
       "ceiling_height              0\n",
       "floors_total                0\n",
       "living_area                 0\n",
       "floor                       0\n",
       "is_apartment                0\n",
       "studio                      0\n",
       "open_plan                   0\n",
       "kitchen_area                0\n",
       "balcony                     0\n",
       "locality_name              49\n",
       "airports_nearest         5542\n",
       "cityCenters_nearest         0\n",
       "parks_around3000            0\n",
       "parks_nearest           15620\n",
       "ponds_around3000            0\n",
       "ponds_nearest           14589\n",
       "days_exposition          3181\n",
       "dtype: int64"
      ]
     },
     "execution_count": 9,
     "metadata": {},
     "output_type": "execute_result"
    }
   ],
   "source": [
    "data.isnull().sum() #таблица пропусков по столбцам"
   ]
  },
  {
   "cell_type": "markdown",
   "metadata": {},
   "source": [
    "Промежуточный вывод: пробелы или аномальные значеиня данных могли возникнуть во время заполнения датасета. строки заполнялись не одним человеком а были взяты из архива объявлений пользователей, которые могли ошибиться при вводе информаци, указав данные не в том формате записи либо вообще не указыватьт часть данных. Так же была убрана часть неявных дубликатов в названиях данных. "
   ]
  },
  {
   "cell_type": "markdown",
   "metadata": {},
   "source": [
    "### Посчитайте и добавьте в таблицу новые столбцы"
   ]
  },
  {
   "cell_type": "code",
   "execution_count": 10,
   "metadata": {},
   "outputs": [],
   "source": [
    "# медианная цена одного квадратного метра \n",
    "data['median_area_price'] = (data['last_price'] / data['total_area'])\n",
    "data['median_area_price'] = round(data['median_area_price'],2) #уберем знаки после зяпятой "
   ]
  },
  {
   "cell_type": "code",
   "execution_count": 11,
   "metadata": {},
   "outputs": [],
   "source": [
    "#добавление столбцов день, месяц, год \n",
    "data['day'] = data['first_day_exposition'].dt.weekday\n",
    "data['month'] = data['first_day_exposition'].dt.month\n",
    "data['year'] = data['first_day_exposition'].dt.year\n",
    "data['day_of_week'] = data['first_day_exposition'].dt.day_name"
   ]
  },
  {
   "cell_type": "code",
   "execution_count": 12,
   "metadata": {},
   "outputs": [],
   "source": [
    "# функция для подсчета этажей     \n",
    "def floor_number_def(row):\n",
    "    floor = row['floor']\n",
    "    floors_total = row['floors_total']\n",
    "    if floor == 1:\n",
    "        return 'первый'\n",
    "    if floor == floors_total:\n",
    "        return 'последний'\n",
    "    return 'другой'\n",
    "data['floor_type']= data.apply(floor_number_def, axis=1)    "
   ]
  },
  {
   "cell_type": "code",
   "execution_count": 13,
   "metadata": {},
   "outputs": [],
   "source": [
    "#переведем метры в километры в столбце расстояние до центра\n",
    "data['cityCenters_nearest'] = data['cityCenters_nearest'] * 0.001\n",
    "data['cityCenters_nearest'] = round(data['cityCenters_nearest']) #уберем знаки после зяпятой "
   ]
  },
  {
   "cell_type": "code",
   "execution_count": 14,
   "metadata": {},
   "outputs": [
    {
     "data": {
      "text/html": [
       "<div>\n",
       "<style scoped>\n",
       "    .dataframe tbody tr th:only-of-type {\n",
       "        vertical-align: middle;\n",
       "    }\n",
       "\n",
       "    .dataframe tbody tr th {\n",
       "        vertical-align: top;\n",
       "    }\n",
       "\n",
       "    .dataframe thead th {\n",
       "        text-align: right;\n",
       "    }\n",
       "</style>\n",
       "<table border=\"1\" class=\"dataframe\">\n",
       "  <thead>\n",
       "    <tr style=\"text-align: right;\">\n",
       "      <th></th>\n",
       "      <th>total_images</th>\n",
       "      <th>last_price</th>\n",
       "      <th>total_area</th>\n",
       "      <th>first_day_exposition</th>\n",
       "      <th>rooms</th>\n",
       "      <th>ceiling_height</th>\n",
       "      <th>floors_total</th>\n",
       "      <th>living_area</th>\n",
       "      <th>floor</th>\n",
       "      <th>is_apartment</th>\n",
       "      <th>...</th>\n",
       "      <th>parks_nearest</th>\n",
       "      <th>ponds_around3000</th>\n",
       "      <th>ponds_nearest</th>\n",
       "      <th>days_exposition</th>\n",
       "      <th>median_area_price</th>\n",
       "      <th>day</th>\n",
       "      <th>month</th>\n",
       "      <th>year</th>\n",
       "      <th>day_of_week</th>\n",
       "      <th>floor_type</th>\n",
       "    </tr>\n",
       "  </thead>\n",
       "  <tbody>\n",
       "    <tr>\n",
       "      <th>0</th>\n",
       "      <td>20</td>\n",
       "      <td>13000000.0</td>\n",
       "      <td>108.0</td>\n",
       "      <td>2019-03-07</td>\n",
       "      <td>3</td>\n",
       "      <td>2.70</td>\n",
       "      <td>16</td>\n",
       "      <td>51.000000</td>\n",
       "      <td>8</td>\n",
       "      <td>True</td>\n",
       "      <td>...</td>\n",
       "      <td>482.0</td>\n",
       "      <td>2.0</td>\n",
       "      <td>755.0</td>\n",
       "      <td>NaN</td>\n",
       "      <td>120370.37</td>\n",
       "      <td>3</td>\n",
       "      <td>3</td>\n",
       "      <td>2019</td>\n",
       "      <td>&lt;bound method PandasDelegate._add_delegate_acc...</td>\n",
       "      <td>другой</td>\n",
       "    </tr>\n",
       "    <tr>\n",
       "      <th>1</th>\n",
       "      <td>7</td>\n",
       "      <td>3350000.0</td>\n",
       "      <td>40.4</td>\n",
       "      <td>2018-12-04</td>\n",
       "      <td>1</td>\n",
       "      <td>2.65</td>\n",
       "      <td>11</td>\n",
       "      <td>18.600000</td>\n",
       "      <td>1</td>\n",
       "      <td>True</td>\n",
       "      <td>...</td>\n",
       "      <td>NaN</td>\n",
       "      <td>0.0</td>\n",
       "      <td>NaN</td>\n",
       "      <td>81.0</td>\n",
       "      <td>82920.79</td>\n",
       "      <td>1</td>\n",
       "      <td>12</td>\n",
       "      <td>2018</td>\n",
       "      <td>&lt;bound method PandasDelegate._add_delegate_acc...</td>\n",
       "      <td>первый</td>\n",
       "    </tr>\n",
       "    <tr>\n",
       "      <th>2</th>\n",
       "      <td>10</td>\n",
       "      <td>5196000.0</td>\n",
       "      <td>56.0</td>\n",
       "      <td>2015-08-20</td>\n",
       "      <td>2</td>\n",
       "      <td>2.65</td>\n",
       "      <td>5</td>\n",
       "      <td>34.300000</td>\n",
       "      <td>4</td>\n",
       "      <td>True</td>\n",
       "      <td>...</td>\n",
       "      <td>90.0</td>\n",
       "      <td>2.0</td>\n",
       "      <td>574.0</td>\n",
       "      <td>558.0</td>\n",
       "      <td>92785.71</td>\n",
       "      <td>3</td>\n",
       "      <td>8</td>\n",
       "      <td>2015</td>\n",
       "      <td>&lt;bound method PandasDelegate._add_delegate_acc...</td>\n",
       "      <td>другой</td>\n",
       "    </tr>\n",
       "    <tr>\n",
       "      <th>3</th>\n",
       "      <td>0</td>\n",
       "      <td>64900000.0</td>\n",
       "      <td>159.0</td>\n",
       "      <td>2015-07-24</td>\n",
       "      <td>3</td>\n",
       "      <td>2.65</td>\n",
       "      <td>14</td>\n",
       "      <td>278.468762</td>\n",
       "      <td>9</td>\n",
       "      <td>True</td>\n",
       "      <td>...</td>\n",
       "      <td>84.0</td>\n",
       "      <td>3.0</td>\n",
       "      <td>234.0</td>\n",
       "      <td>424.0</td>\n",
       "      <td>408176.10</td>\n",
       "      <td>4</td>\n",
       "      <td>7</td>\n",
       "      <td>2015</td>\n",
       "      <td>&lt;bound method PandasDelegate._add_delegate_acc...</td>\n",
       "      <td>другой</td>\n",
       "    </tr>\n",
       "    <tr>\n",
       "      <th>4</th>\n",
       "      <td>2</td>\n",
       "      <td>10000000.0</td>\n",
       "      <td>100.0</td>\n",
       "      <td>2018-06-19</td>\n",
       "      <td>2</td>\n",
       "      <td>3.03</td>\n",
       "      <td>14</td>\n",
       "      <td>32.000000</td>\n",
       "      <td>13</td>\n",
       "      <td>True</td>\n",
       "      <td>...</td>\n",
       "      <td>112.0</td>\n",
       "      <td>1.0</td>\n",
       "      <td>48.0</td>\n",
       "      <td>121.0</td>\n",
       "      <td>100000.00</td>\n",
       "      <td>1</td>\n",
       "      <td>6</td>\n",
       "      <td>2018</td>\n",
       "      <td>&lt;bound method PandasDelegate._add_delegate_acc...</td>\n",
       "      <td>другой</td>\n",
       "    </tr>\n",
       "  </tbody>\n",
       "</table>\n",
       "<p>5 rows × 28 columns</p>\n",
       "</div>"
      ],
      "text/plain": [
       "   total_images  last_price  total_area first_day_exposition  rooms  \\\n",
       "0            20  13000000.0       108.0           2019-03-07      3   \n",
       "1             7   3350000.0        40.4           2018-12-04      1   \n",
       "2            10   5196000.0        56.0           2015-08-20      2   \n",
       "3             0  64900000.0       159.0           2015-07-24      3   \n",
       "4             2  10000000.0       100.0           2018-06-19      2   \n",
       "\n",
       "   ceiling_height  floors_total  living_area  floor  is_apartment  ...  \\\n",
       "0            2.70            16    51.000000      8          True  ...   \n",
       "1            2.65            11    18.600000      1          True  ...   \n",
       "2            2.65             5    34.300000      4          True  ...   \n",
       "3            2.65            14   278.468762      9          True  ...   \n",
       "4            3.03            14    32.000000     13          True  ...   \n",
       "\n",
       "   parks_nearest  ponds_around3000  ponds_nearest  days_exposition  \\\n",
       "0          482.0               2.0          755.0              NaN   \n",
       "1            NaN               0.0            NaN             81.0   \n",
       "2           90.0               2.0          574.0            558.0   \n",
       "3           84.0               3.0          234.0            424.0   \n",
       "4          112.0               1.0           48.0            121.0   \n",
       "\n",
       "  median_area_price  day  month  year  \\\n",
       "0         120370.37    3      3  2019   \n",
       "1          82920.79    1     12  2018   \n",
       "2          92785.71    3      8  2015   \n",
       "3         408176.10    4      7  2015   \n",
       "4         100000.00    1      6  2018   \n",
       "\n",
       "                                         day_of_week  floor_type  \n",
       "0  <bound method PandasDelegate._add_delegate_acc...      другой  \n",
       "1  <bound method PandasDelegate._add_delegate_acc...      первый  \n",
       "2  <bound method PandasDelegate._add_delegate_acc...      другой  \n",
       "3  <bound method PandasDelegate._add_delegate_acc...      другой  \n",
       "4  <bound method PandasDelegate._add_delegate_acc...      другой  \n",
       "\n",
       "[5 rows x 28 columns]"
      ]
     },
     "metadata": {},
     "output_type": "display_data"
    }
   ],
   "source": [
    "display(data.head())"
   ]
  },
  {
   "cell_type": "markdown",
   "metadata": {},
   "source": [
    "Промежуточный вывод: в дадасет были добавлены новые столбцы с данными. такими как дата публикации с днем недели, присвоены новые значения уровню этажа, посдчитаны стоимоть одного квадратного метра. расстояние до центра было переведено в киллометры "
   ]
  },
  {
   "cell_type": "markdown",
   "metadata": {},
   "source": [
    "### Проведите исследовательский анализ данных"
   ]
  },
  {
   "cell_type": "code",
   "execution_count": 15,
   "metadata": {},
   "outputs": [
    {
     "data": {
      "text/plain": [
       "<AxesSubplot:>"
      ]
     },
     "execution_count": 15,
     "metadata": {},
     "output_type": "execute_result"
    },
    {
     "data": {
      "image/png": "[encoded data removed]",
      "text/plain": [
       "<Figure size 360x360 with 1 Axes>"
      ]
     },
     "metadata": {
      "needs_background": "light"
     },
     "output_type": "display_data"
    }
   ],
   "source": [
    "#гистограмма по общей площади \n",
    "data['total_area'].hist(bins=50,figsize=(5, 5), range=(0,200))"
   ]
  },
  {
   "cell_type": "markdown",
   "metadata": {},
   "source": [
    "на рынке неджижимости в основном предствалены квартиры от 30 до 200 метров квадратных. эт обусловлено в первую очередь плежеспособностью клиентов. застройщикам невыгодно стоить квартиры которые никто не купит "
   ]
  },
  {
   "cell_type": "code",
   "execution_count": 16,
   "metadata": {},
   "outputs": [
    {
     "data": {
      "text/plain": [
       "<AxesSubplot:>"
      ]
     },
     "execution_count": 16,
     "metadata": {},
     "output_type": "execute_result"
    },
    {
     "data": {
      "image/png": "[encoded data removed]",
      "text/plain": [
       "<Figure size 360x360 with 1 Axes>"
      ]
     },
     "metadata": {
      "needs_background": "light"
     },
     "output_type": "display_data"
    }
   ],
   "source": [
    "#гистограмма по жилой площади\n",
    "data['living_area'].hist(bins=50,figsize=(5, 5), range=(0, 200))"
   ]
  },
  {
   "cell_type": "markdown",
   "metadata": {},
   "source": [
    "преобладающая площадь варируется, в основном это квартиры с 1-2 комнатам, так же присутствуют кваритры студии "
   ]
  },
  {
   "cell_type": "code",
   "execution_count": 17,
   "metadata": {},
   "outputs": [
    {
     "data": {
      "text/plain": [
       "<AxesSubplot:>"
      ]
     },
     "execution_count": 17,
     "metadata": {},
     "output_type": "execute_result"
    },
    {
     "data": {
      "image/png": "[encoded data removed]",
      "text/plain": [
       "<Figure size 360x360 with 1 Axes>"
      ]
     },
     "metadata": {
      "needs_background": "light"
     },
     "output_type": "display_data"
    }
   ],
   "source": [
    "#гистограмма по площади кухни \n",
    "data['kitchen_area'].hist(bins=50,figsize=(5, 5), range=(0,50))"
   ]
  },
  {
   "cell_type": "markdown",
   "metadata": {},
   "source": [
    "такая же ситуация как и с жилой площадью, возрастание площади кухни при возрастании общей площади квартиры. на графике присуттвуют квартиры студии"
   ]
  },
  {
   "cell_type": "code",
   "execution_count": 18,
   "metadata": {},
   "outputs": [
    {
     "data": {
      "text/plain": [
       "<AxesSubplot:>"
      ]
     },
     "execution_count": 18,
     "metadata": {},
     "output_type": "execute_result"
    },
    {
     "data": {
      "image/png": "[encoded data removed]",
      "text/plain": [
       "<Figure size 360x360 with 1 Axes>"
      ]
     },
     "metadata": {
      "needs_background": "light"
     },
     "output_type": "display_data"
    }
   ],
   "source": [
    "#гистограмма по цене объекта\n",
    "data['last_price'].hist(bins=50,figsize=(5, 5))\n"
   ]
  },
  {
   "cell_type": "code",
   "execution_count": 19,
   "metadata": {},
   "outputs": [
    {
     "data": {
      "text/plain": [
       "<AxesSubplot:>"
      ]
     },
     "execution_count": 19,
     "metadata": {},
     "output_type": "execute_result"
    },
    {
     "data": {
      "image/png": "[encoded data removed]",
      "text/plain": [
       "<Figure size 360x360 with 1 Axes>"
      ]
     },
     "metadata": {
      "needs_background": "light"
     },
     "output_type": "display_data"
    }
   ],
   "source": [
    "#гистограмма по количетву комнат\n",
    "data['rooms'].hist(bins=50,figsize=(5, 5))"
   ]
  },
  {
   "cell_type": "markdown",
   "metadata": {},
   "source": [
    "0 комнат это скорее всего квартиры студии \n",
    "\n",
    "1-3 комнаты самый распространный вариант строительства. так же набрали популярность так называемы евродвухки, где комната и большая кухня-гостинная\n",
    "\n",
    "4 и более уже более дорогой сегмент, с большИми площадами и другим классом застройки "
   ]
  },
  {
   "cell_type": "code",
   "execution_count": 20,
   "metadata": {},
   "outputs": [
    {
     "data": {
      "text/plain": [
       "<AxesSubplot:>"
      ]
     },
     "execution_count": 20,
     "metadata": {},
     "output_type": "execute_result"
    },
    {
     "data": {
      "image/png": "[encoded data removed]",
      "text/plain": [
       "<Figure size 360x360 with 1 Axes>"
      ]
     },
     "metadata": {
      "needs_background": "light"
     },
     "output_type": "display_data"
    }
   ],
   "source": [
    "#гистограмма по высоте потолков\n",
    "data['ceiling_height'].hist(bins=50,figsize=(5, 5))"
   ]
  },
  {
   "cell_type": "markdown",
   "metadata": {},
   "source": [
    "потолки 2.25 - цокольные этажи ( полуподвальные), большая масса квартир - 2.65,  присутствуют квартиры с потолками выше 3 метров это старые зданиея либо квартры класса премиум "
   ]
  },
  {
   "cell_type": "code",
   "execution_count": 21,
   "metadata": {},
   "outputs": [
    {
     "data": {
      "text/plain": [
       "<AxesSubplot:>"
      ]
     },
     "execution_count": 21,
     "metadata": {},
     "output_type": "execute_result"
    },
    {
     "data": {
      "image/png": "[encoded data removed]",
      "text/plain": [
       "<Figure size 360x360 with 1 Axes>"
      ]
     },
     "metadata": {
      "needs_background": "light"
     },
     "output_type": "display_data"
    }
   ],
   "source": [
    "#гистограмма по этажу квартиры \n",
    "data['floor_type'].hist(bins=5,figsize=(5, 5))"
   ]
  },
  {
   "cell_type": "code",
   "execution_count": 22,
   "metadata": {},
   "outputs": [
    {
     "data": {
      "text/plain": [
       "<AxesSubplot:>"
      ]
     },
     "execution_count": 22,
     "metadata": {},
     "output_type": "execute_result"
    },
    {
     "data": {
      "image/png": "[encoded data removed]",
      "text/plain": [
       "<Figure size 360x360 with 1 Axes>"
      ]
     },
     "metadata": {
      "needs_background": "light"
     },
     "output_type": "display_data"
    }
   ],
   "source": [
    "#гистограмма по типу этажности квартиры \n",
    "data['floor'].hist(bins=50,figsize=(5, 5))"
   ]
  },
  {
   "cell_type": "markdown",
   "metadata": {},
   "source": [
    "1 этаж комерчиские организации \n",
    "\n",
    "2-6 этаж выше уровень шума от улицы, но и кислорода больше\n",
    "\n",
    "7-14  этажи не так шумно и меньше пыли, но воздух менее насыщен кислородом\n",
    "\n",
    "последние этажи как правило с самыми высокими потолками и иногда с большой площадью либо двухъярусные"
   ]
  },
  {
   "cell_type": "code",
   "execution_count": 23,
   "metadata": {},
   "outputs": [
    {
     "data": {
      "text/plain": [
       "<AxesSubplot:>"
      ]
     },
     "execution_count": 23,
     "metadata": {},
     "output_type": "execute_result"
    },
    {
     "data": {
      "image/png": "[encoded data removed]",
      "text/plain": [
       "<Figure size 360x360 with 1 Axes>"
      ]
     },
     "metadata": {
      "needs_background": "light"
     },
     "output_type": "display_data"
    }
   ],
   "source": [
    "#гистограмма по общему количеству этажей дома \n",
    "data['floors_total'].hist(bins=50,figsize=(5, 5), range=(0,40))"
   ]
  },
  {
   "cell_type": "markdown",
   "metadata": {},
   "source": [
    "заметна тенденция уменьшения количества домов с высокой этажностью. это обусловлено тем, что в черте города запрещено стоить высокоэтажные дома чтобы не нарушать уровень застройки, поэтому 2-12 этажные дома самые популярные. \n",
    "дома с этажностью от 15 и выше начинаются ближе к границам города и в области, часто такие дома имеют от 5 до 20 парадных поэтому и их количество не так велико. "
   ]
  },
  {
   "cell_type": "code",
   "execution_count": 24,
   "metadata": {},
   "outputs": [
    {
     "data": {
      "text/plain": [
       "<AxesSubplot:>"
      ]
     },
     "execution_count": 24,
     "metadata": {},
     "output_type": "execute_result"
    },
    {
     "data": {
      "image/png": "[encoded data removed]",
      "text/plain": [
       "<Figure size 360x360 with 1 Axes>"
      ]
     },
     "metadata": {
      "needs_background": "light"
     },
     "output_type": "display_data"
    }
   ],
   "source": [
    "#гистограма по дню недели\n",
    "data['day'].hist(bins=50,figsize=(5, 5))"
   ]
  },
  {
   "cell_type": "code",
   "execution_count": 25,
   "metadata": {},
   "outputs": [
    {
     "data": {
      "text/plain": [
       "<AxesSubplot:>"
      ]
     },
     "execution_count": 25,
     "metadata": {},
     "output_type": "execute_result"
    },
    {
     "data": {
      "image/png": "[encoded data removed]",
      "text/plain": [
       "<Figure size 360x360 with 1 Axes>"
      ]
     },
     "metadata": {
      "needs_background": "light"
     },
     "output_type": "display_data"
    }
   ],
   "source": [
    "#гистограма по месяцу\n",
    "data['month'].hist(bins=50,figsize=(5, 5))"
   ]
  },
  {
   "cell_type": "code",
   "execution_count": 26,
   "metadata": {},
   "outputs": [
    {
     "data": {
      "text/plain": [
       "<AxesSubplot:>"
      ]
     },
     "execution_count": 26,
     "metadata": {},
     "output_type": "execute_result"
    },
    {
     "data": {
      "image/png": "[encoded data removed]",
      "text/plain": [
       "<Figure size 360x360 with 1 Axes>"
      ]
     },
     "metadata": {
      "needs_background": "light"
     },
     "output_type": "display_data"
    }
   ],
   "source": [
    "#Изучите, как быстро продавались квартиры (столбец days_exposition). Этот параметр показывает, сколько дней «висело» каждое объявление\n",
    "# среднее (180)\n",
    "days_exposition_mean = data[data['days_exposition'].isnull() == False]['days_exposition'].mean()\n",
    "#медианное (95)\n",
    "days_exposition_median = data[data['days_exposition'].isnull() == False]['days_exposition'].median()\n",
    "#print(days_exposition_mean)\n",
    "#print(days_exposition_median)\n",
    "\n",
    "data['days_exposition'].hist(bins=200, figsize=(5, 5), range=(0, 200))\n"
   ]
  },
  {
   "cell_type": "markdown",
   "metadata": {},
   "source": [
    "в среднем продажа квартиры заниеи 180 дней, медиана продажи квартиры 95 дней.\n",
    "\n",
    "анамальные быстрые продажи - продажи в первые дни публикации, продажи на этапе котлована. \n",
    "\n",
    "быстрой продажей квартиры можно назвать продажи совершенные за 50-100 календарных дней, это хорошие предложения по цене за квадратный метр, хорошее расположение и тд\n",
    "\n",
    "долгая продажа 100-300 дней \n",
    "\n",
    "необычно долгие продажи свыше 300 дней, не так часто продаются квартиры с очень высокой стоимостью. а те у кого есть такие финансы будут тщательно выбирать подходящий им вариант "
   ]
  },
  {
   "cell_type": "code",
   "execution_count": 27,
   "metadata": {},
   "outputs": [
    {
     "data": {
      "text/plain": [
       "array([[<AxesSubplot:title={'center':'last_price'}>]], dtype=object)"
      ]
     },
     "execution_count": 27,
     "metadata": {},
     "output_type": "execute_result"
    },
    {
     "data": {
      "image/png": "[encoded data removed]",
      "text/plain": [
       "<Figure size 360x360 with 1 Axes>"
      ]
     },
     "metadata": {
      "needs_background": "light"
     },
     "output_type": "display_data"
    }
   ],
   "source": [
    "#Какие факторы больше всего влияют на общую (полную) стоимость объекта? \n",
    "\n",
    "total_area_pivot = data.pivot_table(index='total_area', values='last_price') \n",
    "living_area_pivot = data.pivot_table(index='living_area', values='last_price')\n",
    "kitchen_area_pivot = data.pivot_table(index='kitchen_area', values='last_price')\n",
    "rooms_pivot = data.pivot_table(index='rooms', values='last_price')\n",
    "floor_type_pivot = data.pivot_table(index='floor_type', values='last_price')\n",
    "#display(total_area_pivot, living_area_pivot, kitchen_area_pivot, rooms_pivot, floor_type_pivot)\n",
    "\n",
    "\n",
    "total_area_pivot.hist(bins=50, figsize=(5,5))"
   ]
  },
  {
   "cell_type": "code",
   "execution_count": 28,
   "metadata": {},
   "outputs": [
    {
     "name": "stdout",
     "output_type": "stream",
     "text": [
      "корреляция общей площади 0.6536750579657242\n",
      "корреляция жилой площади 0.4505069784796024\n",
      "корреляция площади кухни 0.44031561243446554\n"
     ]
    }
   ],
   "source": [
    "#корреляция Пирсона для площадей\n",
    "print('корреляция общей площади', data['total_area'].corr(data['last_price']))\n",
    "print('корреляция жилой площади', data['living_area'].corr(data['last_price']))\n",
    "print('корреляция площади кухни', data['kitchen_area'].corr(data['last_price']))\n"
   ]
  },
  {
   "cell_type": "code",
   "execution_count": 29,
   "metadata": {},
   "outputs": [],
   "source": [
    "total_area_pivot = total_area_pivot.reset_index()"
   ]
  },
  {
   "cell_type": "code",
   "execution_count": 30,
   "metadata": {},
   "outputs": [
    {
     "data": {
      "text/plain": [
       "<AxesSubplot:xlabel='total_area', ylabel='last_price'>"
      ]
     },
     "execution_count": 30,
     "metadata": {},
     "output_type": "execute_result"
    },
    {
     "data": {
      "image/png": "[encoded data removed]",
      "text/plain": [
       "<Figure size 432x288 with 1 Axes>"
      ]
     },
     "metadata": {
      "needs_background": "light"
     },
     "output_type": "display_data"
    }
   ],
   "source": [
    "#график рассеяния для общей площади  \n",
    "total_area_pivot.plot(kind='scatter', x='total_area', y='last_price', alpha=0.5)"
   ]
  },
  {
   "cell_type": "code",
   "execution_count": 31,
   "metadata": {},
   "outputs": [
    {
     "data": {
      "image/png": "[encoded data removed]",
      "text/plain": [
       "<Figure size 432x288 with 1 Axes>"
      ]
     },
     "metadata": {
      "needs_background": "light"
     },
     "output_type": "display_data"
    }
   ],
   "source": [
    "#жилая площадь\n",
    "living_area_pivot = living_area_pivot.reset_index()\n",
    "living_area_pivot.plot(kind='line', x='living_area', y='last_price')\n",
    "plt.title('Жилая площадь');"
   ]
  },
  {
   "cell_type": "markdown",
   "metadata": {},
   "source": [
    "Неоднозначный график стоимости отт жилой площади. Выбросы либо означают что жилье ну очень с хорошей планировкой и в новом доме бизнес класса. Либо это страя застройка с совмещенными комуналками и ты будешь жить один на этаже. "
   ]
  },
  {
   "cell_type": "code",
   "execution_count": 32,
   "metadata": {},
   "outputs": [
    {
     "data": {
      "image/png": "[encoded data removed]",
      "text/plain": [
       "<Figure size 432x288 with 1 Axes>"
      ]
     },
     "metadata": {
      "needs_background": "light"
     },
     "output_type": "display_data"
    }
   ],
   "source": [
    "#площадь кухни\n",
    "kitchen_area_pivot = kitchen_area_pivot.reset_index()\n",
    "kitchen_area_pivot.plot(kind='line',x='kitchen_area', y='last_price')\n",
    "plt.title('Площадь кухни');"
   ]
  },
  {
   "cell_type": "markdown",
   "metadata": {},
   "source": [
    "С возрастанием цены по ходу увеличения площади кухни все проще. Не так много пиковых значений которые сильно выбивались бы из общей картины. Скорее всего это особенности данных квартир в хорошей планировке и удобной кухне"
   ]
  },
  {
   "cell_type": "code",
   "execution_count": 33,
   "metadata": {},
   "outputs": [
    {
     "data": {
      "image/png": "[encoded data removed]",
      "text/plain": [
       "<Figure size 432x288 with 1 Axes>"
      ]
     },
     "metadata": {
      "needs_background": "light"
     },
     "output_type": "display_data"
    }
   ],
   "source": [
    "#Количество комнат\n",
    "rooms_pivot = rooms_pivot.reset_index()\n",
    "rooms_pivot.plot(kind='line', x='rooms', y='last_price')\n",
    "plt.title('КОличество комнат');"
   ]
  },
  {
   "cell_type": "markdown",
   "metadata": {},
   "source": [
    "Плавный рост цены до 11 комнат и такой резкий скачек на уровне 11-14 комнат. ДАже не знаю с чем это может бысть связано, какой-то элитный район большим количиством одинаковых планировок по завышенной цене за счет месторасположения или статуса застройщика. "
   ]
  },
  {
   "cell_type": "code",
   "execution_count": 34,
   "metadata": {},
   "outputs": [
    {
     "data": {
      "image/png": "[encoded data removed]",
      "text/plain": [
       "<Figure size 432x288 with 1 Axes>"
      ]
     },
     "metadata": {
      "needs_background": "light"
     },
     "output_type": "display_data"
    }
   ],
   "source": [
    "#уровень этажа\n",
    "floor_type_pivot = floor_type_pivot.reset_index()\n",
    "floor_type_pivot.plot(kind='line', x='floor_type', y='last_price')\n",
    "plt.title('Уровень этажа');"
   ]
  },
  {
   "cell_type": "markdown",
   "metadata": {},
   "source": [
    "Первые этажи дешевле потому что мало кто хочет там жить да и в основном это комерческие помещения. Самые дорогие квартиры на последних этажах. Обсусловлено более высокми потолками либо наличием террасы, либо вообще двухуровневой квартирой. "
   ]
  },
  {
   "cell_type": "markdown",
   "metadata": {},
   "source": [
    "Больше всего на общую стоимость влияют: общая площадь квартиры, количество комнат. В меньшей степени то на каком этаже квартира находится ( если не брать в учет квартиры с каким-то потрясающим видом) "
   ]
  },
  {
   "cell_type": "code",
   "execution_count": 35,
   "metadata": {},
   "outputs": [
    {
     "data": {
      "text/plain": [
       "<AxesSubplot:>"
      ]
     },
     "execution_count": 35,
     "metadata": {},
     "output_type": "execute_result"
    },
    {
     "data": {
      "image/png": "[encoded data removed]",
      "text/plain": [
       "<Figure size 360x360 with 1 Axes>"
      ]
     },
     "metadata": {
      "needs_background": "light"
     },
     "output_type": "display_data"
    }
   ],
   "source": [
    "#график по дню недели\n",
    "data['day'].hist(bins=50,figsize=(5, 5))"
   ]
  },
  {
   "cell_type": "markdown",
   "metadata": {},
   "source": [
    "если учесть что 0 - это понедельник, а 6 - воскресенье, то в выходные дни не так охотно выкладывали объявления. видимо все время тратили на отдых"
   ]
  },
  {
   "cell_type": "code",
   "execution_count": 36,
   "metadata": {},
   "outputs": [
    {
     "data": {
      "text/plain": [
       "<AxesSubplot:>"
      ]
     },
     "execution_count": 36,
     "metadata": {},
     "output_type": "execute_result"
    },
    {
     "data": {
      "image/png": "[encoded data removed]",
      "text/plain": [
       "<Figure size 360x360 with 1 Axes>"
      ]
     },
     "metadata": {
      "needs_background": "light"
     },
     "output_type": "display_data"
    }
   ],
   "source": [
    "#график по месяцу публикации\n",
    "data['month'].hist(bins=50,figsize=(5, 5))"
   ]
  },
  {
   "cell_type": "markdown",
   "metadata": {},
   "source": [
    "рост продаж с февраля по апреля может быть вызван либо акциями от застройщиков, либо тем что многим выдают премию как 13 зарплату и они подкопив первый взнос либо всю сумму оплачивали. как мы поняли в мае все на дачах готовятся к теплому сезону. а вот рост продаж жилья осенью на данный момент могу объяснить только тем что люди заранее позаботились о том чтобы было где отпраздновать новый год, так еще и месяц на ремонт оставили"
   ]
  },
  {
   "cell_type": "code",
   "execution_count": 37,
   "metadata": {},
   "outputs": [
    {
     "data": {
      "text/plain": [
       "<AxesSubplot:>"
      ]
     },
     "execution_count": 37,
     "metadata": {},
     "output_type": "execute_result"
    },
    {
     "data": {
      "image/png": "[encoded data removed]",
      "text/plain": [
       "<Figure size 360x360 with 1 Axes>"
      ]
     },
     "metadata": {
      "needs_background": "light"
     },
     "output_type": "display_data"
    }
   ],
   "source": [
    "#график по году публикации\n",
    "data['year'].hist(bins=50,figsize=(5, 5))"
   ]
  },
  {
   "cell_type": "markdown",
   "metadata": {},
   "source": [
    "в 2014-2015 году был валютный кризис, в 2016 году застройщики поняли что мало строили и земля не такая дорогая как была раньше. в 2017-2018 по данынм МЦФ стоимость жилья упала, вот он и пик продаж. в 2019 цены начали подниматься да и уровень застройки изменился, скорее всего это причина спада продаж. "
   ]
  },
  {
   "cell_type": "code",
   "execution_count": 38,
   "metadata": {},
   "outputs": [
    {
     "data": {
      "image/png": "[encoded data removed]",
      "text/plain": [
       "<Figure size 432x288 with 1 Axes>"
      ]
     },
     "metadata": {
      "needs_background": "light"
     },
     "output_type": "display_data"
    }
   ],
   "source": [
    "#день недели\n",
    "data.groupby('day')['last_price'].median().plot();\n",
    "plt.title('Зависимость от дня');"
   ]
  },
  {
   "cell_type": "markdown",
   "metadata": {},
   "source": [
    "в начале недели выкладывают более дорогие картиры. даже нет идей почему так происходит "
   ]
  },
  {
   "cell_type": "code",
   "execution_count": 40,
   "metadata": {},
   "outputs": [
    {
     "data": {
      "image/png": "[encoded data removed]",
      "text/plain": [
       "<Figure size 432x288 with 1 Axes>"
      ]
     },
     "metadata": {
      "needs_background": "light"
     },
     "output_type": "display_data"
    }
   ],
   "source": [
    "#месяц\n",
    "data.groupby('month')['last_price'].median().plot();\n",
    "plt.title('Зависимость от месяца');"
   ]
  },
  {
   "cell_type": "markdown",
   "metadata": {},
   "source": []
  },
  {
   "cell_type": "code",
   "execution_count": 41,
   "metadata": {},
   "outputs": [
    {
     "data": {
      "image/png": "[encoded data removed]",
      "text/plain": [
       "<Figure size 432x288 with 1 Axes>"
      ]
     },
     "metadata": {
      "needs_background": "light"
     },
     "output_type": "display_data"
    }
   ],
   "source": [
    "#год\n",
    "data.groupby('year')['last_price'].median().plot();\n",
    "plt.title('Зависимость от года');"
   ]
  },
  {
   "cell_type": "markdown",
   "metadata": {},
   "source": []
  },
  {
   "cell_type": "code",
   "execution_count": null,
   "metadata": {},
   "outputs": [],
   "source": [
    "#Посчитайте среднюю цену одного квадратного метра в 10 населённых пунктах \n",
    "data['one_meter_price'] = data['last_price'] / data['total_area']\n",
    "data['one_meter_price'] = round(data['one_meter_price'],2)\n",
    "\n",
    "#сортировка по количеству объявлений и средней цене\n",
    "exp_town = data.groupby('locality_name').agg({'one_meter_price':['count', 'median']})\n",
    "exp_town.columns = [ 'count_exp', 'median_price']\n",
    "\n",
    "display(exp_town.sort_values('count_exp', ascending=False).head(10))\n",
    "\n",
    "max_exp_town = data[['locality_name', 'one_meter_price']]\n",
    "display(max_exp_town.sort_values('one_meter_price',ascending=False).head())\n",
    "\n",
    "min_exp_town = data[['locality_name', 'one_meter_price']]\n",
    "display(min_exp_town.sort_values('one_meter_price',ascending=False).tail())"
   ]
  },
  {
   "cell_type": "markdown",
   "metadata": {},
   "source": [
    "самой высокой стоимостью за квадратный метр является Санкт-Петербург\n",
    "\n",
    "самой низкой стоимостью за квадратный метр является поселок станции Свирь"
   ]
  },
  {
   "cell_type": "code",
   "execution_count": null,
   "metadata": {},
   "outputs": [],
   "source": [
    "data.iloc[[8793]] "
   ]
  },
  {
   "cell_type": "code",
   "execution_count": null,
   "metadata": {},
   "outputs": [],
   "source": []
  },
  {
   "cell_type": "code",
   "execution_count": null,
   "metadata": {},
   "outputs": [],
   "source": [
    "display(data['cityCenters_nearest'])"
   ]
  },
  {
   "cell_type": "code",
   "execution_count": null,
   "metadata": {},
   "outputs": [],
   "source": [
    "#цена одного километра \n",
    "data['one_km_price'] = data['last_price'] / data['cityCenters_nearest']\n",
    "data['one_km_price'] = round(data['one_km_price'],2)\n",
    "\n",
    "\n",
    "#spb_km_price_pivot = data.query('locality_name == \"Санкт-Петербург\"').pivot_table(index='cityCenters_nearest', values='one_km_price').round(0).reset_index()\n",
    "#display(spb_km_price_pivot)\n",
    "\n",
    "spb_km_price = data.query('locality_name==\"Санкт-Петербург\"').groupby('cityCenters_nearest')['last_price'].mean().round(0).reset_index()\n",
    "\n",
    "spb_km_price.columns = ['cityCenters_nearest','one_km_price']\n",
    "display(spb_km_price.head())\n",
    "spb_km_price.plot(x='cityCenters_nearest', y='one_km_price', kind='scatter', alpha=0.5)\n",
    "\n",
    "#  проблема в том что есть значения inf и я понятия не имею почему они там взялись, пропусков в столбйе расстояние до центра нет, в ценах тоже. буду исправлять после вашего комментария \n",
    "#по общей стоимости строит нормально "
   ]
  },
  {
   "cell_type": "code",
   "execution_count": null,
   "metadata": {},
   "outputs": [],
   "source": [
    "import matplotlib.pyplot as plt\n",
    "#линейная диаграмма для стоимости киллометра\n",
    "spb_km_price.plot(kind='line', x='cityCenters_nearest', y='one_km_price')\n",
    "plt.title('Зависимость цены от росстояния до центра');"
   ]
  },
  {
   "cell_type": "markdown",
   "metadata": {},
   "source": [
    "Промежуточный вывод: цена на недвижимость зависит от расстояний до центра. так квартиры которе расположены ближе зачастую стоют дороже благодаря находящимся рядом коммуникациям, благоутройсву, и возможности быстрого перемещения по городу. "
   ]
  },
  {
   "cell_type": "markdown",
   "metadata": {},
   "source": [
    "### Общий вывод\n",
    "Изучив предоставленый датасет по недвижисоти в Ленинградкой области были выявлены проблемы с данными. В частности аномальные значения, пропуски данных, несоответсвие типам данных. \n",
    "В ходе предобработки данных по максимум были убраны или заменены на медианное/среднее значеине пропуски в значениях.\n",
    "В дадасет были добавлены новые столбцы с данными. такими как дата публикации с днем недели, присвоены новые значения уровню этажа, посдчитаны стоимоть одного квадратного метра. расстояние до центра было переведено в киллометры. \n",
    "Были описаны и изучены гистограмы по отдельным критериям датасета. \n",
    "Было изучено время продажи квартир, с выявлением быстрых и долгих продаж. \n",
    "Изучены и описаны основные факторы влияющие на стоимость недвижимости. \n",
    "Посчитана и изучена стоимость квадратного метра жилья в городах с наибольшим числом публикаций. \n",
    "Посчитана стоимость жилья относительно расстояния до центра и описана взаимосвязь данных критериев. \n"
   ]
  },
  {
   "cell_type": "code",
   "execution_count": null,
   "metadata": {},
   "outputs": [],
   "source": []
  }
 ],
 "metadata": {
  "ExecuteTimeLog": [
   {
    "duration": 1130,
    "start_time": "2022-09-21T14:15:20.093Z"
   },
   {
    "duration": 117,
    "start_time": "2022-09-21T14:15:21.572Z"
   },
   {
    "duration": 96,
    "start_time": "2022-09-21T14:15:38.163Z"
   },
   {
    "duration": 93,
    "start_time": "2022-09-21T14:16:06.558Z"
   },
   {
    "duration": 118,
    "start_time": "2022-09-21T14:16:12.658Z"
   },
   {
    "duration": 95,
    "start_time": "2022-09-21T14:16:16.951Z"
   },
   {
    "duration": 119,
    "start_time": "2022-09-21T14:17:04.499Z"
   },
   {
    "duration": 2332,
    "start_time": "2022-09-21T14:17:43.805Z"
   },
   {
    "duration": 16,
    "start_time": "2022-09-21T14:20:17.050Z"
   },
   {
    "duration": 9,
    "start_time": "2022-09-21T14:20:29.054Z"
   },
   {
    "duration": 86,
    "start_time": "2022-09-21T14:21:31.970Z"
   },
   {
    "duration": 2206,
    "start_time": "2022-09-21T14:21:50.855Z"
   },
   {
    "duration": 99,
    "start_time": "2022-09-21T14:24:38.058Z"
   },
   {
    "duration": 2531,
    "start_time": "2022-09-21T14:32:31.567Z"
   },
   {
    "duration": 97,
    "start_time": "2022-09-21T14:32:43.103Z"
   },
   {
    "duration": 2073,
    "start_time": "2022-09-21T14:33:45.664Z"
   },
   {
    "duration": 225,
    "start_time": "2022-09-21T14:33:58.451Z"
   },
   {
    "duration": 106,
    "start_time": "2022-09-21T14:38:03.544Z"
   },
   {
    "duration": 1430,
    "start_time": "2022-09-21T14:38:29.361Z"
   },
   {
    "duration": 1127,
    "start_time": "2022-09-21T14:38:31.218Z"
   },
   {
    "duration": 104,
    "start_time": "2022-09-21T14:38:54.803Z"
   },
   {
    "duration": 114,
    "start_time": "2022-09-21T14:40:31.894Z"
   },
   {
    "duration": 981,
    "start_time": "2022-09-21T14:42:56.379Z"
   },
   {
    "duration": 75,
    "start_time": "2022-09-21T14:43:22.648Z"
   },
   {
    "duration": 110,
    "start_time": "2022-09-21T14:44:46.372Z"
   },
   {
    "duration": 90,
    "start_time": "2022-09-21T14:45:17.281Z"
   },
   {
    "duration": 91,
    "start_time": "2022-09-21T14:45:30.964Z"
   },
   {
    "duration": 281,
    "start_time": "2022-09-21T14:50:10.207Z"
   },
   {
    "duration": 80,
    "start_time": "2022-09-21T14:50:20.251Z"
   },
   {
    "duration": 91,
    "start_time": "2022-09-21T14:58:18.472Z"
   },
   {
    "duration": 18,
    "start_time": "2022-09-21T15:03:45.887Z"
   },
   {
    "duration": 77,
    "start_time": "2022-09-21T15:04:02.205Z"
   },
   {
    "duration": 92,
    "start_time": "2022-09-21T15:08:27.681Z"
   },
   {
    "duration": 93,
    "start_time": "2022-09-21T15:19:42.065Z"
   },
   {
    "duration": 107,
    "start_time": "2022-09-21T15:19:47.083Z"
   },
   {
    "duration": 126,
    "start_time": "2022-09-21T15:20:02.492Z"
   },
   {
    "duration": 79,
    "start_time": "2022-09-21T15:34:06.401Z"
   },
   {
    "duration": 20,
    "start_time": "2022-09-21T15:34:42.950Z"
   },
   {
    "duration": 18,
    "start_time": "2022-09-21T15:34:58.093Z"
   },
   {
    "duration": 22,
    "start_time": "2022-09-21T15:35:23.447Z"
   },
   {
    "duration": 21,
    "start_time": "2022-09-21T15:35:28.153Z"
   },
   {
    "duration": 23,
    "start_time": "2022-09-21T15:35:46.074Z"
   },
   {
    "duration": 21,
    "start_time": "2022-09-21T15:35:57.065Z"
   },
   {
    "duration": 20,
    "start_time": "2022-09-21T15:36:10.817Z"
   },
   {
    "duration": 18,
    "start_time": "2022-09-21T15:36:27.986Z"
   },
   {
    "duration": 25,
    "start_time": "2022-09-21T15:36:32.695Z"
   },
   {
    "duration": 90,
    "start_time": "2022-09-21T15:36:55.151Z"
   },
   {
    "duration": 21,
    "start_time": "2022-09-21T15:37:04.080Z"
   },
   {
    "duration": 24,
    "start_time": "2022-09-21T15:37:33.042Z"
   },
   {
    "duration": 25,
    "start_time": "2022-09-21T15:47:12.563Z"
   },
   {
    "duration": 1996,
    "start_time": "2022-09-21T16:04:05.479Z"
   },
   {
    "duration": 71,
    "start_time": "2022-09-21T16:04:35.898Z"
   },
   {
    "duration": 3032,
    "start_time": "2022-09-21T16:04:42.369Z"
   },
   {
    "duration": 3133,
    "start_time": "2022-09-21T16:04:54.597Z"
   },
   {
    "duration": 25,
    "start_time": "2022-09-21T16:05:12.654Z"
   },
   {
    "duration": 111,
    "start_time": "2022-09-21T16:06:19.440Z"
   },
   {
    "duration": 22,
    "start_time": "2022-09-21T16:08:20.160Z"
   },
   {
    "duration": 27,
    "start_time": "2022-09-21T16:14:58.665Z"
   },
   {
    "duration": 28,
    "start_time": "2022-09-21T16:26:06.841Z"
   },
   {
    "duration": 29,
    "start_time": "2022-09-21T16:26:19.725Z"
   },
   {
    "duration": 38,
    "start_time": "2022-09-21T16:26:51.562Z"
   },
   {
    "duration": 40,
    "start_time": "2022-09-21T16:30:02.271Z"
   },
   {
    "duration": 51,
    "start_time": "2022-09-21T16:30:19.042Z"
   },
   {
    "duration": 62,
    "start_time": "2022-09-21T16:30:55.039Z"
   },
   {
    "duration": 83,
    "start_time": "2022-09-21T16:38:02.649Z"
   },
   {
    "duration": 9125,
    "start_time": "2022-09-21T16:46:02.272Z"
   },
   {
    "duration": 9106,
    "start_time": "2022-09-21T16:47:04.324Z"
   },
   {
    "duration": 11,
    "start_time": "2022-09-21T16:58:35.866Z"
   },
   {
    "duration": 30,
    "start_time": "2022-09-21T16:58:51.439Z"
   },
   {
    "duration": 9017,
    "start_time": "2022-09-21T16:59:22.728Z"
   },
   {
    "duration": 9295,
    "start_time": "2022-09-21T16:59:40.033Z"
   },
   {
    "duration": 25,
    "start_time": "2022-09-21T16:59:49.365Z"
   },
   {
    "duration": 22,
    "start_time": "2022-09-21T17:00:24.725Z"
   },
   {
    "duration": 9446,
    "start_time": "2022-09-21T17:00:34.390Z"
   },
   {
    "duration": 29,
    "start_time": "2022-09-21T17:00:54.037Z"
   },
   {
    "duration": 28,
    "start_time": "2022-09-21T17:01:41.574Z"
   },
   {
    "duration": 23,
    "start_time": "2022-09-21T17:01:49.868Z"
   },
   {
    "duration": 9160,
    "start_time": "2022-09-21T17:01:57.118Z"
   },
   {
    "duration": 24,
    "start_time": "2022-09-21T17:02:10.933Z"
   },
   {
    "duration": 8980,
    "start_time": "2022-09-21T17:05:01.690Z"
   },
   {
    "duration": 9417,
    "start_time": "2022-09-21T17:08:10.137Z"
   },
   {
    "duration": 54,
    "start_time": "2022-09-21T17:09:20.887Z"
   },
   {
    "duration": 10,
    "start_time": "2022-09-22T07:13:10.082Z"
   },
   {
    "duration": 5,
    "start_time": "2022-09-22T08:48:40.750Z"
   },
   {
    "duration": 209,
    "start_time": "2022-09-22T08:48:51.896Z"
   },
   {
    "duration": 51,
    "start_time": "2022-09-22T08:48:57.164Z"
   },
   {
    "duration": 8812,
    "start_time": "2022-09-22T08:48:59.466Z"
   },
   {
    "duration": 5,
    "start_time": "2022-09-22T08:49:08.280Z"
   },
   {
    "duration": 11,
    "start_time": "2022-09-22T08:49:10.649Z"
   },
   {
    "duration": 2,
    "start_time": "2022-09-22T08:55:34.171Z"
   },
   {
    "duration": 4,
    "start_time": "2022-09-22T08:56:03.004Z"
   },
   {
    "duration": 5,
    "start_time": "2022-09-22T08:56:15.612Z"
   },
   {
    "duration": 4,
    "start_time": "2022-09-22T08:57:26.606Z"
   },
   {
    "duration": 6,
    "start_time": "2022-09-22T08:58:37.095Z"
   },
   {
    "duration": 12,
    "start_time": "2022-09-22T08:58:41.341Z"
   },
   {
    "duration": 13,
    "start_time": "2022-09-22T08:59:07.144Z"
   },
   {
    "duration": 7,
    "start_time": "2022-09-22T08:59:44.458Z"
   },
   {
    "duration": 8,
    "start_time": "2022-09-22T08:59:51.742Z"
   },
   {
    "duration": 7,
    "start_time": "2022-09-22T09:02:53.393Z"
   },
   {
    "duration": 12,
    "start_time": "2022-09-22T09:02:56.149Z"
   },
   {
    "duration": 8,
    "start_time": "2022-09-22T09:03:37.524Z"
   },
   {
    "duration": 13,
    "start_time": "2022-09-22T09:03:53.867Z"
   },
   {
    "duration": 9,
    "start_time": "2022-09-22T09:04:02.379Z"
   },
   {
    "duration": 5,
    "start_time": "2022-09-22T09:12:20.161Z"
   },
   {
    "duration": 9,
    "start_time": "2022-09-22T09:13:29.969Z"
   },
   {
    "duration": 9,
    "start_time": "2022-09-22T09:13:48.799Z"
   },
   {
    "duration": 99,
    "start_time": "2022-09-22T09:15:33.032Z"
   },
   {
    "duration": 11,
    "start_time": "2022-09-22T09:15:39.678Z"
   },
   {
    "duration": 12,
    "start_time": "2022-09-22T09:15:58.068Z"
   },
   {
    "duration": 34,
    "start_time": "2022-09-22T09:16:31.665Z"
   },
   {
    "duration": 14,
    "start_time": "2022-09-22T09:19:17.885Z"
   },
   {
    "duration": 13,
    "start_time": "2022-09-22T09:19:42.828Z"
   },
   {
    "duration": 10,
    "start_time": "2022-09-22T09:21:07.332Z"
   },
   {
    "duration": 10,
    "start_time": "2022-09-22T09:21:16.525Z"
   },
   {
    "duration": 13,
    "start_time": "2022-09-22T09:23:25.135Z"
   },
   {
    "duration": 6,
    "start_time": "2022-09-22T09:23:26.969Z"
   },
   {
    "duration": 12,
    "start_time": "2022-09-22T09:23:29.400Z"
   },
   {
    "duration": 52,
    "start_time": "2022-09-22T09:28:52.039Z"
   },
   {
    "duration": 48,
    "start_time": "2022-09-22T09:28:59.346Z"
   },
   {
    "duration": 52,
    "start_time": "2022-09-22T09:29:26.329Z"
   },
   {
    "duration": 8680,
    "start_time": "2022-09-22T09:29:45.886Z"
   },
   {
    "duration": 15,
    "start_time": "2022-09-22T09:31:08.259Z"
   },
   {
    "duration": 62,
    "start_time": "2022-09-22T09:33:59.310Z"
   },
   {
    "duration": 13,
    "start_time": "2022-09-22T09:34:03.990Z"
   },
   {
    "duration": 54,
    "start_time": "2022-09-22T09:38:18.336Z"
   },
   {
    "duration": 28,
    "start_time": "2022-09-22T09:38:23.491Z"
   },
   {
    "duration": 34,
    "start_time": "2022-09-22T09:39:01.426Z"
   },
   {
    "duration": 53,
    "start_time": "2022-09-22T09:43:47.705Z"
   },
   {
    "duration": 28,
    "start_time": "2022-09-22T09:43:56.607Z"
   },
   {
    "duration": 28,
    "start_time": "2022-09-22T09:47:28.464Z"
   },
   {
    "duration": 14,
    "start_time": "2022-09-22T09:49:11.875Z"
   },
   {
    "duration": 7,
    "start_time": "2022-09-22T09:49:12.955Z"
   },
   {
    "duration": 15,
    "start_time": "2022-09-22T09:49:22.020Z"
   },
   {
    "duration": 15,
    "start_time": "2022-09-22T09:49:24.106Z"
   },
   {
    "duration": 18,
    "start_time": "2022-09-22T09:49:58.548Z"
   },
   {
    "duration": 45,
    "start_time": "2022-09-22T09:50:28.649Z"
   },
   {
    "duration": 32,
    "start_time": "2022-09-22T09:53:04.075Z"
   },
   {
    "duration": 34,
    "start_time": "2022-09-22T09:53:11.159Z"
   },
   {
    "duration": 129,
    "start_time": "2022-09-22T09:53:27.510Z"
   },
   {
    "duration": 2189,
    "start_time": "2022-09-22T10:09:22.424Z"
   },
   {
    "duration": 9,
    "start_time": "2022-09-22T10:09:31.897Z"
   },
   {
    "duration": 50,
    "start_time": "2022-09-22T10:09:53.277Z"
   },
   {
    "duration": 7,
    "start_time": "2022-09-22T10:10:21.752Z"
   },
   {
    "duration": 15,
    "start_time": "2022-09-22T10:10:23.526Z"
   },
   {
    "duration": 13,
    "start_time": "2022-09-22T10:10:42.000Z"
   },
   {
    "duration": 13,
    "start_time": "2022-09-22T10:10:57.340Z"
   },
   {
    "duration": 68,
    "start_time": "2022-09-22T10:11:12.648Z"
   },
   {
    "duration": 10075,
    "start_time": "2022-09-22T10:11:14.486Z"
   },
   {
    "duration": 8,
    "start_time": "2022-09-22T10:11:24.564Z"
   },
   {
    "duration": 23,
    "start_time": "2022-09-22T10:11:24.574Z"
   },
   {
    "duration": 7,
    "start_time": "2022-09-22T10:11:24.599Z"
   },
   {
    "duration": 16,
    "start_time": "2022-09-22T10:11:25.364Z"
   },
   {
    "duration": 6,
    "start_time": "2022-09-22T10:11:29.600Z"
   },
   {
    "duration": 16,
    "start_time": "2022-09-22T10:11:32.266Z"
   },
   {
    "duration": 32,
    "start_time": "2022-09-22T10:11:40.968Z"
   },
   {
    "duration": 30,
    "start_time": "2022-09-22T10:22:42.852Z"
   },
   {
    "duration": 844,
    "start_time": "2022-09-22T10:23:24.386Z"
   },
   {
    "duration": 150,
    "start_time": "2022-09-22T10:24:06.762Z"
   },
   {
    "duration": 54,
    "start_time": "2022-09-22T10:24:10.746Z"
   },
   {
    "duration": 46,
    "start_time": "2022-09-22T10:31:57.394Z"
   },
   {
    "duration": 138,
    "start_time": "2022-09-22T10:32:26.337Z"
   },
   {
    "duration": 78,
    "start_time": "2022-09-22T10:32:52.142Z"
   },
   {
    "duration": 68,
    "start_time": "2022-09-22T10:33:03.268Z"
   },
   {
    "duration": 53,
    "start_time": "2022-09-22T10:33:18.192Z"
   },
   {
    "duration": 33,
    "start_time": "2022-09-22T10:33:47.163Z"
   },
   {
    "duration": 86,
    "start_time": "2022-09-22T10:43:34.023Z"
   },
   {
    "duration": 48,
    "start_time": "2022-09-22T10:43:44.378Z"
   },
   {
    "duration": 1079,
    "start_time": "2022-09-22T10:44:46.552Z"
   },
   {
    "duration": 28,
    "start_time": "2022-09-22T10:45:03.421Z"
   },
   {
    "duration": 3918,
    "start_time": "2022-09-22T10:47:20.768Z"
   },
   {
    "duration": 30,
    "start_time": "2022-09-22T10:47:24.688Z"
   },
   {
    "duration": 36,
    "start_time": "2022-09-22T10:47:25.346Z"
   },
   {
    "duration": 10,
    "start_time": "2022-09-22T10:48:37.119Z"
   },
   {
    "duration": 9,
    "start_time": "2022-09-22T10:48:46.646Z"
   },
   {
    "duration": 5,
    "start_time": "2022-09-22T10:49:12.776Z"
   },
   {
    "duration": 138,
    "start_time": "2022-09-22T10:50:06.166Z"
   },
   {
    "duration": 124,
    "start_time": "2022-09-22T10:50:27.388Z"
   },
   {
    "duration": 27,
    "start_time": "2022-09-22T10:51:05.264Z"
   },
   {
    "duration": 54,
    "start_time": "2022-09-22T10:58:34.100Z"
   },
   {
    "duration": 8438,
    "start_time": "2022-09-22T10:58:36.669Z"
   },
   {
    "duration": 4,
    "start_time": "2022-09-22T10:58:45.109Z"
   },
   {
    "duration": 29,
    "start_time": "2022-09-22T10:58:45.114Z"
   },
   {
    "duration": 13,
    "start_time": "2022-09-22T10:58:45.145Z"
   },
   {
    "duration": 50,
    "start_time": "2022-09-22T11:07:53.396Z"
   },
   {
    "duration": 27,
    "start_time": "2022-09-22T11:07:59.537Z"
   },
   {
    "duration": 52,
    "start_time": "2022-09-22T11:08:20.857Z"
   },
   {
    "duration": 29,
    "start_time": "2022-09-22T11:08:24.547Z"
   },
   {
    "duration": 4,
    "start_time": "2022-09-22T11:09:57.190Z"
   },
   {
    "duration": 28,
    "start_time": "2022-09-22T11:09:59.779Z"
   },
   {
    "duration": 5,
    "start_time": "2022-09-22T11:10:46.598Z"
   },
   {
    "duration": 30,
    "start_time": "2022-09-22T11:10:48.986Z"
   },
   {
    "duration": 6,
    "start_time": "2022-09-22T11:11:00.234Z"
   },
   {
    "duration": 38,
    "start_time": "2022-09-22T11:11:02.234Z"
   },
   {
    "duration": 55,
    "start_time": "2022-09-22T11:11:20.237Z"
   },
   {
    "duration": 54,
    "start_time": "2022-09-22T11:11:26.763Z"
   },
   {
    "duration": 53,
    "start_time": "2022-09-22T11:11:28.737Z"
   },
   {
    "duration": 9049,
    "start_time": "2022-09-22T11:11:31.352Z"
   },
   {
    "duration": 4,
    "start_time": "2022-09-22T11:11:40.403Z"
   },
   {
    "duration": 18,
    "start_time": "2022-09-22T11:11:40.409Z"
   },
   {
    "duration": 12,
    "start_time": "2022-09-22T11:11:40.429Z"
   },
   {
    "duration": 21,
    "start_time": "2022-09-22T11:11:40.442Z"
   },
   {
    "duration": 6,
    "start_time": "2022-09-22T11:11:44.677Z"
   },
   {
    "duration": 16,
    "start_time": "2022-09-22T11:11:46.247Z"
   },
   {
    "duration": 4100,
    "start_time": "2022-09-22T11:11:48.596Z"
   },
   {
    "duration": 34,
    "start_time": "2022-09-22T11:11:53.837Z"
   },
   {
    "duration": 4,
    "start_time": "2022-09-22T11:12:36.083Z"
   },
   {
    "duration": 25,
    "start_time": "2022-09-22T11:12:38.865Z"
   },
   {
    "duration": 8,
    "start_time": "2022-09-22T11:13:07.533Z"
   },
   {
    "duration": 7,
    "start_time": "2022-09-22T11:13:12.166Z"
   },
   {
    "duration": 52,
    "start_time": "2022-09-22T11:13:29.802Z"
   },
   {
    "duration": 8826,
    "start_time": "2022-09-22T11:13:32.042Z"
   },
   {
    "duration": 4,
    "start_time": "2022-09-22T11:13:40.870Z"
   },
   {
    "duration": 20,
    "start_time": "2022-09-22T11:13:40.876Z"
   },
   {
    "duration": 7,
    "start_time": "2022-09-22T11:13:40.899Z"
   },
   {
    "duration": 10,
    "start_time": "2022-09-22T11:13:42.141Z"
   },
   {
    "duration": 5,
    "start_time": "2022-09-22T11:13:45.485Z"
   },
   {
    "duration": 13,
    "start_time": "2022-09-22T11:13:47.435Z"
   },
   {
    "duration": 4000,
    "start_time": "2022-09-22T11:13:49.791Z"
   },
   {
    "duration": 4,
    "start_time": "2022-09-22T11:13:53.794Z"
   },
   {
    "duration": 3,
    "start_time": "2022-09-22T11:14:08.789Z"
   },
   {
    "duration": 6,
    "start_time": "2022-09-22T11:14:10.383Z"
   },
   {
    "duration": 161,
    "start_time": "2022-09-22T11:14:19.292Z"
   },
   {
    "duration": 55,
    "start_time": "2022-09-22T11:14:34.276Z"
   },
   {
    "duration": 5,
    "start_time": "2022-09-22T11:14:37.199Z"
   },
   {
    "duration": 12,
    "start_time": "2022-09-22T11:14:38.494Z"
   },
   {
    "duration": 7,
    "start_time": "2022-09-22T11:14:39.084Z"
   },
   {
    "duration": 11,
    "start_time": "2022-09-22T11:14:40.233Z"
   },
   {
    "duration": 8,
    "start_time": "2022-09-22T11:14:41.522Z"
   },
   {
    "duration": 14,
    "start_time": "2022-09-22T11:14:42.145Z"
   },
   {
    "duration": 4150,
    "start_time": "2022-09-22T11:14:43.182Z"
   },
   {
    "duration": 3,
    "start_time": "2022-09-22T11:14:47.335Z"
   },
   {
    "duration": 18,
    "start_time": "2022-09-22T11:14:47.339Z"
   },
   {
    "duration": 4,
    "start_time": "2022-09-22T11:14:59.337Z"
   },
   {
    "duration": 13,
    "start_time": "2022-09-22T11:15:01.549Z"
   },
   {
    "duration": 10,
    "start_time": "2022-09-22T11:15:33.071Z"
   },
   {
    "duration": 5,
    "start_time": "2022-09-22T11:15:53.681Z"
   },
   {
    "duration": 7,
    "start_time": "2022-09-22T11:15:55.726Z"
   },
   {
    "duration": 138,
    "start_time": "2022-09-22T11:16:05.087Z"
   },
   {
    "duration": 52,
    "start_time": "2022-09-22T11:16:09.099Z"
   },
   {
    "duration": 10021,
    "start_time": "2022-09-22T11:16:09.492Z"
   },
   {
    "duration": 5,
    "start_time": "2022-09-22T11:16:19.516Z"
   },
   {
    "duration": 34,
    "start_time": "2022-09-22T11:16:19.524Z"
   },
   {
    "duration": 26,
    "start_time": "2022-09-22T11:16:19.561Z"
   },
   {
    "duration": 42,
    "start_time": "2022-09-22T11:16:19.589Z"
   },
   {
    "duration": 43,
    "start_time": "2022-09-22T11:16:19.633Z"
   },
   {
    "duration": 41,
    "start_time": "2022-09-22T11:16:19.678Z"
   },
   {
    "duration": 4619,
    "start_time": "2022-09-22T11:16:19.720Z"
   },
   {
    "duration": 24,
    "start_time": "2022-09-22T11:16:24.355Z"
   },
   {
    "duration": 6,
    "start_time": "2022-09-22T11:16:27.734Z"
   },
   {
    "duration": 7,
    "start_time": "2022-09-22T11:16:29.539Z"
   },
   {
    "duration": 5,
    "start_time": "2022-09-22T11:16:38.893Z"
   },
   {
    "duration": 7,
    "start_time": "2022-09-22T11:16:40.936Z"
   },
   {
    "duration": 7,
    "start_time": "2022-09-22T11:17:31.681Z"
   },
   {
    "duration": 8,
    "start_time": "2022-09-22T11:17:33.275Z"
   },
   {
    "duration": 4,
    "start_time": "2022-09-22T11:17:39.451Z"
   },
   {
    "duration": 7,
    "start_time": "2022-09-22T11:17:41.386Z"
   },
   {
    "duration": 25,
    "start_time": "2022-09-22T11:17:58.692Z"
   },
   {
    "duration": 209,
    "start_time": "2022-09-22T11:29:25.839Z"
   },
   {
    "duration": 177,
    "start_time": "2022-09-22T11:29:36.337Z"
   },
   {
    "duration": 2407,
    "start_time": "2022-09-22T11:30:04.322Z"
   },
   {
    "duration": 53,
    "start_time": "2022-09-22T11:30:47.921Z"
   },
   {
    "duration": 145,
    "start_time": "2022-09-22T11:30:55.163Z"
   },
   {
    "duration": 157,
    "start_time": "2022-09-22T11:31:01.637Z"
   },
   {
    "duration": 11,
    "start_time": "2022-09-22T11:31:46.562Z"
   },
   {
    "duration": 121,
    "start_time": "2022-09-22T11:31:57.805Z"
   },
   {
    "duration": 115,
    "start_time": "2022-09-22T11:32:37.582Z"
   },
   {
    "duration": 53,
    "start_time": "2022-09-22T11:34:38.292Z"
   },
   {
    "duration": 5316,
    "start_time": "2022-09-22T11:34:46.266Z"
   },
   {
    "duration": 35,
    "start_time": "2022-09-22T11:34:51.585Z"
   },
   {
    "duration": 6,
    "start_time": "2022-09-22T11:34:57.920Z"
   },
   {
    "duration": 34,
    "start_time": "2022-09-22T11:34:59.674Z"
   },
   {
    "duration": 170,
    "start_time": "2022-09-22T11:38:44.949Z"
   },
   {
    "duration": 5646,
    "start_time": "2022-09-22T11:41:56.750Z"
   },
   {
    "duration": 27,
    "start_time": "2022-09-22T11:42:02.399Z"
   },
   {
    "duration": 132,
    "start_time": "2022-09-22T11:42:16.273Z"
   },
   {
    "duration": 121,
    "start_time": "2022-09-22T11:43:43.281Z"
   },
   {
    "duration": 153,
    "start_time": "2022-09-22T11:43:59.332Z"
   },
   {
    "duration": 139,
    "start_time": "2022-09-22T11:47:26.277Z"
   },
   {
    "duration": 121,
    "start_time": "2022-09-22T11:48:25.961Z"
   },
   {
    "duration": 132,
    "start_time": "2022-09-22T11:52:46.346Z"
   },
   {
    "duration": 199,
    "start_time": "2022-09-22T11:54:19.543Z"
   },
   {
    "duration": 409,
    "start_time": "2022-09-22T11:55:03.157Z"
   },
   {
    "duration": 217,
    "start_time": "2022-09-22T11:55:19.146Z"
   },
   {
    "duration": 184,
    "start_time": "2022-09-22T11:55:30.743Z"
   },
   {
    "duration": 134,
    "start_time": "2022-09-22T11:55:34.569Z"
   },
   {
    "duration": 198,
    "start_time": "2022-09-22T11:55:39.402Z"
   },
   {
    "duration": 195,
    "start_time": "2022-09-22T11:55:52.946Z"
   },
   {
    "duration": 3222,
    "start_time": "2022-09-27T11:51:48.597Z"
   },
   {
    "duration": 43,
    "start_time": "2022-09-27T11:52:01.807Z"
   },
   {
    "duration": 44,
    "start_time": "2022-09-27T11:52:06.166Z"
   },
   {
    "duration": 6990,
    "start_time": "2022-09-27T11:52:06.797Z"
   },
   {
    "duration": 4,
    "start_time": "2022-09-27T11:52:13.789Z"
   },
   {
    "duration": 16,
    "start_time": "2022-09-27T11:52:24.179Z"
   },
   {
    "duration": 11,
    "start_time": "2022-09-27T11:52:48.167Z"
   },
   {
    "duration": 11,
    "start_time": "2022-09-27T11:53:03.678Z"
   },
   {
    "duration": 18,
    "start_time": "2022-09-27T11:53:09.125Z"
   },
   {
    "duration": 91,
    "start_time": "2022-09-27T11:53:14.665Z"
   },
   {
    "duration": 18,
    "start_time": "2022-09-27T11:53:22.691Z"
   },
   {
    "duration": 12,
    "start_time": "2022-09-27T11:54:04.782Z"
   },
   {
    "duration": 12,
    "start_time": "2022-09-27T11:54:13.616Z"
   },
   {
    "duration": 12,
    "start_time": "2022-09-27T11:54:18.531Z"
   },
   {
    "duration": 11,
    "start_time": "2022-09-27T11:54:29.134Z"
   },
   {
    "duration": 7282,
    "start_time": "2022-09-27T11:55:56.989Z"
   },
   {
    "duration": 10,
    "start_time": "2022-09-27T11:56:19.752Z"
   },
   {
    "duration": 14,
    "start_time": "2022-09-27T11:56:58.874Z"
   },
   {
    "duration": 14,
    "start_time": "2022-09-27T11:57:11.341Z"
   },
   {
    "duration": 58,
    "start_time": "2022-09-27T12:01:04.394Z"
   },
   {
    "duration": 13,
    "start_time": "2022-09-27T12:01:11.558Z"
   },
   {
    "duration": 18,
    "start_time": "2022-09-27T12:03:06.217Z"
   },
   {
    "duration": 14,
    "start_time": "2022-09-27T12:03:46.446Z"
   },
   {
    "duration": 14,
    "start_time": "2022-09-27T12:03:53.018Z"
   },
   {
    "duration": 1915,
    "start_time": "2022-09-27T12:04:20.436Z"
   },
   {
    "duration": 7427,
    "start_time": "2022-09-27T12:04:44.306Z"
   },
   {
    "duration": 4,
    "start_time": "2022-09-27T12:04:51.734Z"
   },
   {
    "duration": 16,
    "start_time": "2022-09-27T12:04:53.520Z"
   },
   {
    "duration": 14,
    "start_time": "2022-09-27T12:05:12.472Z"
   },
   {
    "duration": 14,
    "start_time": "2022-09-27T12:05:23.308Z"
   },
   {
    "duration": 175,
    "start_time": "2022-09-27T12:06:40.351Z"
   },
   {
    "duration": 14,
    "start_time": "2022-09-27T12:07:53.765Z"
   },
   {
    "duration": 17,
    "start_time": "2022-09-27T12:08:28.135Z"
   },
   {
    "duration": 14,
    "start_time": "2022-09-27T12:09:10.867Z"
   },
   {
    "duration": 164,
    "start_time": "2022-09-27T12:10:17.516Z"
   },
   {
    "duration": 160,
    "start_time": "2022-09-27T12:11:50.721Z"
   },
   {
    "duration": 123,
    "start_time": "2022-09-27T12:12:00.352Z"
   },
   {
    "duration": 222,
    "start_time": "2022-09-27T12:12:45.600Z"
   },
   {
    "duration": 140,
    "start_time": "2022-09-27T12:15:47.396Z"
   },
   {
    "duration": 165,
    "start_time": "2022-09-27T12:16:47.511Z"
   },
   {
    "duration": 11,
    "start_time": "2022-09-27T12:20:49.064Z"
   },
   {
    "duration": 179,
    "start_time": "2022-09-27T12:21:48.466Z"
   },
   {
    "duration": 192,
    "start_time": "2022-09-27T12:22:29.693Z"
   },
   {
    "duration": 220,
    "start_time": "2022-09-27T12:22:47.520Z"
   },
   {
    "duration": 8,
    "start_time": "2022-09-27T13:39:32.320Z"
   },
   {
    "duration": 23,
    "start_time": "2022-09-27T13:52:09.692Z"
   },
   {
    "duration": 37,
    "start_time": "2022-09-27T13:52:27.685Z"
   },
   {
    "duration": 3361,
    "start_time": "2022-09-27T13:52:59.673Z"
   },
   {
    "duration": 6,
    "start_time": "2022-09-27T13:53:03.036Z"
   },
   {
    "duration": 28,
    "start_time": "2022-09-27T13:53:03.337Z"
   },
   {
    "duration": 1991,
    "start_time": "2022-09-27T13:53:08.931Z"
   },
   {
    "duration": 43,
    "start_time": "2022-09-27T13:53:12.117Z"
   },
   {
    "duration": 7313,
    "start_time": "2022-09-27T13:53:16.181Z"
   },
   {
    "duration": 13,
    "start_time": "2022-09-27T13:53:23.496Z"
   },
   {
    "duration": 14,
    "start_time": "2022-09-27T13:53:23.515Z"
   },
   {
    "duration": 5,
    "start_time": "2022-09-27T13:53:23.531Z"
   },
   {
    "duration": 12,
    "start_time": "2022-09-27T13:53:23.537Z"
   },
   {
    "duration": 4,
    "start_time": "2022-09-27T13:53:26.311Z"
   },
   {
    "duration": 12,
    "start_time": "2022-09-27T13:53:27.138Z"
   },
   {
    "duration": 3477,
    "start_time": "2022-09-27T13:53:33.547Z"
   },
   {
    "duration": 3,
    "start_time": "2022-09-27T13:53:37.026Z"
   },
   {
    "duration": 23,
    "start_time": "2022-09-27T13:53:37.031Z"
   },
   {
    "duration": 37,
    "start_time": "2022-09-27T13:53:55.984Z"
   },
   {
    "duration": 38,
    "start_time": "2022-09-27T13:53:58.808Z"
   },
   {
    "duration": 57,
    "start_time": "2022-09-27T13:56:01.759Z"
   },
   {
    "duration": 31,
    "start_time": "2022-09-27T14:00:53.421Z"
   },
   {
    "duration": 184,
    "start_time": "2022-09-27T14:01:17.244Z"
   },
   {
    "duration": 240,
    "start_time": "2022-09-27T14:01:23.472Z"
   },
   {
    "duration": 237,
    "start_time": "2022-09-27T14:02:16.186Z"
   },
   {
    "duration": 97,
    "start_time": "2022-09-27T14:04:35.368Z"
   },
   {
    "duration": 419,
    "start_time": "2022-09-27T14:04:40.895Z"
   },
   {
    "duration": 270,
    "start_time": "2022-09-27T14:04:51.912Z"
   },
   {
    "duration": 217,
    "start_time": "2022-09-27T14:05:55.862Z"
   },
   {
    "duration": 238,
    "start_time": "2022-09-27T14:06:08.099Z"
   },
   {
    "duration": 246,
    "start_time": "2022-09-27T14:06:23.067Z"
   },
   {
    "duration": 45,
    "start_time": "2022-09-27T14:06:30.515Z"
   },
   {
    "duration": 98,
    "start_time": "2022-09-27T14:06:34.744Z"
   },
   {
    "duration": 255,
    "start_time": "2022-09-27T14:06:40.291Z"
   },
   {
    "duration": 43,
    "start_time": "2022-09-27T14:07:55.563Z"
   },
   {
    "duration": 37,
    "start_time": "2022-09-27T14:08:07.615Z"
   },
   {
    "duration": 45,
    "start_time": "2022-09-27T14:08:17.773Z"
   },
   {
    "duration": 231,
    "start_time": "2022-09-27T14:08:52.805Z"
   },
   {
    "duration": 380,
    "start_time": "2022-09-27T14:08:59.614Z"
   },
   {
    "duration": 1226,
    "start_time": "2022-09-27T14:09:08.057Z"
   },
   {
    "duration": 347,
    "start_time": "2022-09-27T14:09:13.910Z"
   },
   {
    "duration": 211,
    "start_time": "2022-09-27T14:09:17.187Z"
   },
   {
    "duration": 5,
    "start_time": "2022-09-27T14:10:16.221Z"
   },
   {
    "duration": 33,
    "start_time": "2022-09-27T14:12:32.765Z"
   },
   {
    "duration": 34,
    "start_time": "2022-09-27T14:13:55.405Z"
   },
   {
    "duration": 2321,
    "start_time": "2022-09-27T14:16:05.459Z"
   },
   {
    "duration": 4,
    "start_time": "2022-09-27T14:16:07.782Z"
   },
   {
    "duration": 21,
    "start_time": "2022-09-27T14:16:09.277Z"
   },
   {
    "duration": 16,
    "start_time": "2022-09-27T14:19:29.758Z"
   },
   {
    "duration": 14,
    "start_time": "2022-09-27T14:20:12.609Z"
   },
   {
    "duration": 11,
    "start_time": "2022-09-27T14:20:46.258Z"
   },
   {
    "duration": 255,
    "start_time": "2022-09-27T14:21:29.962Z"
   },
   {
    "duration": 5,
    "start_time": "2022-09-27T14:21:33.267Z"
   },
   {
    "duration": 22,
    "start_time": "2022-09-27T14:21:35.013Z"
   },
   {
    "duration": 121,
    "start_time": "2022-09-27T14:21:47.246Z"
   },
   {
    "duration": 45,
    "start_time": "2022-09-27T14:22:03.589Z"
   },
   {
    "duration": 37,
    "start_time": "2022-09-27T14:24:02.281Z"
   },
   {
    "duration": 36,
    "start_time": "2022-09-27T14:28:20.585Z"
   },
   {
    "duration": 36,
    "start_time": "2022-09-27T14:29:13.673Z"
   },
   {
    "duration": 23,
    "start_time": "2022-09-27T14:34:02.304Z"
   },
   {
    "duration": 12,
    "start_time": "2022-09-27T14:34:13.883Z"
   },
   {
    "duration": 36,
    "start_time": "2022-09-27T14:34:48.835Z"
   },
   {
    "duration": 1854,
    "start_time": "2022-09-27T14:48:49.686Z"
   },
   {
    "duration": 45,
    "start_time": "2022-09-27T14:48:55.680Z"
   },
   {
    "duration": 7650,
    "start_time": "2022-09-27T14:48:56.671Z"
   },
   {
    "duration": 4,
    "start_time": "2022-09-27T14:49:04.323Z"
   },
   {
    "duration": 12,
    "start_time": "2022-09-27T14:49:04.328Z"
   },
   {
    "duration": 10,
    "start_time": "2022-09-27T14:49:06.296Z"
   },
   {
    "duration": 5,
    "start_time": "2022-09-27T14:49:08.883Z"
   },
   {
    "duration": 2012,
    "start_time": "2022-09-27T14:49:10.586Z"
   },
   {
    "duration": 18,
    "start_time": "2022-09-27T14:49:36.932Z"
   },
   {
    "duration": 259,
    "start_time": "2022-09-27T14:49:39.662Z"
   },
   {
    "duration": 5,
    "start_time": "2022-09-27T14:49:41.973Z"
   },
   {
    "duration": 23,
    "start_time": "2022-09-27T14:49:44.612Z"
   },
   {
    "duration": 36,
    "start_time": "2022-09-27T14:56:06.814Z"
   },
   {
    "duration": 2710,
    "start_time": "2022-09-27T15:14:27.130Z"
   },
   {
    "duration": 468,
    "start_time": "2022-09-28T09:19:35.859Z"
   },
   {
    "duration": 2853,
    "start_time": "2022-09-28T09:19:43.411Z"
   },
   {
    "duration": 53,
    "start_time": "2022-09-28T09:54:22.563Z"
   },
   {
    "duration": 8410,
    "start_time": "2022-09-28T09:54:23.535Z"
   },
   {
    "duration": 6,
    "start_time": "2022-09-28T09:54:31.947Z"
   },
   {
    "duration": 22,
    "start_time": "2022-09-28T09:54:31.955Z"
   },
   {
    "duration": 8,
    "start_time": "2022-09-28T09:54:31.979Z"
   },
   {
    "duration": 9,
    "start_time": "2022-09-28T09:54:49.365Z"
   },
   {
    "duration": 6,
    "start_time": "2022-09-28T09:54:55.688Z"
   },
   {
    "duration": 21,
    "start_time": "2022-09-28T09:55:08.013Z"
   },
   {
    "duration": 290,
    "start_time": "2022-09-28T09:55:09.065Z"
   },
   {
    "duration": 5,
    "start_time": "2022-09-28T09:55:11.094Z"
   },
   {
    "duration": 192,
    "start_time": "2022-09-28T09:55:31.595Z"
   },
   {
    "duration": 256,
    "start_time": "2022-09-28T09:55:41.656Z"
   },
   {
    "duration": 250,
    "start_time": "2022-09-28T09:56:01.999Z"
   },
   {
    "duration": 132,
    "start_time": "2022-09-28T09:56:08.712Z"
   },
   {
    "duration": 189,
    "start_time": "2022-09-28T09:56:12.907Z"
   },
   {
    "duration": 184,
    "start_time": "2022-09-28T09:56:19.745Z"
   },
   {
    "duration": 195,
    "start_time": "2022-09-28T09:56:30.887Z"
   },
   {
    "duration": 134,
    "start_time": "2022-09-28T09:56:41.871Z"
   },
   {
    "duration": 190,
    "start_time": "2022-09-28T09:56:56.661Z"
   },
   {
    "duration": 200,
    "start_time": "2022-09-28T09:57:14.893Z"
   },
   {
    "duration": 195,
    "start_time": "2022-09-28T09:57:20.224Z"
   },
   {
    "duration": 369,
    "start_time": "2022-09-28T09:58:11.240Z"
   },
   {
    "duration": 324,
    "start_time": "2022-09-28T09:58:20.679Z"
   },
   {
    "duration": 218,
    "start_time": "2022-09-28T09:58:56.558Z"
   },
   {
    "duration": 49,
    "start_time": "2022-09-28T10:02:27.085Z"
   },
   {
    "duration": 1145,
    "start_time": "2022-09-28T10:10:56.668Z"
   },
   {
    "duration": 32,
    "start_time": "2022-09-28T10:11:05.346Z"
   },
   {
    "duration": 41,
    "start_time": "2022-09-28T10:12:43.572Z"
   },
   {
    "duration": 48,
    "start_time": "2022-09-28T10:12:56.682Z"
   },
   {
    "duration": 54,
    "start_time": "2022-09-28T10:13:08.575Z"
   },
   {
    "duration": 38,
    "start_time": "2022-09-28T10:15:50.392Z"
   },
   {
    "duration": 30,
    "start_time": "2022-09-28T10:16:09.839Z"
   },
   {
    "duration": 41,
    "start_time": "2022-09-28T10:16:23.966Z"
   },
   {
    "duration": 42,
    "start_time": "2022-09-28T10:16:32.348Z"
   },
   {
    "duration": 40,
    "start_time": "2022-09-28T10:33:29.025Z"
   },
   {
    "duration": 41,
    "start_time": "2022-09-28T10:34:15.560Z"
   },
   {
    "duration": 41,
    "start_time": "2022-09-28T10:34:27.055Z"
   },
   {
    "duration": 42,
    "start_time": "2022-09-28T10:43:03.733Z"
   },
   {
    "duration": 40,
    "start_time": "2022-09-28T10:43:26.732Z"
   },
   {
    "duration": 12,
    "start_time": "2022-09-28T10:43:49.137Z"
   },
   {
    "duration": 14,
    "start_time": "2022-09-28T10:43:58.009Z"
   },
   {
    "duration": 16,
    "start_time": "2022-09-28T10:44:48.854Z"
   },
   {
    "duration": 18,
    "start_time": "2022-09-28T10:52:33.869Z"
   },
   {
    "duration": 27,
    "start_time": "2022-09-28T11:12:51.148Z"
   },
   {
    "duration": 25,
    "start_time": "2022-09-28T11:13:00.327Z"
   },
   {
    "duration": 308,
    "start_time": "2022-09-28T11:26:25.631Z"
   },
   {
    "duration": 25,
    "start_time": "2022-09-28T11:26:44.650Z"
   },
   {
    "duration": 24,
    "start_time": "2022-09-28T11:27:34.378Z"
   },
   {
    "duration": 17,
    "start_time": "2022-09-28T11:28:15.594Z"
   },
   {
    "duration": 28,
    "start_time": "2022-09-28T11:28:31.736Z"
   },
   {
    "duration": 16,
    "start_time": "2022-09-28T11:34:16.996Z"
   },
   {
    "duration": 18,
    "start_time": "2022-09-28T11:34:24.662Z"
   },
   {
    "duration": 31,
    "start_time": "2022-09-28T11:34:50.541Z"
   },
   {
    "duration": 33,
    "start_time": "2022-09-28T11:35:33.797Z"
   },
   {
    "duration": 16,
    "start_time": "2022-09-28T11:35:50.682Z"
   },
   {
    "duration": 37,
    "start_time": "2022-09-28T11:36:11.536Z"
   },
   {
    "duration": 16,
    "start_time": "2022-09-28T11:37:44.164Z"
   },
   {
    "duration": 18,
    "start_time": "2022-09-28T12:13:19.641Z"
   },
   {
    "duration": 34,
    "start_time": "2022-09-28T12:15:33.416Z"
   },
   {
    "duration": 39,
    "start_time": "2022-09-28T12:16:04.559Z"
   },
   {
    "duration": 24,
    "start_time": "2022-09-28T12:16:44.276Z"
   },
   {
    "duration": 26,
    "start_time": "2022-09-28T12:17:02.834Z"
   },
   {
    "duration": 29,
    "start_time": "2022-09-28T12:17:25.991Z"
   },
   {
    "duration": 43,
    "start_time": "2022-09-28T12:21:09.237Z"
   },
   {
    "duration": 50,
    "start_time": "2022-09-28T12:21:17.518Z"
   },
   {
    "duration": 45,
    "start_time": "2022-09-28T12:21:53.919Z"
   },
   {
    "duration": 42,
    "start_time": "2022-09-28T12:22:09.386Z"
   },
   {
    "duration": 45,
    "start_time": "2022-09-28T12:25:14.038Z"
   },
   {
    "duration": 1187,
    "start_time": "2022-09-28T12:25:29.242Z"
   },
   {
    "duration": 879,
    "start_time": "2022-09-28T12:25:38.161Z"
   },
   {
    "duration": 1892,
    "start_time": "2022-09-28T12:25:45.506Z"
   },
   {
    "duration": 30,
    "start_time": "2022-09-28T12:29:52.741Z"
   },
   {
    "duration": 13,
    "start_time": "2022-09-28T12:44:54.901Z"
   },
   {
    "duration": 31,
    "start_time": "2022-09-28T12:44:59.736Z"
   },
   {
    "duration": 20,
    "start_time": "2022-09-29T10:42:53.369Z"
   },
   {
    "duration": 17,
    "start_time": "2022-09-29T10:43:01.314Z"
   },
   {
    "duration": 16,
    "start_time": "2022-09-29T10:43:38.516Z"
   },
   {
    "duration": 14,
    "start_time": "2022-09-29T10:43:58.519Z"
   },
   {
    "duration": 14,
    "start_time": "2022-09-29T10:44:02.292Z"
   },
   {
    "duration": 18,
    "start_time": "2022-09-29T10:45:33.220Z"
   },
   {
    "duration": 2363,
    "start_time": "2022-09-29T10:47:00.207Z"
   },
   {
    "duration": 55,
    "start_time": "2022-09-29T10:47:03.063Z"
   },
   {
    "duration": 5,
    "start_time": "2022-09-29T10:47:06.013Z"
   },
   {
    "duration": 17,
    "start_time": "2022-09-29T10:47:07.936Z"
   },
   {
    "duration": 7,
    "start_time": "2022-09-29T10:47:09.692Z"
   },
   {
    "duration": 9,
    "start_time": "2022-09-29T10:47:11.763Z"
   },
   {
    "duration": 8256,
    "start_time": "2022-09-29T10:47:17.371Z"
   },
   {
    "duration": 12,
    "start_time": "2022-09-29T10:47:25.629Z"
   },
   {
    "duration": 20,
    "start_time": "2022-09-29T10:47:25.643Z"
   },
   {
    "duration": 6,
    "start_time": "2022-09-29T10:47:25.665Z"
   },
   {
    "duration": 11,
    "start_time": "2022-09-29T10:47:25.673Z"
   },
   {
    "duration": 6,
    "start_time": "2022-09-29T10:47:29.391Z"
   },
   {
    "duration": 22,
    "start_time": "2022-09-29T10:47:30.191Z"
   },
   {
    "duration": 293,
    "start_time": "2022-09-29T10:47:31.004Z"
   },
   {
    "duration": 5,
    "start_time": "2022-09-29T10:47:32.008Z"
   },
   {
    "duration": 26,
    "start_time": "2022-09-29T10:47:34.622Z"
   },
   {
    "duration": 399,
    "start_time": "2022-09-29T10:47:47.360Z"
   },
   {
    "duration": 220,
    "start_time": "2022-09-29T10:47:52.009Z"
   },
   {
    "duration": 35,
    "start_time": "2022-09-29T10:47:55.555Z"
   },
   {
    "duration": 28,
    "start_time": "2022-09-29T10:48:04.799Z"
   },
   {
    "duration": 27,
    "start_time": "2022-09-29T10:49:33.919Z"
   },
   {
    "duration": 26,
    "start_time": "2022-09-29T10:49:48.972Z"
   },
   {
    "duration": 24,
    "start_time": "2022-09-29T10:50:34.676Z"
   },
   {
    "duration": 27,
    "start_time": "2022-09-29T10:50:39.216Z"
   },
   {
    "duration": 41,
    "start_time": "2022-09-29T10:52:15.523Z"
   },
   {
    "duration": 2212,
    "start_time": "2022-09-29T10:58:24.969Z"
   },
   {
    "duration": 71,
    "start_time": "2022-09-29T10:58:27.184Z"
   },
   {
    "duration": 8472,
    "start_time": "2022-09-29T10:58:28.501Z"
   },
   {
    "duration": 5,
    "start_time": "2022-09-29T10:58:36.975Z"
   },
   {
    "duration": 16,
    "start_time": "2022-09-29T10:58:36.981Z"
   },
   {
    "duration": 7,
    "start_time": "2022-09-29T10:58:36.999Z"
   },
   {
    "duration": 8,
    "start_time": "2022-09-29T10:58:40.084Z"
   },
   {
    "duration": 5,
    "start_time": "2022-09-29T10:58:43.519Z"
   },
   {
    "duration": 24,
    "start_time": "2022-09-29T10:58:44.442Z"
   },
   {
    "duration": 294,
    "start_time": "2022-09-29T10:58:45.355Z"
   },
   {
    "duration": 4,
    "start_time": "2022-09-29T10:58:46.244Z"
   },
   {
    "duration": 26,
    "start_time": "2022-09-29T10:58:48.599Z"
   },
   {
    "duration": 44,
    "start_time": "2022-09-29T10:58:58.485Z"
   },
   {
    "duration": 39,
    "start_time": "2022-09-29T10:59:05.466Z"
   },
   {
    "duration": 29,
    "start_time": "2022-09-29T10:59:08.006Z"
   },
   {
    "duration": 37,
    "start_time": "2022-09-29T11:01:48.965Z"
   },
   {
    "duration": 28,
    "start_time": "2022-09-29T11:02:24.043Z"
   },
   {
    "duration": 27,
    "start_time": "2022-09-29T11:03:26.618Z"
   },
   {
    "duration": 36,
    "start_time": "2022-09-29T11:03:47.276Z"
   },
   {
    "duration": 29,
    "start_time": "2022-09-29T11:04:07.403Z"
   },
   {
    "duration": 28,
    "start_time": "2022-09-29T11:04:27.377Z"
   },
   {
    "duration": 271,
    "start_time": "2022-09-29T11:06:23.123Z"
   },
   {
    "duration": 23,
    "start_time": "2022-09-29T11:06:36.545Z"
   },
   {
    "duration": 27,
    "start_time": "2022-09-29T11:06:44.441Z"
   },
   {
    "duration": 29,
    "start_time": "2022-09-29T11:07:32.603Z"
   },
   {
    "duration": 30,
    "start_time": "2022-09-29T11:07:48.206Z"
   },
   {
    "duration": 36,
    "start_time": "2022-09-29T11:09:04.538Z"
   },
   {
    "duration": 37,
    "start_time": "2022-09-29T11:09:33.716Z"
   },
   {
    "duration": 34,
    "start_time": "2022-09-29T11:09:44.867Z"
   },
   {
    "duration": 43,
    "start_time": "2022-09-29T11:10:06.599Z"
   },
   {
    "duration": 38,
    "start_time": "2022-09-29T11:11:40.795Z"
   },
   {
    "duration": 42,
    "start_time": "2022-09-29T11:11:48.467Z"
   },
   {
    "duration": 14,
    "start_time": "2022-09-29T11:14:18.599Z"
   },
   {
    "duration": 17,
    "start_time": "2022-09-29T11:14:23.797Z"
   },
   {
    "duration": 23,
    "start_time": "2022-09-29T11:14:34.747Z"
   },
   {
    "duration": 607,
    "start_time": "2022-09-29T11:15:04.223Z"
   },
   {
    "duration": 323,
    "start_time": "2022-09-29T11:15:18.744Z"
   },
   {
    "duration": 321,
    "start_time": "2022-09-29T11:19:38.317Z"
   },
   {
    "duration": 227,
    "start_time": "2022-09-29T11:20:07.174Z"
   },
   {
    "duration": 16,
    "start_time": "2022-09-29T11:20:12.700Z"
   },
   {
    "duration": 17,
    "start_time": "2022-09-29T11:20:23.351Z"
   },
   {
    "duration": 196,
    "start_time": "2022-09-29T11:20:30.538Z"
   },
   {
    "duration": 21,
    "start_time": "2022-09-29T11:22:48.353Z"
   },
   {
    "duration": 190,
    "start_time": "2022-09-29T11:22:55.205Z"
   },
   {
    "duration": 19,
    "start_time": "2022-09-29T11:23:30.549Z"
   },
   {
    "duration": 46,
    "start_time": "2022-09-29T11:25:55.282Z"
   },
   {
    "duration": 50,
    "start_time": "2022-09-29T11:26:04.135Z"
   },
   {
    "duration": 36,
    "start_time": "2022-09-29T11:26:59.552Z"
   },
   {
    "duration": 195,
    "start_time": "2022-09-29T11:27:20.797Z"
   },
   {
    "duration": 259,
    "start_time": "2022-09-29T11:27:57.104Z"
   },
   {
    "duration": 191,
    "start_time": "2022-09-29T11:28:08.758Z"
   },
   {
    "duration": 7,
    "start_time": "2022-09-29T11:29:03.965Z"
   },
   {
    "duration": 10,
    "start_time": "2022-09-29T11:29:11.290Z"
   },
   {
    "duration": 172,
    "start_time": "2022-09-29T11:30:35.588Z"
   },
   {
    "duration": 186,
    "start_time": "2022-09-29T11:55:52.749Z"
   },
   {
    "duration": 158,
    "start_time": "2022-09-29T11:55:55.263Z"
   },
   {
    "duration": 2597,
    "start_time": "2022-09-29T12:14:03.624Z"
   },
   {
    "duration": 49,
    "start_time": "2022-09-29T12:14:06.223Z"
   },
   {
    "duration": 6484,
    "start_time": "2022-09-29T12:14:06.274Z"
   },
   {
    "duration": 5,
    "start_time": "2022-09-29T12:14:12.760Z"
   },
   {
    "duration": 18,
    "start_time": "2022-09-29T12:14:12.766Z"
   },
   {
    "duration": 24,
    "start_time": "2022-09-29T12:14:12.786Z"
   },
   {
    "duration": 11,
    "start_time": "2022-09-29T12:14:12.812Z"
   },
   {
    "duration": 6,
    "start_time": "2022-09-29T12:14:12.825Z"
   },
   {
    "duration": 30,
    "start_time": "2022-09-29T12:14:12.833Z"
   },
   {
    "duration": 386,
    "start_time": "2022-09-29T12:14:12.867Z"
   },
   {
    "duration": 5,
    "start_time": "2022-09-29T12:14:13.256Z"
   },
   {
    "duration": 46,
    "start_time": "2022-09-29T12:14:13.264Z"
   },
   {
    "duration": 207,
    "start_time": "2022-09-29T12:14:13.312Z"
   },
   {
    "duration": 228,
    "start_time": "2022-09-29T12:14:13.522Z"
   },
   {
    "duration": 287,
    "start_time": "2022-09-29T12:14:13.752Z"
   },
   {
    "duration": 213,
    "start_time": "2022-09-29T12:14:14.041Z"
   },
   {
    "duration": 185,
    "start_time": "2022-09-29T12:14:14.256Z"
   },
   {
    "duration": 178,
    "start_time": "2022-09-29T12:14:14.442Z"
   },
   {
    "duration": 142,
    "start_time": "2022-09-29T12:14:14.621Z"
   },
   {
    "duration": 193,
    "start_time": "2022-09-29T12:14:14.765Z"
   },
   {
    "duration": 173,
    "start_time": "2022-09-29T12:14:14.960Z"
   },
   {
    "duration": 295,
    "start_time": "2022-09-29T12:14:15.134Z"
   },
   {
    "duration": 201,
    "start_time": "2022-09-29T12:14:15.430Z"
   },
   {
    "duration": 33,
    "start_time": "2022-09-29T12:14:15.633Z"
   },
   {
    "duration": 65,
    "start_time": "2022-09-29T12:14:15.668Z"
   },
   {
    "duration": 0,
    "start_time": "2022-09-29T12:14:15.735Z"
   },
   {
    "duration": 0,
    "start_time": "2022-09-29T12:14:15.736Z"
   },
   {
    "duration": 0,
    "start_time": "2022-09-29T12:14:15.737Z"
   },
   {
    "duration": 16,
    "start_time": "2022-09-29T12:23:28.721Z"
   },
   {
    "duration": 123,
    "start_time": "2022-09-29T12:35:03.400Z"
   },
   {
    "duration": 22,
    "start_time": "2022-09-29T12:35:03.925Z"
   },
   {
    "duration": 6,
    "start_time": "2022-09-29T12:35:04.240Z"
   },
   {
    "duration": 156,
    "start_time": "2022-09-29T12:35:04.408Z"
   },
   {
    "duration": 2123,
    "start_time": "2022-09-30T10:06:11.720Z"
   },
   {
    "duration": 2504,
    "start_time": "2022-09-30T10:08:17.284Z"
   },
   {
    "duration": 14,
    "start_time": "2022-09-30T10:56:30.609Z"
   },
   {
    "duration": 15,
    "start_time": "2022-09-30T11:01:48.875Z"
   },
   {
    "duration": 2615,
    "start_time": "2022-09-30T11:01:57.146Z"
   },
   {
    "duration": 53,
    "start_time": "2022-09-30T11:02:01.359Z"
   },
   {
    "duration": 8760,
    "start_time": "2022-09-30T11:02:04.184Z"
   },
   {
    "duration": 6,
    "start_time": "2022-09-30T11:02:12.946Z"
   },
   {
    "duration": 23,
    "start_time": "2022-09-30T11:02:12.954Z"
   },
   {
    "duration": 8,
    "start_time": "2022-09-30T11:02:12.980Z"
   },
   {
    "duration": 18,
    "start_time": "2022-09-30T11:02:12.989Z"
   },
   {
    "duration": 4,
    "start_time": "2022-09-30T11:02:40.805Z"
   },
   {
    "duration": 289,
    "start_time": "2022-09-30T11:02:52.012Z"
   },
   {
    "duration": 25,
    "start_time": "2022-09-30T11:12:15.975Z"
   },
   {
    "duration": 27,
    "start_time": "2022-09-30T11:12:33.413Z"
   },
   {
    "duration": 25,
    "start_time": "2022-09-30T11:12:38.975Z"
   },
   {
    "duration": 59,
    "start_time": "2022-09-30T11:13:17.623Z"
   },
   {
    "duration": 50,
    "start_time": "2022-09-30T11:18:45.910Z"
   },
   {
    "duration": 53,
    "start_time": "2022-09-30T11:19:30.811Z"
   },
   {
    "duration": 213,
    "start_time": "2022-09-30T11:21:57.521Z"
   },
   {
    "duration": 214,
    "start_time": "2022-09-30T11:22:10.918Z"
   },
   {
    "duration": 199,
    "start_time": "2022-09-30T11:22:18.319Z"
   },
   {
    "duration": 187,
    "start_time": "2022-09-30T11:22:30.507Z"
   },
   {
    "duration": 207,
    "start_time": "2022-09-30T11:28:30.858Z"
   },
   {
    "duration": 337,
    "start_time": "2022-09-30T11:28:41.458Z"
   },
   {
    "duration": 267,
    "start_time": "2022-09-30T11:28:58.974Z"
   },
   {
    "duration": 55,
    "start_time": "2022-09-30T11:31:19.119Z"
   },
   {
    "duration": 399,
    "start_time": "2022-09-30T11:32:51.807Z"
   },
   {
    "duration": 194,
    "start_time": "2022-09-30T11:36:47.662Z"
   },
   {
    "duration": 197,
    "start_time": "2022-09-30T11:36:55.266Z"
   },
   {
    "duration": 1521,
    "start_time": "2022-09-30T11:41:53.958Z"
   },
   {
    "duration": 2288,
    "start_time": "2022-09-30T11:42:08.014Z"
   },
   {
    "duration": 173,
    "start_time": "2022-09-30T11:42:10.304Z"
   },
   {
    "duration": 61,
    "start_time": "2022-09-30T11:42:13.521Z"
   },
   {
    "duration": 8764,
    "start_time": "2022-09-30T11:42:19.919Z"
   },
   {
    "duration": 5,
    "start_time": "2022-09-30T11:42:28.686Z"
   },
   {
    "duration": 23,
    "start_time": "2022-09-30T11:42:28.693Z"
   },
   {
    "duration": 33,
    "start_time": "2022-09-30T11:42:28.718Z"
   },
   {
    "duration": 57,
    "start_time": "2022-09-30T11:42:28.753Z"
   },
   {
    "duration": 5,
    "start_time": "2022-09-30T11:42:30.554Z"
   },
   {
    "duration": 28,
    "start_time": "2022-09-30T11:42:31.937Z"
   },
   {
    "duration": 8,
    "start_time": "2022-09-30T11:42:34.110Z"
   },
   {
    "duration": 6,
    "start_time": "2022-09-30T11:42:37.703Z"
   },
   {
    "duration": 22,
    "start_time": "2022-09-30T11:42:39.576Z"
   },
   {
    "duration": 348,
    "start_time": "2022-09-30T11:42:41.034Z"
   },
   {
    "duration": 6,
    "start_time": "2022-09-30T11:42:41.688Z"
   },
   {
    "duration": 29,
    "start_time": "2022-09-30T11:42:43.632Z"
   },
   {
    "duration": 204,
    "start_time": "2022-09-30T11:43:54.215Z"
   },
   {
    "duration": 1010,
    "start_time": "2022-09-30T11:44:08.521Z"
   },
   {
    "duration": 220,
    "start_time": "2022-09-30T11:44:16.696Z"
   },
   {
    "duration": 222,
    "start_time": "2022-09-30T11:44:26.895Z"
   },
   {
    "duration": 223,
    "start_time": "2022-09-30T11:44:38.461Z"
   },
   {
    "duration": 221,
    "start_time": "2022-09-30T11:44:56.331Z"
   },
   {
    "duration": 323,
    "start_time": "2022-09-30T11:46:35.936Z"
   },
   {
    "duration": 238,
    "start_time": "2022-09-30T11:46:53.259Z"
   },
   {
    "duration": 252,
    "start_time": "2022-09-30T11:48:08.330Z"
   },
   {
    "duration": 83,
    "start_time": "2022-09-30T11:48:48.203Z"
   },
   {
    "duration": 313,
    "start_time": "2022-09-30T11:48:53.573Z"
   },
   {
    "duration": 36,
    "start_time": "2022-09-30T12:27:10.912Z"
   },
   {
    "duration": 176,
    "start_time": "2022-09-30T12:27:48.217Z"
   },
   {
    "duration": 2851,
    "start_time": "2022-10-24T17:24:10.153Z"
   },
   {
    "duration": 51,
    "start_time": "2022-10-24T17:24:13.039Z"
   },
   {
    "duration": 49,
    "start_time": "2022-10-24T17:24:21.141Z"
   },
   {
    "duration": 6735,
    "start_time": "2022-10-24T17:24:31.137Z"
   },
   {
    "duration": 4,
    "start_time": "2022-10-24T17:24:46.082Z"
   },
   {
    "duration": 18,
    "start_time": "2022-10-24T17:24:49.351Z"
   },
   {
    "duration": 7,
    "start_time": "2022-10-24T17:24:51.358Z"
   },
   {
    "duration": 67,
    "start_time": "2022-10-24T17:24:54.029Z"
   },
   {
    "duration": 4,
    "start_time": "2022-10-24T17:24:58.737Z"
   },
   {
    "duration": 3,
    "start_time": "2022-10-24T17:34:38.036Z"
   },
   {
    "duration": 24,
    "start_time": "2022-10-24T17:34:38.407Z"
   },
   {
    "duration": 8,
    "start_time": "2022-10-24T17:34:41.770Z"
   },
   {
    "duration": 4,
    "start_time": "2022-10-24T17:35:55.709Z"
   },
   {
    "duration": 5,
    "start_time": "2022-10-24T17:36:30.494Z"
   },
   {
    "duration": 17,
    "start_time": "2022-10-24T17:36:30.902Z"
   },
   {
    "duration": 307,
    "start_time": "2022-10-24T17:36:36.538Z"
   },
   {
    "duration": 4,
    "start_time": "2022-10-24T17:36:38.123Z"
   },
   {
    "duration": 23,
    "start_time": "2022-10-24T17:36:41.080Z"
   },
   {
    "duration": 56,
    "start_time": "2022-10-24T17:36:47.252Z"
   },
   {
    "duration": 177,
    "start_time": "2022-10-24T17:37:03.097Z"
   },
   {
    "duration": 151,
    "start_time": "2022-10-24T17:37:06.306Z"
   },
   {
    "duration": 232,
    "start_time": "2022-10-24T17:37:08.825Z"
   },
   {
    "duration": 186,
    "start_time": "2022-10-24T17:37:11.390Z"
   },
   {
    "duration": 198,
    "start_time": "2022-10-24T17:37:14.492Z"
   },
   {
    "duration": 103,
    "start_time": "2022-10-24T17:37:19.668Z"
   },
   {
    "duration": 165,
    "start_time": "2022-10-24T17:37:22.730Z"
   },
   {
    "duration": 169,
    "start_time": "2022-10-24T17:37:26.367Z"
   },
   {
    "duration": 196,
    "start_time": "2022-10-24T17:37:29.857Z"
   },
   {
    "duration": 411,
    "start_time": "2022-10-24T17:39:15.965Z"
   },
   {
    "duration": 188,
    "start_time": "2022-10-24T17:39:27.868Z"
   },
   {
    "duration": 34,
    "start_time": "2022-10-24T17:48:25.364Z"
   },
   {
    "duration": 152,
    "start_time": "2022-10-24T17:58:22.510Z"
   },
   {
    "duration": 950,
    "start_time": "2022-10-24T18:03:09.476Z"
   },
   {
    "duration": 826,
    "start_time": "2022-10-24T18:03:26.454Z"
   },
   {
    "duration": 785,
    "start_time": "2022-10-24T18:03:50.978Z"
   },
   {
    "duration": 971,
    "start_time": "2022-10-24T18:04:17.003Z"
   },
   {
    "duration": 140,
    "start_time": "2022-10-24T18:04:42.252Z"
   },
   {
    "duration": 2523,
    "start_time": "2022-10-24T18:05:00.565Z"
   },
   {
    "duration": 70,
    "start_time": "2022-10-24T18:05:03.090Z"
   },
   {
    "duration": 0,
    "start_time": "2022-10-24T18:05:03.162Z"
   },
   {
    "duration": 0,
    "start_time": "2022-10-24T18:05:03.164Z"
   },
   {
    "duration": 5,
    "start_time": "2022-10-24T18:05:03.520Z"
   },
   {
    "duration": 17,
    "start_time": "2022-10-24T18:05:03.707Z"
   },
   {
    "duration": 6,
    "start_time": "2022-10-24T18:05:03.948Z"
   },
   {
    "duration": 56,
    "start_time": "2022-10-24T18:05:04.297Z"
   },
   {
    "duration": 5,
    "start_time": "2022-10-24T18:05:04.705Z"
   },
   {
    "duration": 30,
    "start_time": "2022-10-24T18:05:04.900Z"
   },
   {
    "duration": 10,
    "start_time": "2022-10-24T18:05:05.301Z"
   },
   {
    "duration": 7,
    "start_time": "2022-10-24T18:05:06.548Z"
   },
   {
    "duration": 82,
    "start_time": "2022-10-24T18:05:06.744Z"
   },
   {
    "duration": 263,
    "start_time": "2022-10-24T18:05:07.163Z"
   },
   {
    "duration": 6,
    "start_time": "2022-10-24T18:05:07.427Z"
   },
   {
    "duration": 25,
    "start_time": "2022-10-24T18:05:07.808Z"
   },
   {
    "duration": 47,
    "start_time": "2022-10-24T18:05:08.657Z"
   },
   {
    "duration": 164,
    "start_time": "2022-10-24T18:05:08.879Z"
   },
   {
    "duration": 166,
    "start_time": "2022-10-24T18:05:10.011Z"
   },
   {
    "duration": 153,
    "start_time": "2022-10-24T18:05:10.450Z"
   },
   {
    "duration": 167,
    "start_time": "2022-10-24T18:05:10.889Z"
   },
   {
    "duration": 176,
    "start_time": "2022-10-24T18:05:11.121Z"
   },
   {
    "duration": 249,
    "start_time": "2022-10-24T18:05:11.553Z"
   },
   {
    "duration": 121,
    "start_time": "2022-10-24T18:05:12.021Z"
   },
   {
    "duration": 178,
    "start_time": "2022-10-24T18:05:12.469Z"
   },
   {
    "duration": 165,
    "start_time": "2022-10-24T18:05:12.921Z"
   },
   {
    "duration": 46,
    "start_time": "2022-10-24T18:05:13.356Z"
   },
   {
    "duration": 684,
    "start_time": "2022-10-24T18:05:13.572Z"
   },
   {
    "duration": 0,
    "start_time": "2022-10-24T18:05:14.258Z"
   },
   {
    "duration": 0,
    "start_time": "2022-10-24T18:05:14.259Z"
   },
   {
    "duration": 143,
    "start_time": "2022-10-24T18:05:17.725Z"
   },
   {
    "duration": 157,
    "start_time": "2022-10-24T18:05:28.707Z"
   },
   {
    "duration": 216,
    "start_time": "2022-10-24T18:05:43.613Z"
   },
   {
    "duration": 36,
    "start_time": "2022-10-24T18:05:49.340Z"
   },
   {
    "duration": 2611,
    "start_time": "2022-10-25T09:52:22.329Z"
   },
   {
    "duration": 46,
    "start_time": "2022-10-25T09:52:24.943Z"
   },
   {
    "duration": 0,
    "start_time": "2022-10-25T09:52:24.991Z"
   },
   {
    "duration": 0,
    "start_time": "2022-10-25T09:52:24.993Z"
   },
   {
    "duration": 5,
    "start_time": "2022-10-25T09:52:25.225Z"
   },
   {
    "duration": 17,
    "start_time": "2022-10-25T09:52:25.349Z"
   },
   {
    "duration": 5,
    "start_time": "2022-10-25T09:52:25.565Z"
   },
   {
    "duration": 45,
    "start_time": "2022-10-25T09:52:25.946Z"
   },
   {
    "duration": 4,
    "start_time": "2022-10-25T09:52:26.340Z"
   },
   {
    "duration": 27,
    "start_time": "2022-10-25T09:52:26.551Z"
   },
   {
    "duration": 9,
    "start_time": "2022-10-25T09:52:26.975Z"
   },
   {
    "duration": 9,
    "start_time": "2022-10-25T09:52:32.362Z"
   },
   {
    "duration": 4,
    "start_time": "2022-10-25T09:52:33.517Z"
   },
   {
    "duration": 85,
    "start_time": "2022-10-25T09:52:33.716Z"
   },
   {
    "duration": 221,
    "start_time": "2022-10-25T09:52:34.100Z"
   },
   {
    "duration": 4,
    "start_time": "2022-10-25T09:52:34.867Z"
   },
   {
    "duration": 23,
    "start_time": "2022-10-25T09:52:35.293Z"
   },
   {
    "duration": 48,
    "start_time": "2022-10-25T09:52:36.364Z"
   },
   {
    "duration": 160,
    "start_time": "2022-10-25T09:52:38.274Z"
   },
   {
    "duration": 170,
    "start_time": "2022-10-25T09:52:39.270Z"
   },
   {
    "duration": 149,
    "start_time": "2022-10-25T09:52:40.211Z"
   },
   {
    "duration": 161,
    "start_time": "2022-10-25T09:52:40.744Z"
   },
   {
    "duration": 175,
    "start_time": "2022-10-25T09:52:40.943Z"
   },
   {
    "duration": 235,
    "start_time": "2022-10-25T09:52:41.374Z"
   },
   {
    "duration": 110,
    "start_time": "2022-10-25T09:52:41.779Z"
   },
   {
    "duration": 160,
    "start_time": "2022-10-25T09:52:42.227Z"
   },
   {
    "duration": 183,
    "start_time": "2022-10-25T09:52:42.710Z"
   },
   {
    "duration": 41,
    "start_time": "2022-10-25T09:52:43.171Z"
   },
   {
    "duration": 859,
    "start_time": "2022-10-25T09:52:43.449Z"
   },
   {
    "duration": 797,
    "start_time": "2022-10-25T09:52:48.167Z"
   },
   {
    "duration": 10,
    "start_time": "2022-10-25T09:53:13.170Z"
   },
   {
    "duration": 10,
    "start_time": "2022-10-25T09:53:39.288Z"
   },
   {
    "duration": 738,
    "start_time": "2022-10-25T09:54:32.406Z"
   },
   {
    "duration": 1391,
    "start_time": "2022-10-25T09:54:36.155Z"
   },
   {
    "duration": 727,
    "start_time": "2022-10-25T09:54:38.213Z"
   },
   {
    "duration": 341,
    "start_time": "2022-10-25T09:54:48.550Z"
   },
   {
    "duration": 2526,
    "start_time": "2022-10-25T10:05:49.946Z"
   },
   {
    "duration": 71,
    "start_time": "2022-10-25T10:05:52.475Z"
   },
   {
    "duration": 0,
    "start_time": "2022-10-25T10:05:52.548Z"
   },
   {
    "duration": 0,
    "start_time": "2022-10-25T10:05:52.549Z"
   },
   {
    "duration": 5,
    "start_time": "2022-10-25T10:05:53.090Z"
   },
   {
    "duration": 19,
    "start_time": "2022-10-25T10:05:53.301Z"
   },
   {
    "duration": 7,
    "start_time": "2022-10-25T10:05:53.877Z"
   },
   {
    "duration": 71,
    "start_time": "2022-10-25T10:05:54.986Z"
   },
   {
    "duration": 5,
    "start_time": "2022-10-25T10:05:56.028Z"
   },
   {
    "duration": 25,
    "start_time": "2022-10-25T10:05:56.800Z"
   },
   {
    "duration": 9,
    "start_time": "2022-10-25T10:05:57.581Z"
   },
   {
    "duration": 5,
    "start_time": "2022-10-25T10:05:59.691Z"
   },
   {
    "duration": 81,
    "start_time": "2022-10-25T10:06:02.322Z"
   },
   {
    "duration": 11,
    "start_time": "2022-10-25T10:06:34.093Z"
   },
   {
    "duration": 10,
    "start_time": "2022-10-25T10:06:51.789Z"
   },
   {
    "duration": 50,
    "start_time": "2022-10-25T10:07:13.911Z"
   },
   {
    "duration": 37,
    "start_time": "2022-10-25T10:09:13.081Z"
   },
   {
    "duration": 288,
    "start_time": "2022-10-25T10:10:31.112Z"
   },
   {
    "duration": 114,
    "start_time": "2022-10-25T10:10:47.529Z"
   },
   {
    "duration": 1084,
    "start_time": "2022-10-25T10:11:13.851Z"
   },
   {
    "duration": 186,
    "start_time": "2022-10-25T10:11:19.318Z"
   },
   {
    "duration": 1615,
    "start_time": "2022-10-25T10:11:46.066Z"
   },
   {
    "duration": 159,
    "start_time": "2022-10-25T10:29:08.782Z"
   },
   {
    "duration": 150,
    "start_time": "2022-10-25T10:29:19.171Z"
   },
   {
    "duration": 154,
    "start_time": "2022-10-25T10:31:24.052Z"
   },
   {
    "duration": 891,
    "start_time": "2022-10-25T10:36:27.060Z"
   },
   {
    "duration": 144,
    "start_time": "2022-10-25T10:41:29.189Z"
   },
   {
    "duration": 154,
    "start_time": "2022-10-25T10:41:32.074Z"
   },
   {
    "duration": 50,
    "start_time": "2022-10-25T10:48:00.178Z"
   },
   {
    "duration": 8,
    "start_time": "2022-10-25T11:08:00.053Z"
   },
   {
    "duration": 4,
    "start_time": "2022-10-25T11:09:23.854Z"
   },
   {
    "duration": 661,
    "start_time": "2022-10-25T11:09:58.554Z"
   },
   {
    "duration": 275,
    "start_time": "2022-10-25T11:11:56.464Z"
   },
   {
    "duration": 205,
    "start_time": "2022-10-25T11:13:41.257Z"
   },
   {
    "duration": 7,
    "start_time": "2022-10-25T11:14:36.817Z"
   },
   {
    "duration": 674,
    "start_time": "2022-10-25T11:17:32.051Z"
   },
   {
    "duration": 711,
    "start_time": "2022-10-25T11:17:55.171Z"
   },
   {
    "duration": 189,
    "start_time": "2022-10-25T11:18:39.458Z"
   },
   {
    "duration": 179,
    "start_time": "2022-10-25T11:18:43.467Z"
   },
   {
    "duration": 237,
    "start_time": "2022-10-25T11:18:48.974Z"
   },
   {
    "duration": 66,
    "start_time": "2022-10-25T11:28:18.551Z"
   },
   {
    "duration": 59,
    "start_time": "2022-10-25T11:29:31.204Z"
   },
   {
    "duration": 73,
    "start_time": "2022-10-25T16:13:15.632Z"
   },
   {
    "duration": 0,
    "start_time": "2022-10-25T16:13:15.709Z"
   },
   {
    "duration": 0,
    "start_time": "2022-10-25T16:13:15.710Z"
   },
   {
    "duration": 0,
    "start_time": "2022-10-25T16:13:15.711Z"
   },
   {
    "duration": 0,
    "start_time": "2022-10-25T16:13:15.713Z"
   },
   {
    "duration": 0,
    "start_time": "2022-10-25T16:13:15.714Z"
   },
   {
    "duration": 0,
    "start_time": "2022-10-25T16:13:15.716Z"
   },
   {
    "duration": 0,
    "start_time": "2022-10-25T16:13:15.717Z"
   },
   {
    "duration": 0,
    "start_time": "2022-10-25T16:13:15.719Z"
   },
   {
    "duration": 0,
    "start_time": "2022-10-25T16:13:15.720Z"
   },
   {
    "duration": 0,
    "start_time": "2022-10-25T16:13:15.721Z"
   },
   {
    "duration": 0,
    "start_time": "2022-10-25T16:13:15.723Z"
   },
   {
    "duration": 0,
    "start_time": "2022-10-25T16:13:15.724Z"
   },
   {
    "duration": 0,
    "start_time": "2022-10-25T16:13:15.726Z"
   },
   {
    "duration": 0,
    "start_time": "2022-10-25T16:13:15.727Z"
   },
   {
    "duration": 0,
    "start_time": "2022-10-25T16:13:15.728Z"
   },
   {
    "duration": 0,
    "start_time": "2022-10-25T16:13:15.730Z"
   },
   {
    "duration": 0,
    "start_time": "2022-10-25T16:13:15.731Z"
   },
   {
    "duration": 0,
    "start_time": "2022-10-25T16:13:15.732Z"
   },
   {
    "duration": 0,
    "start_time": "2022-10-25T16:13:15.734Z"
   },
   {
    "duration": 0,
    "start_time": "2022-10-25T16:13:15.734Z"
   },
   {
    "duration": 0,
    "start_time": "2022-10-25T16:13:15.736Z"
   },
   {
    "duration": 0,
    "start_time": "2022-10-25T16:13:15.737Z"
   },
   {
    "duration": 0,
    "start_time": "2022-10-25T16:13:15.739Z"
   },
   {
    "duration": 0,
    "start_time": "2022-10-25T16:13:15.741Z"
   },
   {
    "duration": 0,
    "start_time": "2022-10-25T16:13:15.742Z"
   },
   {
    "duration": 0,
    "start_time": "2022-10-25T16:13:15.744Z"
   },
   {
    "duration": 0,
    "start_time": "2022-10-25T16:13:15.745Z"
   },
   {
    "duration": 0,
    "start_time": "2022-10-25T16:13:15.776Z"
   },
   {
    "duration": 0,
    "start_time": "2022-10-25T16:13:15.778Z"
   },
   {
    "duration": 0,
    "start_time": "2022-10-25T16:13:15.782Z"
   },
   {
    "duration": 0,
    "start_time": "2022-10-25T16:13:15.784Z"
   },
   {
    "duration": 0,
    "start_time": "2022-10-25T16:13:15.785Z"
   },
   {
    "duration": 0,
    "start_time": "2022-10-25T16:13:15.787Z"
   },
   {
    "duration": 0,
    "start_time": "2022-10-25T16:13:15.788Z"
   },
   {
    "duration": 0,
    "start_time": "2022-10-25T16:13:15.789Z"
   },
   {
    "duration": 0,
    "start_time": "2022-10-25T16:13:15.790Z"
   },
   {
    "duration": 0,
    "start_time": "2022-10-25T16:13:15.792Z"
   },
   {
    "duration": 0,
    "start_time": "2022-10-25T16:13:15.793Z"
   },
   {
    "duration": 0,
    "start_time": "2022-10-25T16:13:15.795Z"
   },
   {
    "duration": 2797,
    "start_time": "2022-10-25T16:14:26.970Z"
   },
   {
    "duration": 66,
    "start_time": "2022-10-25T16:14:29.770Z"
   },
   {
    "duration": 0,
    "start_time": "2022-10-25T16:14:29.840Z"
   },
   {
    "duration": 0,
    "start_time": "2022-10-25T16:14:29.842Z"
   },
   {
    "duration": 0,
    "start_time": "2022-10-25T16:14:29.843Z"
   },
   {
    "duration": 0,
    "start_time": "2022-10-25T16:14:29.845Z"
   },
   {
    "duration": 0,
    "start_time": "2022-10-25T16:14:29.847Z"
   },
   {
    "duration": 0,
    "start_time": "2022-10-25T16:14:29.848Z"
   },
   {
    "duration": 0,
    "start_time": "2022-10-25T16:14:29.850Z"
   },
   {
    "duration": 0,
    "start_time": "2022-10-25T16:14:29.851Z"
   },
   {
    "duration": 0,
    "start_time": "2022-10-25T16:14:29.852Z"
   },
   {
    "duration": 0,
    "start_time": "2022-10-25T16:14:29.854Z"
   },
   {
    "duration": 0,
    "start_time": "2022-10-25T16:14:29.855Z"
   },
   {
    "duration": 0,
    "start_time": "2022-10-25T16:14:29.857Z"
   },
   {
    "duration": 0,
    "start_time": "2022-10-25T16:14:29.858Z"
   },
   {
    "duration": 0,
    "start_time": "2022-10-25T16:14:29.859Z"
   },
   {
    "duration": 0,
    "start_time": "2022-10-25T16:14:29.860Z"
   },
   {
    "duration": 0,
    "start_time": "2022-10-25T16:14:29.861Z"
   },
   {
    "duration": 0,
    "start_time": "2022-10-25T16:14:29.862Z"
   },
   {
    "duration": 0,
    "start_time": "2022-10-25T16:14:29.863Z"
   },
   {
    "duration": 0,
    "start_time": "2022-10-25T16:14:29.864Z"
   },
   {
    "duration": 0,
    "start_time": "2022-10-25T16:14:29.865Z"
   },
   {
    "duration": 0,
    "start_time": "2022-10-25T16:14:29.866Z"
   },
   {
    "duration": 0,
    "start_time": "2022-10-25T16:14:29.867Z"
   },
   {
    "duration": 0,
    "start_time": "2022-10-25T16:14:29.868Z"
   },
   {
    "duration": 0,
    "start_time": "2022-10-25T16:14:29.869Z"
   },
   {
    "duration": 0,
    "start_time": "2022-10-25T16:14:29.870Z"
   },
   {
    "duration": 0,
    "start_time": "2022-10-25T16:14:29.871Z"
   },
   {
    "duration": 0,
    "start_time": "2022-10-25T16:14:29.872Z"
   },
   {
    "duration": 0,
    "start_time": "2022-10-25T16:14:29.876Z"
   },
   {
    "duration": 0,
    "start_time": "2022-10-25T16:14:29.878Z"
   },
   {
    "duration": 0,
    "start_time": "2022-10-25T16:14:29.879Z"
   },
   {
    "duration": 0,
    "start_time": "2022-10-25T16:14:29.880Z"
   },
   {
    "duration": 0,
    "start_time": "2022-10-25T16:14:29.881Z"
   },
   {
    "duration": 0,
    "start_time": "2022-10-25T16:14:29.883Z"
   },
   {
    "duration": 0,
    "start_time": "2022-10-25T16:14:29.883Z"
   },
   {
    "duration": 0,
    "start_time": "2022-10-25T16:14:29.884Z"
   },
   {
    "duration": 0,
    "start_time": "2022-10-25T16:14:29.885Z"
   },
   {
    "duration": 0,
    "start_time": "2022-10-25T16:14:29.886Z"
   },
   {
    "duration": 4045,
    "start_time": "2022-10-25T16:14:40.703Z"
   },
   {
    "duration": 72,
    "start_time": "2022-10-25T16:14:44.750Z"
   },
   {
    "duration": 8320,
    "start_time": "2022-10-25T16:14:44.824Z"
   },
   {
    "duration": 5,
    "start_time": "2022-10-25T16:14:53.146Z"
   },
   {
    "duration": 37,
    "start_time": "2022-10-25T16:14:53.152Z"
   },
   {
    "duration": 18,
    "start_time": "2022-10-25T16:14:53.190Z"
   },
   {
    "duration": 52,
    "start_time": "2022-10-25T16:14:53.211Z"
   },
   {
    "duration": 0,
    "start_time": "2022-10-25T16:14:53.266Z"
   },
   {
    "duration": 0,
    "start_time": "2022-10-25T16:14:53.268Z"
   },
   {
    "duration": 0,
    "start_time": "2022-10-25T16:14:53.269Z"
   },
   {
    "duration": 1,
    "start_time": "2022-10-25T16:14:53.270Z"
   },
   {
    "duration": 0,
    "start_time": "2022-10-25T16:14:53.272Z"
   },
   {
    "duration": 0,
    "start_time": "2022-10-25T16:14:53.273Z"
   },
   {
    "duration": 0,
    "start_time": "2022-10-25T16:14:53.275Z"
   },
   {
    "duration": 0,
    "start_time": "2022-10-25T16:14:53.276Z"
   },
   {
    "duration": 0,
    "start_time": "2022-10-25T16:14:53.287Z"
   },
   {
    "duration": 0,
    "start_time": "2022-10-25T16:14:53.288Z"
   },
   {
    "duration": 1,
    "start_time": "2022-10-25T16:14:53.288Z"
   },
   {
    "duration": 0,
    "start_time": "2022-10-25T16:14:53.289Z"
   },
   {
    "duration": 0,
    "start_time": "2022-10-25T16:14:53.290Z"
   },
   {
    "duration": 0,
    "start_time": "2022-10-25T16:14:53.291Z"
   },
   {
    "duration": 0,
    "start_time": "2022-10-25T16:14:53.296Z"
   },
   {
    "duration": 0,
    "start_time": "2022-10-25T16:14:53.297Z"
   },
   {
    "duration": 0,
    "start_time": "2022-10-25T16:14:53.299Z"
   },
   {
    "duration": 0,
    "start_time": "2022-10-25T16:14:53.300Z"
   },
   {
    "duration": 0,
    "start_time": "2022-10-25T16:14:53.301Z"
   },
   {
    "duration": 0,
    "start_time": "2022-10-25T16:14:53.302Z"
   },
   {
    "duration": 0,
    "start_time": "2022-10-25T16:14:53.303Z"
   },
   {
    "duration": 0,
    "start_time": "2022-10-25T16:14:53.304Z"
   },
   {
    "duration": 0,
    "start_time": "2022-10-25T16:14:53.304Z"
   },
   {
    "duration": 0,
    "start_time": "2022-10-25T16:14:53.306Z"
   },
   {
    "duration": 0,
    "start_time": "2022-10-25T16:14:53.307Z"
   },
   {
    "duration": 0,
    "start_time": "2022-10-25T16:14:53.308Z"
   },
   {
    "duration": 0,
    "start_time": "2022-10-25T16:14:53.309Z"
   },
   {
    "duration": 0,
    "start_time": "2022-10-25T16:14:53.310Z"
   },
   {
    "duration": 0,
    "start_time": "2022-10-25T16:14:53.312Z"
   },
   {
    "duration": 0,
    "start_time": "2022-10-25T16:14:53.312Z"
   },
   {
    "duration": 0,
    "start_time": "2022-10-25T16:14:53.313Z"
   },
   {
    "duration": 4328,
    "start_time": "2022-10-25T16:15:15.261Z"
   },
   {
    "duration": 91,
    "start_time": "2022-10-25T16:15:19.594Z"
   },
   {
    "duration": 8333,
    "start_time": "2022-10-25T16:15:19.688Z"
   },
   {
    "duration": 5,
    "start_time": "2022-10-25T16:15:28.022Z"
   },
   {
    "duration": 29,
    "start_time": "2022-10-25T16:15:28.029Z"
   },
   {
    "duration": 34,
    "start_time": "2022-10-25T16:15:28.059Z"
   },
   {
    "duration": 31,
    "start_time": "2022-10-25T16:15:28.095Z"
   },
   {
    "duration": 42,
    "start_time": "2022-10-25T16:15:28.128Z"
   },
   {
    "duration": 26,
    "start_time": "2022-10-25T16:15:28.172Z"
   },
   {
    "duration": 16,
    "start_time": "2022-10-25T16:15:28.199Z"
   },
   {
    "duration": 106,
    "start_time": "2022-10-25T16:15:28.217Z"
   },
   {
    "duration": 0,
    "start_time": "2022-10-25T16:15:28.325Z"
   },
   {
    "duration": 0,
    "start_time": "2022-10-25T16:15:28.326Z"
   },
   {
    "duration": 0,
    "start_time": "2022-10-25T16:15:28.328Z"
   },
   {
    "duration": 0,
    "start_time": "2022-10-25T16:15:28.329Z"
   },
   {
    "duration": 0,
    "start_time": "2022-10-25T16:15:28.330Z"
   },
   {
    "duration": 0,
    "start_time": "2022-10-25T16:15:28.331Z"
   },
   {
    "duration": 0,
    "start_time": "2022-10-25T16:15:28.332Z"
   },
   {
    "duration": 0,
    "start_time": "2022-10-25T16:15:28.333Z"
   },
   {
    "duration": 0,
    "start_time": "2022-10-25T16:15:28.334Z"
   },
   {
    "duration": 0,
    "start_time": "2022-10-25T16:15:28.336Z"
   },
   {
    "duration": 0,
    "start_time": "2022-10-25T16:15:28.337Z"
   },
   {
    "duration": 0,
    "start_time": "2022-10-25T16:15:28.338Z"
   },
   {
    "duration": 0,
    "start_time": "2022-10-25T16:15:28.340Z"
   },
   {
    "duration": 0,
    "start_time": "2022-10-25T16:15:28.341Z"
   },
   {
    "duration": 0,
    "start_time": "2022-10-25T16:15:28.342Z"
   },
   {
    "duration": 0,
    "start_time": "2022-10-25T16:15:28.379Z"
   },
   {
    "duration": 0,
    "start_time": "2022-10-25T16:15:28.382Z"
   },
   {
    "duration": 0,
    "start_time": "2022-10-25T16:15:28.383Z"
   },
   {
    "duration": 0,
    "start_time": "2022-10-25T16:15:28.384Z"
   },
   {
    "duration": 0,
    "start_time": "2022-10-25T16:15:28.384Z"
   },
   {
    "duration": 0,
    "start_time": "2022-10-25T16:15:28.385Z"
   },
   {
    "duration": 0,
    "start_time": "2022-10-25T16:15:28.386Z"
   },
   {
    "duration": 0,
    "start_time": "2022-10-25T16:15:28.387Z"
   },
   {
    "duration": 0,
    "start_time": "2022-10-25T16:15:28.388Z"
   },
   {
    "duration": 0,
    "start_time": "2022-10-25T16:15:28.388Z"
   },
   {
    "duration": 0,
    "start_time": "2022-10-25T16:15:28.389Z"
   },
   {
    "duration": 10,
    "start_time": "2022-10-25T16:15:53.997Z"
   },
   {
    "duration": 11,
    "start_time": "2022-10-25T16:15:58.095Z"
   },
   {
    "duration": 14,
    "start_time": "2022-10-25T16:16:52.841Z"
   },
   {
    "duration": 13,
    "start_time": "2022-10-25T16:17:27.317Z"
   },
   {
    "duration": 16,
    "start_time": "2022-10-25T16:18:05.369Z"
   },
   {
    "duration": 11,
    "start_time": "2022-10-25T16:18:17.438Z"
   },
   {
    "duration": 18,
    "start_time": "2022-10-25T16:18:35.290Z"
   },
   {
    "duration": 20,
    "start_time": "2022-10-25T16:18:44.550Z"
   },
   {
    "duration": 18,
    "start_time": "2022-10-25T16:18:50.198Z"
   },
   {
    "duration": 16,
    "start_time": "2022-10-25T16:19:03.284Z"
   },
   {
    "duration": 3918,
    "start_time": "2022-10-25T16:19:30.926Z"
   },
   {
    "duration": 74,
    "start_time": "2022-10-25T16:19:34.846Z"
   },
   {
    "duration": 8048,
    "start_time": "2022-10-25T16:19:34.922Z"
   },
   {
    "duration": 17,
    "start_time": "2022-10-25T16:19:42.972Z"
   },
   {
    "duration": 31,
    "start_time": "2022-10-25T16:19:42.994Z"
   },
   {
    "duration": 7,
    "start_time": "2022-10-25T16:19:43.027Z"
   },
   {
    "duration": 5,
    "start_time": "2022-10-25T16:19:43.036Z"
   },
   {
    "duration": 32,
    "start_time": "2022-10-25T16:19:43.043Z"
   },
   {
    "duration": 16,
    "start_time": "2022-10-25T16:19:43.079Z"
   },
   {
    "duration": 10,
    "start_time": "2022-10-25T16:19:43.098Z"
   },
   {
    "duration": 16,
    "start_time": "2022-10-25T16:19:43.110Z"
   },
   {
    "duration": 315,
    "start_time": "2022-10-25T16:19:43.128Z"
   },
   {
    "duration": 5,
    "start_time": "2022-10-25T16:19:43.444Z"
   },
   {
    "duration": 44,
    "start_time": "2022-10-25T16:19:43.451Z"
   },
   {
    "duration": 46,
    "start_time": "2022-10-25T16:19:43.497Z"
   },
   {
    "duration": 0,
    "start_time": "2022-10-25T16:19:43.545Z"
   },
   {
    "duration": 0,
    "start_time": "2022-10-25T16:19:43.546Z"
   },
   {
    "duration": 0,
    "start_time": "2022-10-25T16:19:43.548Z"
   },
   {
    "duration": 0,
    "start_time": "2022-10-25T16:19:43.549Z"
   },
   {
    "duration": 0,
    "start_time": "2022-10-25T16:19:43.550Z"
   },
   {
    "duration": 0,
    "start_time": "2022-10-25T16:19:43.552Z"
   },
   {
    "duration": 0,
    "start_time": "2022-10-25T16:19:43.553Z"
   },
   {
    "duration": 0,
    "start_time": "2022-10-25T16:19:43.554Z"
   },
   {
    "duration": 0,
    "start_time": "2022-10-25T16:19:43.556Z"
   },
   {
    "duration": 0,
    "start_time": "2022-10-25T16:19:43.557Z"
   },
   {
    "duration": 0,
    "start_time": "2022-10-25T16:19:43.558Z"
   },
   {
    "duration": 0,
    "start_time": "2022-10-25T16:19:43.560Z"
   },
   {
    "duration": 0,
    "start_time": "2022-10-25T16:19:43.561Z"
   },
   {
    "duration": 0,
    "start_time": "2022-10-25T16:19:43.562Z"
   },
   {
    "duration": 0,
    "start_time": "2022-10-25T16:19:43.563Z"
   },
   {
    "duration": 0,
    "start_time": "2022-10-25T16:19:43.564Z"
   },
   {
    "duration": 0,
    "start_time": "2022-10-25T16:19:43.565Z"
   },
   {
    "duration": 0,
    "start_time": "2022-10-25T16:19:43.565Z"
   },
   {
    "duration": 0,
    "start_time": "2022-10-25T16:19:43.566Z"
   },
   {
    "duration": 0,
    "start_time": "2022-10-25T16:19:43.567Z"
   },
   {
    "duration": 0,
    "start_time": "2022-10-25T16:19:43.568Z"
   },
   {
    "duration": 0,
    "start_time": "2022-10-25T16:19:43.569Z"
   },
   {
    "duration": 3919,
    "start_time": "2022-10-25T16:19:53.472Z"
   },
   {
    "duration": 48,
    "start_time": "2022-10-25T16:19:57.393Z"
   },
   {
    "duration": 8582,
    "start_time": "2022-10-25T16:19:57.442Z"
   },
   {
    "duration": 5,
    "start_time": "2022-10-25T16:20:06.029Z"
   },
   {
    "duration": 28,
    "start_time": "2022-10-25T16:20:06.036Z"
   },
   {
    "duration": 14,
    "start_time": "2022-10-25T16:20:06.066Z"
   },
   {
    "duration": 16,
    "start_time": "2022-10-25T16:20:06.081Z"
   },
   {
    "duration": 36,
    "start_time": "2022-10-25T16:20:06.099Z"
   },
   {
    "duration": 8,
    "start_time": "2022-10-25T16:20:06.136Z"
   },
   {
    "duration": 5,
    "start_time": "2022-10-25T16:20:06.146Z"
   },
   {
    "duration": 29,
    "start_time": "2022-10-25T16:20:06.153Z"
   },
   {
    "duration": 334,
    "start_time": "2022-10-25T16:20:06.184Z"
   },
   {
    "duration": 5,
    "start_time": "2022-10-25T16:20:06.520Z"
   },
   {
    "duration": 39,
    "start_time": "2022-10-25T16:20:06.527Z"
   },
   {
    "duration": 229,
    "start_time": "2022-10-25T16:20:06.572Z"
   },
   {
    "duration": 222,
    "start_time": "2022-10-25T16:20:06.803Z"
   },
   {
    "duration": 298,
    "start_time": "2022-10-25T16:20:07.027Z"
   },
   {
    "duration": 200,
    "start_time": "2022-10-25T16:20:07.327Z"
   },
   {
    "duration": 208,
    "start_time": "2022-10-25T16:20:07.529Z"
   },
   {
    "duration": 200,
    "start_time": "2022-10-25T16:20:07.739Z"
   },
   {
    "duration": 146,
    "start_time": "2022-10-25T16:20:07.940Z"
   },
   {
    "duration": 211,
    "start_time": "2022-10-25T16:20:08.087Z"
   },
   {
    "duration": 215,
    "start_time": "2022-10-25T16:20:08.301Z"
   },
   {
    "duration": 46,
    "start_time": "2022-10-25T16:20:08.518Z"
   },
   {
    "duration": 0,
    "start_time": "2022-10-25T16:20:08.567Z"
   },
   {
    "duration": 0,
    "start_time": "2022-10-25T16:20:08.569Z"
   },
   {
    "duration": 0,
    "start_time": "2022-10-25T16:20:08.570Z"
   },
   {
    "duration": 0,
    "start_time": "2022-10-25T16:20:08.571Z"
   },
   {
    "duration": 0,
    "start_time": "2022-10-25T16:20:08.573Z"
   },
   {
    "duration": 0,
    "start_time": "2022-10-25T16:20:08.574Z"
   },
   {
    "duration": 0,
    "start_time": "2022-10-25T16:20:08.575Z"
   },
   {
    "duration": 0,
    "start_time": "2022-10-25T16:20:08.579Z"
   },
   {
    "duration": 0,
    "start_time": "2022-10-25T16:20:08.580Z"
   },
   {
    "duration": 0,
    "start_time": "2022-10-25T16:20:08.581Z"
   },
   {
    "duration": 0,
    "start_time": "2022-10-25T16:20:08.585Z"
   },
   {
    "duration": 0,
    "start_time": "2022-10-25T16:20:08.595Z"
   },
   {
    "duration": 5340,
    "start_time": "2022-10-25T16:20:28.351Z"
   },
   {
    "duration": 48,
    "start_time": "2022-10-25T16:20:33.693Z"
   },
   {
    "duration": 10962,
    "start_time": "2022-10-25T16:20:33.742Z"
   },
   {
    "duration": 6,
    "start_time": "2022-10-25T16:20:44.706Z"
   },
   {
    "duration": 27,
    "start_time": "2022-10-25T16:20:44.714Z"
   },
   {
    "duration": 7,
    "start_time": "2022-10-25T16:20:44.743Z"
   },
   {
    "duration": 7,
    "start_time": "2022-10-25T16:20:44.752Z"
   },
   {
    "duration": 43,
    "start_time": "2022-10-25T16:20:44.761Z"
   },
   {
    "duration": 8,
    "start_time": "2022-10-25T16:20:44.806Z"
   },
   {
    "duration": 7,
    "start_time": "2022-10-25T16:20:44.817Z"
   },
   {
    "duration": 21,
    "start_time": "2022-10-25T16:20:44.826Z"
   },
   {
    "duration": 349,
    "start_time": "2022-10-25T16:20:44.850Z"
   },
   {
    "duration": 5,
    "start_time": "2022-10-25T16:20:45.201Z"
   },
   {
    "duration": 31,
    "start_time": "2022-10-25T16:20:45.208Z"
   },
   {
    "duration": 261,
    "start_time": "2022-10-25T16:20:45.240Z"
   },
   {
    "duration": 229,
    "start_time": "2022-10-25T16:20:45.503Z"
   },
   {
    "duration": 315,
    "start_time": "2022-10-25T16:20:45.734Z"
   },
   {
    "duration": 199,
    "start_time": "2022-10-25T16:20:46.050Z"
   },
   {
    "duration": 215,
    "start_time": "2022-10-25T16:20:46.250Z"
   },
   {
    "duration": 204,
    "start_time": "2022-10-25T16:20:46.466Z"
   },
   {
    "duration": 140,
    "start_time": "2022-10-25T16:20:46.678Z"
   },
   {
    "duration": 227,
    "start_time": "2022-10-25T16:20:46.821Z"
   },
   {
    "duration": 219,
    "start_time": "2022-10-25T16:20:47.050Z"
   },
   {
    "duration": 325,
    "start_time": "2022-10-25T16:20:47.271Z"
   },
   {
    "duration": 0,
    "start_time": "2022-10-25T16:20:47.599Z"
   },
   {
    "duration": 0,
    "start_time": "2022-10-25T16:20:47.601Z"
   },
   {
    "duration": 0,
    "start_time": "2022-10-25T16:20:47.602Z"
   },
   {
    "duration": 0,
    "start_time": "2022-10-25T16:20:47.604Z"
   },
   {
    "duration": 0,
    "start_time": "2022-10-25T16:20:47.605Z"
   },
   {
    "duration": 0,
    "start_time": "2022-10-25T16:20:47.606Z"
   },
   {
    "duration": 0,
    "start_time": "2022-10-25T16:20:47.608Z"
   },
   {
    "duration": 0,
    "start_time": "2022-10-25T16:20:47.609Z"
   },
   {
    "duration": 0,
    "start_time": "2022-10-25T16:20:47.610Z"
   },
   {
    "duration": 0,
    "start_time": "2022-10-25T16:20:47.611Z"
   },
   {
    "duration": 241,
    "start_time": "2022-10-25T16:21:15.559Z"
   },
   {
    "duration": 250,
    "start_time": "2022-10-25T16:21:18.230Z"
   },
   {
    "duration": 299,
    "start_time": "2022-10-25T16:21:32.138Z"
   },
   {
    "duration": 229,
    "start_time": "2022-10-25T16:21:34.372Z"
   },
   {
    "duration": 442,
    "start_time": "2022-10-25T16:21:36.274Z"
   },
   {
    "duration": 239,
    "start_time": "2022-10-25T16:21:39.867Z"
   },
   {
    "duration": 8,
    "start_time": "2022-10-25T16:21:40.107Z"
   },
   {
    "duration": 959,
    "start_time": "2022-10-25T16:21:40.351Z"
   },
   {
    "duration": 35,
    "start_time": "2022-10-25T16:21:41.314Z"
   },
   {
    "duration": 24,
    "start_time": "2022-10-25T16:21:42.151Z"
   },
   {
    "duration": 7,
    "start_time": "2022-10-25T16:21:42.487Z"
   },
   {
    "duration": 11,
    "start_time": "2022-10-25T16:23:32.202Z"
   },
   {
    "duration": 4,
    "start_time": "2022-10-25T16:23:41.028Z"
   },
   {
    "duration": 134,
    "start_time": "2022-10-25T16:23:42.277Z"
   },
   {
    "duration": 14,
    "start_time": "2022-10-25T16:23:56.883Z"
   },
   {
    "duration": 160,
    "start_time": "2022-10-25T16:25:09.357Z"
   },
   {
    "duration": 167,
    "start_time": "2022-10-25T16:25:09.519Z"
   },
   {
    "duration": 155,
    "start_time": "2022-10-25T16:25:37.644Z"
   },
   {
    "duration": 255,
    "start_time": "2022-10-25T16:25:49.893Z"
   },
   {
    "duration": 3196,
    "start_time": "2022-10-26T09:46:54.736Z"
   },
   {
    "duration": 52,
    "start_time": "2022-10-26T09:46:57.934Z"
   },
   {
    "duration": 6913,
    "start_time": "2022-10-26T09:46:57.988Z"
   },
   {
    "duration": 12,
    "start_time": "2022-10-26T09:47:04.903Z"
   },
   {
    "duration": 29,
    "start_time": "2022-10-26T09:47:04.928Z"
   },
   {
    "duration": 11,
    "start_time": "2022-10-26T09:47:04.958Z"
   },
   {
    "duration": 15,
    "start_time": "2022-10-26T09:47:04.970Z"
   },
   {
    "duration": 52,
    "start_time": "2022-10-26T09:47:04.986Z"
   },
   {
    "duration": 8,
    "start_time": "2022-10-26T09:47:05.040Z"
   },
   {
    "duration": 5,
    "start_time": "2022-10-26T09:47:08.085Z"
   },
   {
    "duration": 11,
    "start_time": "2022-10-26T09:47:08.534Z"
   },
   {
    "duration": 323,
    "start_time": "2022-10-26T09:47:10.458Z"
   },
   {
    "duration": 4,
    "start_time": "2022-10-26T09:47:10.862Z"
   },
   {
    "duration": 34,
    "start_time": "2022-10-26T09:47:11.685Z"
   },
   {
    "duration": 165,
    "start_time": "2022-10-26T09:47:14.032Z"
   },
   {
    "duration": 249,
    "start_time": "2022-10-26T09:47:15.482Z"
   },
   {
    "duration": 181,
    "start_time": "2022-10-26T09:47:16.448Z"
   },
   {
    "duration": 197,
    "start_time": "2022-10-26T09:47:17.178Z"
   },
   {
    "duration": 202,
    "start_time": "2022-10-26T09:47:17.533Z"
   },
   {
    "duration": 166,
    "start_time": "2022-10-26T09:47:18.442Z"
   },
   {
    "duration": 112,
    "start_time": "2022-10-26T09:47:19.257Z"
   },
   {
    "duration": 173,
    "start_time": "2022-10-26T09:47:20.032Z"
   },
   {
    "duration": 191,
    "start_time": "2022-10-26T09:47:20.832Z"
   },
   {
    "duration": 193,
    "start_time": "2022-10-26T09:47:21.892Z"
   },
   {
    "duration": 198,
    "start_time": "2022-10-26T09:47:22.657Z"
   },
   {
    "duration": 443,
    "start_time": "2022-10-26T09:47:24.752Z"
   },
   {
    "duration": 204,
    "start_time": "2022-10-26T09:47:29.645Z"
   },
   {
    "duration": 24,
    "start_time": "2022-10-26T09:47:30.302Z"
   },
   {
    "duration": 17,
    "start_time": "2022-10-26T09:47:31.308Z"
   },
   {
    "duration": 116,
    "start_time": "2022-10-26T09:47:32.449Z"
   },
   {
    "duration": 39,
    "start_time": "2022-10-26T09:47:38.331Z"
   },
   {
    "duration": 19,
    "start_time": "2022-10-26T09:47:40.032Z"
   },
   {
    "duration": 6,
    "start_time": "2022-10-26T09:47:40.532Z"
   },
   {
    "duration": 174,
    "start_time": "2022-10-26T09:47:40.768Z"
   },
   {
    "duration": 132,
    "start_time": "2022-10-26T09:47:41.036Z"
   },
   {
    "duration": 1000,
    "start_time": "2022-10-26T09:54:30.792Z"
   },
   {
    "duration": 146,
    "start_time": "2022-10-26T09:56:40.706Z"
   },
   {
    "duration": 108,
    "start_time": "2022-10-26T09:57:59.543Z"
   },
   {
    "duration": 8,
    "start_time": "2022-10-26T09:58:36.978Z"
   },
   {
    "duration": 9,
    "start_time": "2022-10-26T09:58:51.648Z"
   },
   {
    "duration": 127,
    "start_time": "2022-10-26T09:59:53.364Z"
   },
   {
    "duration": 130,
    "start_time": "2022-10-26T10:00:11.253Z"
   },
   {
    "duration": 214,
    "start_time": "2022-10-26T10:00:20.989Z"
   },
   {
    "duration": 148,
    "start_time": "2022-10-26T10:00:36.875Z"
   },
   {
    "duration": 160,
    "start_time": "2022-10-26T10:09:06.871Z"
   },
   {
    "duration": 157,
    "start_time": "2022-10-26T10:09:13.081Z"
   },
   {
    "duration": 2532,
    "start_time": "2022-10-26T15:03:23.356Z"
   },
   {
    "duration": 48,
    "start_time": "2022-10-26T15:03:25.890Z"
   },
   {
    "duration": 7470,
    "start_time": "2022-10-26T15:03:25.939Z"
   },
   {
    "duration": 4,
    "start_time": "2022-10-26T15:03:33.411Z"
   },
   {
    "duration": 19,
    "start_time": "2022-10-26T15:03:33.416Z"
   },
   {
    "duration": 6,
    "start_time": "2022-10-26T15:03:33.436Z"
   },
   {
    "duration": 9,
    "start_time": "2022-10-26T15:03:33.444Z"
   },
   {
    "duration": 48,
    "start_time": "2022-10-26T15:03:33.454Z"
   },
   {
    "duration": 7,
    "start_time": "2022-10-26T15:03:33.504Z"
   },
   {
    "duration": 10,
    "start_time": "2022-10-26T15:03:33.514Z"
   },
   {
    "duration": 17,
    "start_time": "2022-10-26T15:03:33.526Z"
   },
   {
    "duration": 276,
    "start_time": "2022-10-26T15:03:33.544Z"
   },
   {
    "duration": 4,
    "start_time": "2022-10-26T15:03:33.822Z"
   },
   {
    "duration": 33,
    "start_time": "2022-10-26T15:03:33.828Z"
   },
   {
    "duration": 179,
    "start_time": "2022-10-26T15:03:33.863Z"
   },
   {
    "duration": 179,
    "start_time": "2022-10-26T15:03:34.044Z"
   },
   {
    "duration": 240,
    "start_time": "2022-10-26T15:03:34.224Z"
   },
   {
    "duration": 173,
    "start_time": "2022-10-26T15:03:34.466Z"
   },
   {
    "duration": 195,
    "start_time": "2022-10-26T15:03:34.641Z"
   },
   {
    "duration": 180,
    "start_time": "2022-10-26T15:03:34.838Z"
   },
   {
    "duration": 120,
    "start_time": "2022-10-26T15:03:35.020Z"
   },
   {
    "duration": 182,
    "start_time": "2022-10-26T15:03:35.142Z"
   },
   {
    "duration": 187,
    "start_time": "2022-10-26T15:03:35.326Z"
   },
   {
    "duration": 193,
    "start_time": "2022-10-26T15:03:35.514Z"
   },
   {
    "duration": 201,
    "start_time": "2022-10-26T15:03:35.709Z"
   },
   {
    "duration": 432,
    "start_time": "2022-10-26T15:03:35.912Z"
   },
   {
    "duration": 220,
    "start_time": "2022-10-26T15:03:36.346Z"
   },
   {
    "duration": 17,
    "start_time": "2022-10-26T15:03:36.569Z"
   },
   {
    "duration": 12,
    "start_time": "2022-10-26T15:03:36.587Z"
   },
   {
    "duration": 112,
    "start_time": "2022-10-26T15:03:36.601Z"
   },
   {
    "duration": 193,
    "start_time": "2022-10-26T15:03:36.715Z"
   },
   {
    "duration": 0,
    "start_time": "2022-10-26T15:03:36.910Z"
   },
   {
    "duration": 0,
    "start_time": "2022-10-26T15:03:36.911Z"
   },
   {
    "duration": 0,
    "start_time": "2022-10-26T15:03:36.912Z"
   },
   {
    "duration": 0,
    "start_time": "2022-10-26T15:03:36.913Z"
   },
   {
    "duration": 0,
    "start_time": "2022-10-26T15:03:36.914Z"
   },
   {
    "duration": 0,
    "start_time": "2022-10-26T15:03:36.914Z"
   },
   {
    "duration": 0,
    "start_time": "2022-10-26T15:03:36.915Z"
   },
   {
    "duration": 0,
    "start_time": "2022-10-26T15:03:36.916Z"
   },
   {
    "duration": 2005,
    "start_time": "2022-10-26T15:05:53.860Z"
   },
   {
    "duration": 3527,
    "start_time": "2022-10-26T15:05:59.725Z"
   },
   {
    "duration": 67,
    "start_time": "2022-10-26T15:06:03.255Z"
   },
   {
    "duration": 8000,
    "start_time": "2022-10-26T15:06:03.327Z"
   },
   {
    "duration": 6,
    "start_time": "2022-10-26T15:06:11.329Z"
   },
   {
    "duration": 27,
    "start_time": "2022-10-26T15:06:11.336Z"
   },
   {
    "duration": 14,
    "start_time": "2022-10-26T15:06:11.364Z"
   },
   {
    "duration": 25,
    "start_time": "2022-10-26T15:06:11.384Z"
   },
   {
    "duration": 39,
    "start_time": "2022-10-26T15:06:11.411Z"
   },
   {
    "duration": 10,
    "start_time": "2022-10-26T15:06:11.454Z"
   },
   {
    "duration": 7,
    "start_time": "2022-10-26T15:06:11.466Z"
   },
   {
    "duration": 46,
    "start_time": "2022-10-26T15:06:11.475Z"
   },
   {
    "duration": 371,
    "start_time": "2022-10-26T15:06:11.523Z"
   },
   {
    "duration": 5,
    "start_time": "2022-10-26T15:06:11.896Z"
   },
   {
    "duration": 43,
    "start_time": "2022-10-26T15:06:11.902Z"
   },
   {
    "duration": 213,
    "start_time": "2022-10-26T15:06:11.946Z"
   },
   {
    "duration": 202,
    "start_time": "2022-10-26T15:06:12.160Z"
   },
   {
    "duration": 244,
    "start_time": "2022-10-26T15:06:12.364Z"
   },
   {
    "duration": 218,
    "start_time": "2022-10-26T15:06:12.609Z"
   },
   {
    "duration": 201,
    "start_time": "2022-10-26T15:06:12.828Z"
   },
   {
    "duration": 176,
    "start_time": "2022-10-26T15:06:13.030Z"
   },
   {
    "duration": 115,
    "start_time": "2022-10-26T15:06:13.207Z"
   },
   {
    "duration": 183,
    "start_time": "2022-10-26T15:06:13.324Z"
   },
   {
    "duration": 213,
    "start_time": "2022-10-26T15:06:13.508Z"
   },
   {
    "duration": 240,
    "start_time": "2022-10-26T15:06:13.723Z"
   },
   {
    "duration": 188,
    "start_time": "2022-10-26T15:06:13.965Z"
   },
   {
    "duration": 450,
    "start_time": "2022-10-26T15:06:14.155Z"
   },
   {
    "duration": 210,
    "start_time": "2022-10-26T15:06:14.609Z"
   },
   {
    "duration": 17,
    "start_time": "2022-10-26T15:06:14.821Z"
   },
   {
    "duration": 7,
    "start_time": "2022-10-26T15:06:14.840Z"
   },
   {
    "duration": 145,
    "start_time": "2022-10-26T15:06:14.849Z"
   },
   {
    "duration": 137,
    "start_time": "2022-10-26T15:06:14.997Z"
   },
   {
    "duration": 131,
    "start_time": "2022-10-26T15:06:15.135Z"
   },
   {
    "duration": 157,
    "start_time": "2022-10-26T15:06:15.268Z"
   },
   {
    "duration": 167,
    "start_time": "2022-10-26T15:06:15.426Z"
   },
   {
    "duration": 44,
    "start_time": "2022-10-26T15:06:15.595Z"
   },
   {
    "duration": 20,
    "start_time": "2022-10-26T15:06:15.640Z"
   },
   {
    "duration": 18,
    "start_time": "2022-10-26T15:06:15.662Z"
   },
   {
    "duration": 166,
    "start_time": "2022-10-26T15:06:15.687Z"
   },
   {
    "duration": 143,
    "start_time": "2022-10-26T15:06:15.855Z"
   },
   {
    "duration": 2931,
    "start_time": "2022-10-26T22:53:07.477Z"
   },
   {
    "duration": 45,
    "start_time": "2022-10-26T22:53:10.942Z"
   },
   {
    "duration": 7601,
    "start_time": "2022-10-26T22:53:13.775Z"
   },
   {
    "duration": 4,
    "start_time": "2022-10-26T22:53:21.378Z"
   },
   {
    "duration": 24,
    "start_time": "2022-10-26T22:53:21.384Z"
   },
   {
    "duration": 18,
    "start_time": "2022-10-26T22:53:21.409Z"
   },
   {
    "duration": 28,
    "start_time": "2022-10-26T22:53:21.428Z"
   },
   {
    "duration": 45,
    "start_time": "2022-10-26T22:53:21.458Z"
   },
   {
    "duration": 7,
    "start_time": "2022-10-26T22:53:21.505Z"
   },
   {
    "duration": 4,
    "start_time": "2022-10-26T22:53:23.694Z"
   },
   {
    "duration": 12,
    "start_time": "2022-10-26T22:53:24.058Z"
   },
   {
    "duration": 279,
    "start_time": "2022-10-26T22:53:25.904Z"
   },
   {
    "duration": 5,
    "start_time": "2022-10-26T22:53:26.594Z"
   },
   {
    "duration": 26,
    "start_time": "2022-10-26T22:53:27.614Z"
   },
   {
    "duration": 165,
    "start_time": "2022-10-26T22:53:29.888Z"
   },
   {
    "duration": 170,
    "start_time": "2022-10-26T22:53:31.217Z"
   },
   {
    "duration": 241,
    "start_time": "2022-10-26T22:53:31.851Z"
   },
   {
    "duration": 169,
    "start_time": "2022-10-26T22:53:32.493Z"
   },
   {
    "duration": 175,
    "start_time": "2022-10-26T22:53:32.775Z"
   },
   {
    "duration": 163,
    "start_time": "2022-10-26T22:53:33.300Z"
   },
   {
    "duration": 109,
    "start_time": "2022-10-26T22:53:33.793Z"
   },
   {
    "duration": 206,
    "start_time": "2022-10-26T22:53:34.455Z"
   },
   {
    "duration": 203,
    "start_time": "2022-10-26T22:53:34.664Z"
   },
   {
    "duration": 203,
    "start_time": "2022-10-26T22:53:35.314Z"
   },
   {
    "duration": 187,
    "start_time": "2022-10-26T22:53:35.798Z"
   },
   {
    "duration": 482,
    "start_time": "2022-10-26T22:53:36.504Z"
   },
   {
    "duration": 191,
    "start_time": "2022-10-26T22:53:38.193Z"
   },
   {
    "duration": 7,
    "start_time": "2022-10-26T22:53:38.465Z"
   },
   {
    "duration": 4,
    "start_time": "2022-10-26T22:53:38.732Z"
   },
   {
    "duration": 111,
    "start_time": "2022-10-26T22:53:39.010Z"
   },
   {
    "duration": 127,
    "start_time": "2022-10-26T22:53:39.277Z"
   },
   {
    "duration": 121,
    "start_time": "2022-10-26T22:53:39.974Z"
   },
   {
    "duration": 123,
    "start_time": "2022-10-26T22:53:40.955Z"
   },
   {
    "duration": 115,
    "start_time": "2022-10-26T22:53:41.788Z"
   },
   {
    "duration": 34,
    "start_time": "2022-10-26T22:53:52.731Z"
   },
   {
    "duration": 21,
    "start_time": "2022-10-26T22:53:54.113Z"
   },
   {
    "duration": 6,
    "start_time": "2022-10-26T22:53:54.652Z"
   },
   {
    "duration": 184,
    "start_time": "2022-10-26T22:53:55.131Z"
   },
   {
    "duration": 142,
    "start_time": "2022-10-26T22:53:55.402Z"
   },
   {
    "duration": 305,
    "start_time": "2022-10-26T23:00:55.881Z"
   },
   {
    "duration": 177,
    "start_time": "2022-10-26T23:01:22.749Z"
   },
   {
    "duration": 274,
    "start_time": "2022-10-26T23:01:31.510Z"
   },
   {
    "duration": 193,
    "start_time": "2022-10-26T23:01:42.233Z"
   },
   {
    "duration": 202,
    "start_time": "2022-10-26T23:01:54.810Z"
   },
   {
    "duration": 14,
    "start_time": "2022-10-26T23:02:45.278Z"
   },
   {
    "duration": 24,
    "start_time": "2022-10-26T23:02:56.141Z"
   },
   {
    "duration": 167,
    "start_time": "2022-10-26T23:04:16.550Z"
   },
   {
    "duration": 170,
    "start_time": "2022-10-26T23:04:35.634Z"
   },
   {
    "duration": 177,
    "start_time": "2022-10-26T23:04:41.496Z"
   },
   {
    "duration": 171,
    "start_time": "2022-10-26T23:20:33.911Z"
   },
   {
    "duration": 160,
    "start_time": "2022-10-26T23:20:43.594Z"
   },
   {
    "duration": 339,
    "start_time": "2022-10-26T23:21:03.761Z"
   },
   {
    "duration": 2515,
    "start_time": "2022-10-27T00:08:30.271Z"
   },
   {
    "duration": 44,
    "start_time": "2022-10-27T00:08:32.790Z"
   },
   {
    "duration": 7238,
    "start_time": "2022-10-27T00:08:32.836Z"
   },
   {
    "duration": 4,
    "start_time": "2022-10-27T00:08:40.076Z"
   },
   {
    "duration": 21,
    "start_time": "2022-10-27T00:08:40.082Z"
   },
   {
    "duration": 5,
    "start_time": "2022-10-27T00:08:40.104Z"
   },
   {
    "duration": 4,
    "start_time": "2022-10-27T00:08:40.111Z"
   },
   {
    "duration": 25,
    "start_time": "2022-10-27T00:08:40.116Z"
   },
   {
    "duration": 7,
    "start_time": "2022-10-27T00:08:40.142Z"
   },
   {
    "duration": 4,
    "start_time": "2022-10-27T00:08:40.152Z"
   },
   {
    "duration": 41,
    "start_time": "2022-10-27T00:08:40.157Z"
   },
   {
    "duration": 256,
    "start_time": "2022-10-27T00:08:40.199Z"
   },
   {
    "duration": 3,
    "start_time": "2022-10-27T00:08:40.457Z"
   },
   {
    "duration": 28,
    "start_time": "2022-10-27T00:08:40.462Z"
   },
   {
    "duration": 171,
    "start_time": "2022-10-27T00:08:40.492Z"
   },
   {
    "duration": 167,
    "start_time": "2022-10-27T00:08:40.665Z"
   },
   {
    "duration": 244,
    "start_time": "2022-10-27T00:08:40.834Z"
   },
   {
    "duration": 160,
    "start_time": "2022-10-27T00:08:41.080Z"
   },
   {
    "duration": 179,
    "start_time": "2022-10-27T00:08:41.242Z"
   },
   {
    "duration": 180,
    "start_time": "2022-10-27T00:08:41.422Z"
   },
   {
    "duration": 114,
    "start_time": "2022-10-27T00:08:41.604Z"
   },
   {
    "duration": 172,
    "start_time": "2022-10-27T00:08:41.720Z"
   },
   {
    "duration": 168,
    "start_time": "2022-10-27T00:08:41.894Z"
   },
   {
    "duration": 152,
    "start_time": "2022-10-27T00:08:42.063Z"
   },
   {
    "duration": 161,
    "start_time": "2022-10-27T00:08:42.217Z"
   },
   {
    "duration": 407,
    "start_time": "2022-10-27T00:08:42.380Z"
   },
   {
    "duration": 185,
    "start_time": "2022-10-27T00:08:42.790Z"
   },
   {
    "duration": 16,
    "start_time": "2022-10-27T00:08:42.978Z"
   },
   {
    "duration": 3,
    "start_time": "2022-10-27T00:08:42.996Z"
   },
   {
    "duration": 123,
    "start_time": "2022-10-27T00:08:43.000Z"
   },
   {
    "duration": 126,
    "start_time": "2022-10-27T00:08:43.124Z"
   },
   {
    "duration": 124,
    "start_time": "2022-10-27T00:08:43.252Z"
   },
   {
    "duration": 137,
    "start_time": "2022-10-27T00:08:43.377Z"
   },
   {
    "duration": 128,
    "start_time": "2022-10-27T00:08:43.516Z"
   },
   {
    "duration": 163,
    "start_time": "2022-10-27T00:08:43.645Z"
   },
   {
    "duration": 157,
    "start_time": "2022-10-27T00:08:43.809Z"
   },
   {
    "duration": 173,
    "start_time": "2022-10-27T00:08:43.968Z"
   },
   {
    "duration": 33,
    "start_time": "2022-10-27T00:08:44.143Z"
   },
   {
    "duration": 31,
    "start_time": "2022-10-27T00:08:44.177Z"
   },
   {
    "duration": 5,
    "start_time": "2022-10-27T00:08:44.209Z"
   },
   {
    "duration": 275,
    "start_time": "2022-10-27T00:08:44.216Z"
   },
   {
    "duration": 143,
    "start_time": "2022-10-27T00:08:44.493Z"
   },
   {
    "duration": 1533,
    "start_time": "2022-10-27T00:14:51.917Z"
   },
   {
    "duration": 2721,
    "start_time": "2022-10-27T00:15:03.872Z"
   },
   {
    "duration": 45,
    "start_time": "2022-10-27T00:15:06.596Z"
   },
   {
    "duration": 7369,
    "start_time": "2022-10-27T00:15:06.642Z"
   },
   {
    "duration": 4,
    "start_time": "2022-10-27T00:15:14.013Z"
   },
   {
    "duration": 17,
    "start_time": "2022-10-27T00:15:14.018Z"
   },
   {
    "duration": 5,
    "start_time": "2022-10-27T00:15:14.037Z"
   },
   {
    "duration": 4,
    "start_time": "2022-10-27T00:15:14.044Z"
   },
   {
    "duration": 47,
    "start_time": "2022-10-27T00:15:14.050Z"
   },
   {
    "duration": 8,
    "start_time": "2022-10-27T00:15:14.098Z"
   },
   {
    "duration": 4,
    "start_time": "2022-10-27T00:15:14.109Z"
   },
   {
    "duration": 13,
    "start_time": "2022-10-27T00:15:14.115Z"
   },
   {
    "duration": 283,
    "start_time": "2022-10-27T00:15:14.129Z"
   },
   {
    "duration": 6,
    "start_time": "2022-10-27T00:15:14.414Z"
   },
   {
    "duration": 31,
    "start_time": "2022-10-27T00:15:14.421Z"
   },
   {
    "duration": 191,
    "start_time": "2022-10-27T00:15:14.453Z"
   },
   {
    "duration": 179,
    "start_time": "2022-10-27T00:15:14.646Z"
   },
   {
    "duration": 250,
    "start_time": "2022-10-27T00:15:14.827Z"
   },
   {
    "duration": 189,
    "start_time": "2022-10-27T00:15:15.079Z"
   },
   {
    "duration": 196,
    "start_time": "2022-10-27T00:15:15.270Z"
   },
   {
    "duration": 183,
    "start_time": "2022-10-27T00:15:15.468Z"
   },
   {
    "duration": 126,
    "start_time": "2022-10-27T00:15:15.652Z"
   },
   {
    "duration": 185,
    "start_time": "2022-10-27T00:15:15.780Z"
   },
   {
    "duration": 187,
    "start_time": "2022-10-27T00:15:15.966Z"
   },
   {
    "duration": 173,
    "start_time": "2022-10-27T00:15:16.154Z"
   },
   {
    "duration": 199,
    "start_time": "2022-10-27T00:15:16.329Z"
   },
   {
    "duration": 457,
    "start_time": "2022-10-27T00:15:16.530Z"
   },
   {
    "duration": 211,
    "start_time": "2022-10-27T00:15:16.990Z"
   },
   {
    "duration": 8,
    "start_time": "2022-10-27T00:15:17.204Z"
   },
   {
    "duration": 4,
    "start_time": "2022-10-27T00:15:17.213Z"
   },
   {
    "duration": 141,
    "start_time": "2022-10-27T00:15:17.219Z"
   },
   {
    "duration": 137,
    "start_time": "2022-10-27T00:15:17.362Z"
   },
   {
    "duration": 146,
    "start_time": "2022-10-27T00:15:17.500Z"
   },
   {
    "duration": 150,
    "start_time": "2022-10-27T00:15:17.648Z"
   },
   {
    "duration": 128,
    "start_time": "2022-10-27T00:15:17.800Z"
   },
   {
    "duration": 173,
    "start_time": "2022-10-27T00:15:17.930Z"
   },
   {
    "duration": 169,
    "start_time": "2022-10-27T00:15:18.104Z"
   },
   {
    "duration": 193,
    "start_time": "2022-10-27T00:15:18.275Z"
   },
   {
    "duration": 1313,
    "start_time": "2022-10-27T00:15:18.469Z"
   },
   {
    "duration": 0,
    "start_time": "2022-10-27T00:15:19.784Z"
   },
   {
    "duration": 0,
    "start_time": "2022-10-27T00:15:19.787Z"
   },
   {
    "duration": 0,
    "start_time": "2022-10-27T00:15:19.788Z"
   },
   {
    "duration": 0,
    "start_time": "2022-10-27T00:15:19.789Z"
   },
   {
    "duration": 0,
    "start_time": "2022-10-27T00:15:19.790Z"
   },
   {
    "duration": 227,
    "start_time": "2022-10-27T00:16:38.031Z"
   },
   {
    "duration": 3082,
    "start_time": "2022-10-27T08:24:22.839Z"
   },
   {
    "duration": 49,
    "start_time": "2022-10-27T08:24:25.923Z"
   },
   {
    "duration": 7797,
    "start_time": "2022-10-27T08:24:25.973Z"
   },
   {
    "duration": 4,
    "start_time": "2022-10-27T08:24:33.772Z"
   },
   {
    "duration": 19,
    "start_time": "2022-10-27T08:24:33.778Z"
   },
   {
    "duration": 7,
    "start_time": "2022-10-27T08:24:33.798Z"
   },
   {
    "duration": 27,
    "start_time": "2022-10-27T08:24:33.806Z"
   },
   {
    "duration": 24,
    "start_time": "2022-10-27T08:24:33.836Z"
   },
   {
    "duration": 7,
    "start_time": "2022-10-27T08:24:33.862Z"
   },
   {
    "duration": 21,
    "start_time": "2022-10-27T08:24:33.871Z"
   },
   {
    "duration": 28,
    "start_time": "2022-10-27T08:24:33.894Z"
   },
   {
    "duration": 281,
    "start_time": "2022-10-27T08:24:33.923Z"
   },
   {
    "duration": 5,
    "start_time": "2022-10-27T08:24:34.206Z"
   },
   {
    "duration": 35,
    "start_time": "2022-10-27T08:24:34.213Z"
   },
   {
    "duration": 193,
    "start_time": "2022-10-27T08:24:34.249Z"
   },
   {
    "duration": 194,
    "start_time": "2022-10-27T08:24:34.443Z"
   },
   {
    "duration": 255,
    "start_time": "2022-10-27T08:24:34.640Z"
   },
   {
    "duration": 171,
    "start_time": "2022-10-27T08:24:34.980Z"
   },
   {
    "duration": 197,
    "start_time": "2022-10-27T08:24:35.237Z"
   },
   {
    "duration": 175,
    "start_time": "2022-10-27T08:24:35.873Z"
   },
   {
    "duration": 177,
    "start_time": "2022-10-27T08:24:36.354Z"
   },
   {
    "duration": 183,
    "start_time": "2022-10-27T08:24:36.821Z"
   },
   {
    "duration": 180,
    "start_time": "2022-10-27T08:24:37.304Z"
   },
   {
    "duration": 194,
    "start_time": "2022-10-27T08:24:38.169Z"
   },
   {
    "duration": 162,
    "start_time": "2022-10-27T08:24:38.924Z"
   },
   {
    "duration": 417,
    "start_time": "2022-10-27T08:24:40.160Z"
   },
   {
    "duration": 197,
    "start_time": "2022-10-27T08:24:43.289Z"
   },
   {
    "duration": 8,
    "start_time": "2022-10-27T08:24:43.614Z"
   },
   {
    "duration": 3,
    "start_time": "2022-10-27T08:24:43.950Z"
   },
   {
    "duration": 122,
    "start_time": "2022-10-27T08:24:44.209Z"
   },
   {
    "duration": 132,
    "start_time": "2022-10-27T08:24:44.605Z"
   },
   {
    "duration": 133,
    "start_time": "2022-10-27T08:24:45.519Z"
   },
   {
    "duration": 136,
    "start_time": "2022-10-27T08:24:49.891Z"
   },
   {
    "duration": 128,
    "start_time": "2022-10-27T08:24:50.475Z"
   },
   {
    "duration": 171,
    "start_time": "2022-10-27T08:24:57.621Z"
   },
   {
    "duration": 165,
    "start_time": "2022-10-27T08:25:02.806Z"
   },
   {
    "duration": 188,
    "start_time": "2022-10-27T08:25:03.197Z"
   },
   {
    "duration": 227,
    "start_time": "2022-10-27T08:25:03.857Z"
   },
   {
    "duration": 75,
    "start_time": "2022-10-27T08:26:43.925Z"
   },
   {
    "duration": 129,
    "start_time": "2022-10-27T08:26:51.503Z"
   },
   {
    "duration": 117,
    "start_time": "2022-10-27T08:26:53.767Z"
   }
  ],
  "kernelspec": {
   "display_name": "Python 3 (ipykernel)",
   "language": "python",
   "name": "python3"
  },
  "language_info": {
   "codemirror_mode": {
    "name": "ipython",
    "version": 3
   },
   "file_extension": ".py",
   "mimetype": "text/x-python",
   "name": "python",
   "nbconvert_exporter": "python",
   "pygments_lexer": "ipython3",
   "version": "3.9.12"
  },
  "toc": {
   "base_numbering": 1,
   "nav_menu": {},
   "number_sections": true,
   "sideBar": true,
   "skip_h1_title": true,
   "title_cell": "Table of Contents",
   "title_sidebar": "Contents",
   "toc_cell": false,
   "toc_position": {
    "height": "calc(100% - 180px)",
    "left": "10px",
    "top": "150px",
    "width": "331px"
   },
   "toc_section_display": true,
   "toc_window_display": false
  }
 },
 "nbformat": 4,
 "nbformat_minor": 2
}
